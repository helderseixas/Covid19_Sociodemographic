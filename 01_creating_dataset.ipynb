{
 "cells": [
  {
   "cell_type": "code",
   "id": "initial_id",
   "metadata": {
    "collapsed": true,
    "ExecuteTime": {
     "end_time": "2024-05-24T02:11:46.317540Z",
     "start_time": "2024-05-24T02:11:46.314655Z"
    }
   },
   "source": "import pandas as pd",
   "execution_count": 14,
   "outputs": []
  },
  {
   "metadata": {},
   "cell_type": "markdown",
   "source": "# Creating dataset with sociodemographic variables to analysis",
   "id": "3c19bc1e785e5ad8"
  },
  {
   "metadata": {},
   "cell_type": "markdown",
   "source": "## Loading data",
   "id": "8d9d1fa75f7ca798"
  },
  {
   "metadata": {
    "ExecuteTime": {
     "end_time": "2024-05-24T02:11:46.482471Z",
     "start_time": "2024-05-24T02:11:46.421850Z"
    }
   },
   "cell_type": "code",
   "source": "df = pd.read_csv('data/input/df_sociodemographic.csv', index_col=0)",
   "id": "9ee32e346c9aa096",
   "execution_count": 15,
   "outputs": []
  },
  {
   "metadata": {},
   "cell_type": "markdown",
   "source": "## Treating data",
   "id": "2d186df44aadc407"
  },
  {
   "metadata": {
    "ExecuteTime": {
     "end_time": "2024-05-24T02:11:46.489086Z",
     "start_time": "2024-05-24T02:11:46.483960Z"
    }
   },
   "cell_type": "code",
   "source": "df_dataset = df[['codigo_municipio_7','municipio', 'População residente (Pessoas)', 'latitude', 'longitude']].copy()",
   "id": "6e8942beb914df02",
   "execution_count": 16,
   "outputs": []
  },
  {
   "metadata": {
    "ExecuteTime": {
     "end_time": "2024-05-24T02:11:46.539669Z",
     "start_time": "2024-05-24T02:11:46.491339Z"
    }
   },
   "cell_type": "code",
   "source": "df_dataset = df_dataset.rename(columns={'codigo_municipio_7': 'code_municipality_7', 'municipio': 'municipality', 'População residente (Pessoas)': 'population'})",
   "id": "5c0e249d0dacf041",
   "execution_count": 17,
   "outputs": []
  },
  {
   "metadata": {},
   "cell_type": "markdown",
   "source": "### Percentual population by age range",
   "id": "e43c9bf277524c93"
  },
  {
   "metadata": {
    "ExecuteTime": {
     "end_time": "2024-05-24T02:11:46.601770Z",
     "start_time": "2024-05-24T02:11:46.541590Z"
    }
   },
   "cell_type": "code",
   "source": [
    "df['population_age_range_0_19'] = df['0 a 4 anos'] + df['5 a 9 anos'] + df['10 a 14 anos'] + df['15 a 19 anos']\n",
    "df['population_age_range_20_39'] = df['20 a 24 anos'] + df['25 a 29 anos'] + df['30 a 34 anos'] + df['35 a 39 anos']\n",
    "df['population_age_range_40_59'] = df['40 a 44 anos'] + df['45 a 49 anos'] + df['50 a 54 anos'] + df['55 a 59 anos']\n",
    "df['population_age_range_60_more'] = df['60 a 64 anos'] + df['65 a 69 anos'] + df['70 a 74 anos'] + df['75 a 79 anos'] + df['80 a 84 anos'] + df['85 a 89 anos'] + df['90 a 94 anos'] + df['95 a 99 anos'] + df['100 anos ou mais']"
   ],
   "id": "46ceb098a6cbc4ee",
   "execution_count": 18,
   "outputs": []
  },
  {
   "metadata": {
    "ExecuteTime": {
     "end_time": "2024-05-24T02:11:46.650096Z",
     "start_time": "2024-05-24T02:11:46.605521Z"
    }
   },
   "cell_type": "code",
   "source": [
    "df_dataset['percentage_population_age_range_0_19'] = df['population_age_range_0_19'] / df['População residente (Pessoas)'] * 100\n",
    "df_dataset['percentage_population_age_range_20_39'] = df['population_age_range_20_39'] / df['População residente (Pessoas)'] * 100\n",
    "df_dataset['percentage_population_age_range_40_59'] = df['population_age_range_40_59'] / df['População residente (Pessoas)'] * 100\n",
    "df_dataset['percentage_population_age_range_60_more'] = df['population_age_range_60_more'] / df['População residente (Pessoas)'] * 100"
   ],
   "id": "89ee2316dd2cf906",
   "execution_count": 19,
   "outputs": []
  },
  {
   "metadata": {},
   "cell_type": "markdown",
   "source": "### Demographic attributes",
   "id": "d8d498bef4726e77"
  },
  {
   "metadata": {
    "ExecuteTime": {
     "end_time": "2024-05-24T02:11:46.717214Z",
     "start_time": "2024-05-24T02:11:46.651480Z"
    }
   },
   "cell_type": "code",
   "source": [
    "df_dataset['percentage_urban_population'] = df['populacao_urbana'] / df['populacao_2010'] * 100\n",
    "df_dataset['demographic_density'] = df['Densidade demográfica (Habitante por quilômetro quadrado)']\n",
    "df_dataset['average_residents_per_households'] = df['Média de moradores em domicílios particulares permanentes ocupados (Pessoas)']\n",
    "df_dataset['percentage_population_in_households_more_2_residents_per_bedroom'] = df['percentual_populacao_vive_domicilios_densidade_maior_2_por_dormitorio']\n",
    "df_dataset['percentage_male_population'] = df['Percentual Homens']\n",
    "df_dataset['percentage_indigenous_population'] = df['percentual_declara_indigena']\n",
    "df_dataset['percentage_black_and_brown_population'] = df['percentual_cor_raca_preta'] + df['percentual_cor_raca_parda']\n",
    "df_dataset['life_expectancy_at_birth'] = df['espectativa_vida_ao_nascer']"
   ],
   "id": "1a0b068a644ecd2f",
   "execution_count": 20,
   "outputs": []
  },
  {
   "metadata": {},
   "cell_type": "markdown",
   "source": "### Income and poverty",
   "id": "7c58a5570e6d7ff3"
  },
  {
   "metadata": {
    "ExecuteTime": {
     "end_time": "2024-05-24T02:11:46.770144Z",
     "start_time": "2024-05-24T02:11:46.718552Z"
    }
   },
   "cell_type": "code",
   "source": [
    "df_dataset['per_capita_income'] = df['renda_per_capita']\n",
    "df_dataset['gini'] = df['gini']\n",
    "df_dataset['per_capita_cash_transfer_program'] = df['transferencia_percapita_bolsa_familia']"
   ],
   "id": "19d12e49bfa7e124",
   "execution_count": 21,
   "outputs": []
  },
  {
   "metadata": {},
   "cell_type": "markdown",
   "source": "### Informal settlements",
   "id": "1d43b1a9a55aed72"
  },
  {
   "metadata": {
    "ExecuteTime": {
     "end_time": "2024-05-24T02:11:46.818125Z",
     "start_time": "2024-05-24T02:11:46.772112Z"
    }
   },
   "cell_type": "code",
   "source": [
    "df_dataset['percentage_estimated_households_in_informal_settlements'] = df['percentual_domicilios_aglomerados_subnormais_estimado']\n",
    "df_dataset['percentage_population_in_informal_settlements'] = df['populacao_aglomerados'] / df['populacao_2010'] * 100\n",
    "df_dataset['demographic_density_in_informal_settlements'] = df['densidade_demografica_aglomerados']"
   ],
   "id": "e0350984ef242072",
   "execution_count": 22,
   "outputs": []
  },
  {
   "metadata": {},
   "cell_type": "markdown",
   "source": "### Basic sanitation",
   "id": "72609a60d3303476"
  },
  {
   "metadata": {
    "ExecuteTime": {
     "end_time": "2024-05-24T02:11:46.875238Z",
     "start_time": "2024-05-24T02:11:46.819769Z"
    }
   },
   "cell_type": "code",
   "source": [
    "df_dataset['percentage_population_in_households_without_bathroom'] = 100 - df['percentual_moradores_domicilios_com_banheiro']\n",
    "df_dataset['percentage_hospitalizations_diseases_inadequate_sanitation'] = df['percentual_internacoes_doencas_saneamento_inadequado']"
   ],
   "id": "7f52141a9e189a97",
   "execution_count": 23,
   "outputs": []
  },
  {
   "metadata": {},
   "cell_type": "markdown",
   "source": "### Labor market",
   "id": "539020600828ec80"
  },
  {
   "metadata": {
    "ExecuteTime": {
     "end_time": "2024-05-24T02:11:46.945836Z",
     "start_time": "2024-05-24T02:11:46.876792Z"
    }
   },
   "cell_type": "code",
   "source": [
    "df_dataset['activity_rate'] = df['taxa_atividade']\n",
    "df_dataset['percentage_self_employed_workers'] = df['percentual_trabalhadores_conta_propria']\n",
    "df_dataset['unemployment_rate'] = df['taxa_desocupacao']\n",
    "df_dataset['percentage_informal_workers'] = 100 - df['percentual_trabalhadores_formais']\n",
    "df_dataset['percentage_poor_population_spending_more_1_hour_to_work'] = df['percentual_populacao_vulneravel_pobreza_gastam_mais_uma_hora_trabalho']\n",
    "df_dataset['percentage_workers_agriculture'] = df['percentual_ocupados_agropecuaria']\n",
    "df_dataset['percentage_workers_commerce'] = df['percentual_ocupados_comercio']\n",
    "df_dataset['percentage_workers_services'] = df['percentual_ocupados_servico']\n",
    "df_dataset['percentage_workers_industry'] = df['percentual_ocupados_industria']"
   ],
   "id": "6c58dbf588d124ec",
   "execution_count": 24,
   "outputs": []
  },
  {
   "metadata": {},
   "cell_type": "markdown",
   "source": "### Education",
   "id": "556f8681cbc4de48"
  },
  {
   "metadata": {
    "ExecuteTime": {
     "end_time": "2024-05-24T02:11:46.994542Z",
     "start_time": "2024-05-24T02:11:46.947254Z"
    }
   },
   "cell_type": "code",
   "source": [
    "df_dataset['illiteracy_rate'] = 100 - df['taxa_alfabetizacao']\n",
    "df_dataset['expected_years_of_schooling_at_age_18'] = df['espectativa_anos_estudo_aos_18_anos']"
   ],
   "id": "4fe063fec655de9f",
   "execution_count": 25,
   "outputs": []
  },
  {
   "metadata": {},
   "cell_type": "markdown",
   "source": "## Saving data",
   "id": "8103921d3c06a83e"
  },
  {
   "metadata": {
    "ExecuteTime": {
     "end_time": "2024-05-24T02:11:47.208709Z",
     "start_time": "2024-05-24T02:11:46.996078Z"
    }
   },
   "cell_type": "code",
   "source": "df_dataset.to_csv('data/output/df_dataset.csv', index=True)",
   "id": "84d63b189f5bd8fb",
   "execution_count": 26,
   "outputs": []
  }
 ],
 "metadata": {
  "kernelspec": {
   "display_name": "Python 3",
   "language": "python",
   "name": "python3"
  },
  "language_info": {
   "codemirror_mode": {
    "name": "ipython",
    "version": 2
   },
   "file_extension": ".py",
   "mimetype": "text/x-python",
   "name": "python",
   "nbconvert_exporter": "python",
   "pygments_lexer": "ipython2",
   "version": "2.7.6"
  }
 },
 "nbformat": 4,
 "nbformat_minor": 5
}
