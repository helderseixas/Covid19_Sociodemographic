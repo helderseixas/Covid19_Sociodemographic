{
 "cells": [
  {
   "metadata": {},
   "cell_type": "markdown",
   "source": "# Extracting effectively domiciled area of census sectors",
   "id": "bcfb8f7c0bea7609"
  },
  {
   "metadata": {
    "ExecuteTime": {
     "end_time": "2024-12-27T02:27:17.098703Z",
     "start_time": "2024-12-27T02:27:16.891522Z"
    }
   },
   "cell_type": "code",
   "source": [
    "import pandas as pd\n",
    "import numpy as np\n",
    "import matplotlib.pyplot as plt"
   ],
   "id": "c05cf27969c77546",
   "outputs": [],
   "execution_count": 78
  },
  {
   "metadata": {},
   "cell_type": "markdown",
   "source": "## Loading data",
   "id": "98130b4e3c700ee4"
  },
  {
   "metadata": {
    "ExecuteTime": {
     "end_time": "2024-12-27T02:27:18.213962Z",
     "start_time": "2024-12-27T02:27:17.134706Z"
    }
   },
   "cell_type": "code",
   "source": [
    "df = pd.read_csv('data/output/df_effectively_domiciled_area.csv')\n",
    "df = df.dropna()\n",
    "df = df.loc[df['DENSIDADE_DEMOGRAFICA_DOMICILIADA_HAB_KM2']!=np.inf]"
   ],
   "id": "cba6fece1545fedf",
   "outputs": [],
   "execution_count": 79
  },
  {
   "metadata": {},
   "cell_type": "markdown",
   "source": "## Analysis",
   "id": "2630fed93026cbe8"
  },
  {
   "metadata": {},
   "cell_type": "markdown",
   "source": "### Quantity",
   "id": "a2cf463a0c5ecdca"
  },
  {
   "metadata": {
    "ExecuteTime": {
     "end_time": "2024-12-27T02:27:19.467726Z",
     "start_time": "2024-12-27T02:27:18.366019Z"
    }
   },
   "cell_type": "code",
   "source": "df[['municipality_id','CD_SETOR']].groupby('municipality_id').count().describe()",
   "id": "7edc0fbf6b1c0d22",
   "outputs": [
    {
     "data": {
      "text/plain": [
       "           CD_SETOR\n",
       "count   5570.000000\n",
       "mean      63.698923\n",
       "std      457.642495\n",
       "min        1.000000\n",
       "25%        7.000000\n",
       "50%       14.000000\n",
       "75%       35.000000\n",
       "max    27035.000000"
      ],
      "text/html": [
       "<div>\n",
       "<style scoped>\n",
       "    .dataframe tbody tr th:only-of-type {\n",
       "        vertical-align: middle;\n",
       "    }\n",
       "\n",
       "    .dataframe tbody tr th {\n",
       "        vertical-align: top;\n",
       "    }\n",
       "\n",
       "    .dataframe thead th {\n",
       "        text-align: right;\n",
       "    }\n",
       "</style>\n",
       "<table border=\"1\" class=\"dataframe\">\n",
       "  <thead>\n",
       "    <tr style=\"text-align: right;\">\n",
       "      <th></th>\n",
       "      <th>CD_SETOR</th>\n",
       "    </tr>\n",
       "  </thead>\n",
       "  <tbody>\n",
       "    <tr>\n",
       "      <th>count</th>\n",
       "      <td>5570.000000</td>\n",
       "    </tr>\n",
       "    <tr>\n",
       "      <th>mean</th>\n",
       "      <td>63.698923</td>\n",
       "    </tr>\n",
       "    <tr>\n",
       "      <th>std</th>\n",
       "      <td>457.642495</td>\n",
       "    </tr>\n",
       "    <tr>\n",
       "      <th>min</th>\n",
       "      <td>1.000000</td>\n",
       "    </tr>\n",
       "    <tr>\n",
       "      <th>25%</th>\n",
       "      <td>7.000000</td>\n",
       "    </tr>\n",
       "    <tr>\n",
       "      <th>50%</th>\n",
       "      <td>14.000000</td>\n",
       "    </tr>\n",
       "    <tr>\n",
       "      <th>75%</th>\n",
       "      <td>35.000000</td>\n",
       "    </tr>\n",
       "    <tr>\n",
       "      <th>max</th>\n",
       "      <td>27035.000000</td>\n",
       "    </tr>\n",
       "  </tbody>\n",
       "</table>\n",
       "</div>"
      ]
     },
     "execution_count": 80,
     "metadata": {},
     "output_type": "execute_result"
    }
   ],
   "execution_count": 80
  },
  {
   "metadata": {},
   "cell_type": "markdown",
   "source": "### Mean",
   "id": "1222a70c33339666"
  },
  {
   "metadata": {
    "ExecuteTime": {
     "end_time": "2024-12-27T02:27:19.708728Z",
     "start_time": "2024-12-27T02:27:19.697078Z"
    }
   },
   "cell_type": "code",
   "source": "df.columns",
   "id": "a1a5247d5c25be4",
   "outputs": [
    {
     "data": {
      "text/plain": [
       "Index(['CD_SETOR', 'v0001', 'DENSIDADE_DEMOGRAFICA_DOMICILIADA_HAB_KM2',\n",
       "       'municipality_id', 'municipio', 'População residente (Pessoas)'],\n",
       "      dtype='object')"
      ]
     },
     "execution_count": 81,
     "metadata": {},
     "output_type": "execute_result"
    }
   ],
   "execution_count": 81
  },
  {
   "metadata": {
    "ExecuteTime": {
     "end_time": "2024-12-27T02:27:19.854115Z",
     "start_time": "2024-12-27T02:27:19.779872Z"
    }
   },
   "cell_type": "code",
   "source": "df.groupby('municipality_id')['DENSIDADE_DEMOGRAFICA_DOMICILIADA_HAB_KM2'].mean().describe()",
   "id": "61e9ab57e1418625",
   "outputs": [
    {
     "data": {
      "text/plain": [
       "count     5570.000000\n",
       "mean      3327.570872\n",
       "std       2526.734396\n",
       "min        174.704894\n",
       "25%       1776.639527\n",
       "50%       2793.063236\n",
       "75%       4097.822236\n",
       "max      34978.456658\n",
       "Name: DENSIDADE_DEMOGRAFICA_DOMICILIADA_HAB_KM2, dtype: float64"
      ]
     },
     "execution_count": 82,
     "metadata": {},
     "output_type": "execute_result"
    }
   ],
   "execution_count": 82
  },
  {
   "metadata": {
    "ExecuteTime": {
     "end_time": "2024-12-27T02:27:26.482472Z",
     "start_time": "2024-12-27T02:27:25.869153Z"
    }
   },
   "cell_type": "code",
   "source": "df.groupby('municipality_id')['DENSIDADE_DEMOGRAFICA_DOMICILIADA_HAB_KM2'].mean().hist(bins=200)",
   "id": "51d64580b9c89001",
   "outputs": [
    {
     "data": {
      "text/plain": [
       "<Axes: >"
      ]
     },
     "execution_count": 83,
     "metadata": {},
     "output_type": "execute_result"
    },
    {
     "data": {
      "text/plain": [
       "<Figure size 432x288 with 1 Axes>"
      ],
      "image/png": "[encoded data removed]"
     },
     "metadata": {
      "needs_background": "light"
     },
     "output_type": "display_data"
    }
   ],
   "execution_count": 83
  },
  {
   "metadata": {},
   "cell_type": "markdown",
   "source": "### Median",
   "id": "1e64ca471853e87f"
  },
  {
   "metadata": {
    "ExecuteTime": {
     "end_time": "2024-12-27T02:27:26.563103Z",
     "start_time": "2024-12-27T02:27:26.534029Z"
    }
   },
   "cell_type": "code",
   "source": "df.groupby('municipality_id')['DENSIDADE_DEMOGRAFICA_DOMICILIADA_HAB_KM2'].median().describe()",
   "id": "49d97109e00c77f8",
   "outputs": [
    {
     "data": {
      "text/plain": [
       "count     5570.000000\n",
       "mean      2878.211402\n",
       "std       2042.238601\n",
       "min         91.500610\n",
       "25%       1582.777979\n",
       "50%       2445.051661\n",
       "75%       3605.789132\n",
       "max      25460.636516\n",
       "Name: DENSIDADE_DEMOGRAFICA_DOMICILIADA_HAB_KM2, dtype: float64"
      ]
     },
     "execution_count": 84,
     "metadata": {},
     "output_type": "execute_result"
    }
   ],
   "execution_count": 84
  },
  {
   "metadata": {
    "ExecuteTime": {
     "end_time": "2024-12-27T02:27:27.081600Z",
     "start_time": "2024-12-27T02:27:26.620700Z"
    }
   },
   "cell_type": "code",
   "source": "df.groupby('municipality_id')['DENSIDADE_DEMOGRAFICA_DOMICILIADA_HAB_KM2'].median().hist(bins=200)",
   "id": "d945924a32c210c0",
   "outputs": [
    {
     "data": {
      "text/plain": [
       "<Axes: >"
      ]
     },
     "execution_count": 85,
     "metadata": {},
     "output_type": "execute_result"
    },
    {
     "data": {
      "text/plain": [
       "<Figure size 432x288 with 1 Axes>"
      ],
      "image/png": "[encoded data removed]"
     },
     "metadata": {
      "needs_background": "light"
     },
     "output_type": "display_data"
    }
   ],
   "execution_count": 85
  },
  {
   "metadata": {},
   "cell_type": "markdown",
   "source": "## Pareto analysis",
   "id": "9073da91775d3f4e"
  },
  {
   "metadata": {
    "ExecuteTime": {
     "end_time": "2024-12-27T02:27:27.209487Z",
     "start_time": "2024-12-27T02:27:27.125312Z"
    }
   },
   "cell_type": "code",
   "source": [
    "df = df.sort_values(by='DENSIDADE_DEMOGRAFICA_DOMICILIADA_HAB_KM2', ascending=False)\n",
    "df['DENSIDADE_DEMOGRAFICA_DOMICILIADA_HAB_KM2'] = df['DENSIDADE_DEMOGRAFICA_DOMICILIADA_HAB_KM2'].round(2)"
   ],
   "id": "2d5fbe20a4d22f18",
   "outputs": [],
   "execution_count": 86
  },
  {
   "metadata": {
    "ExecuteTime": {
     "end_time": "2024-12-27T02:29:18.515353Z",
     "start_time": "2024-12-27T02:27:27.224625Z"
    }
   },
   "cell_type": "code",
   "source": [
    "df_pareto = pd.DataFrame()\n",
    "\n",
    "for municipality in df['municipio'].unique():\n",
    "    df_municipality = df.loc[df['municipio'] == municipality].copy()\n",
    "    total_municipality = len(df_municipality)\n",
    "    pareto_20 = round(total_municipality * 0.20)\n",
    "    df_municipality_pareto_20 = df_municipality.iloc[:pareto_20]\n",
    "    population_municipality = df_municipality['População residente (Pessoas)'].max()\n",
    "    population_pareto_20 = df_municipality_pareto_20['v0001'].sum()\n",
    "    pareto_20_coverage = population_pareto_20 / population_municipality * 100\n",
    "    pareto_20_median = df_municipality_pareto_20['DENSIDADE_DEMOGRAFICA_DOMICILIADA_HAB_KM2'].median()\n",
    "    municipality_id = df_municipality['municipality_id'].iloc[0]\n",
    "    df_temp = pd.DataFrame({'municipality_id': [municipality_id], 'municipio': [municipality], 'pareto_20_coverage': [pareto_20_coverage], 'pareto_20_median': [pareto_20_median]})\n",
    "    df_pareto = pd.concat([df_pareto, df_temp], ignore_index=True)\n"
   ],
   "id": "5fc3a83ddcb61b49",
   "outputs": [],
   "execution_count": 87
  },
  {
   "metadata": {
    "ExecuteTime": {
     "end_time": "2024-12-27T02:33:17.952024Z",
     "start_time": "2024-12-27T02:33:17.912742Z"
    }
   },
   "cell_type": "code",
   "source": "df_pareto",
   "id": "b87e519b2002d0d2",
   "outputs": [
    {
     "data": {
      "text/plain": [
       "      municipality_id                   municipio  pareto_20_coverage  \\\n",
       "0              330455         Rio de Janeiro (RJ)           22.075698   \n",
       "1              355030              São Paulo (SP)           19.439126   \n",
       "2              330100  Campos dos Goytacazes (RJ)           22.173049   \n",
       "3              230440              Fortaleza (CE)           19.327264   \n",
       "4              310620         Belo Horizonte (MG)           20.263651   \n",
       "...               ...                         ...                 ...   \n",
       "5565           431164             Linha Nova (RS)            0.000000   \n",
       "5566           430843            Forquetinha (RS)            0.000000   \n",
       "5567           432183        Três Forquilhas (RS)            0.000000   \n",
       "5568           430957              Herveiras (RS)            0.000000   \n",
       "5569           430107        Arroio do Padre (RS)            2.616391   \n",
       "\n",
       "      pareto_20_median  \n",
       "0            60083.595  \n",
       "1            62627.410  \n",
       "2            13159.160  \n",
       "3            32853.030  \n",
       "4            26920.890  \n",
       "...                ...  \n",
       "5565               NaN  \n",
       "5566               NaN  \n",
       "5567               NaN  \n",
       "5568               NaN  \n",
       "5569           195.040  \n",
       "\n",
       "[5570 rows x 4 columns]"
      ],
      "text/html": [
       "<div>\n",
       "<style scoped>\n",
       "    .dataframe tbody tr th:only-of-type {\n",
       "        vertical-align: middle;\n",
       "    }\n",
       "\n",
       "    .dataframe tbody tr th {\n",
       "        vertical-align: top;\n",
       "    }\n",
       "\n",
       "    .dataframe thead th {\n",
       "        text-align: right;\n",
       "    }\n",
       "</style>\n",
       "<table border=\"1\" class=\"dataframe\">\n",
       "  <thead>\n",
       "    <tr style=\"text-align: right;\">\n",
       "      <th></th>\n",
       "      <th>municipality_id</th>\n",
       "      <th>municipio</th>\n",
       "      <th>pareto_20_coverage</th>\n",
       "      <th>pareto_20_median</th>\n",
       "    </tr>\n",
       "  </thead>\n",
       "  <tbody>\n",
       "    <tr>\n",
       "      <th>0</th>\n",
       "      <td>330455</td>\n",
       "      <td>Rio de Janeiro (RJ)</td>\n",
       "      <td>22.075698</td>\n",
       "      <td>60083.595</td>\n",
       "    </tr>\n",
       "    <tr>\n",
       "      <th>1</th>\n",
       "      <td>355030</td>\n",
       "      <td>São Paulo (SP)</td>\n",
       "      <td>19.439126</td>\n",
       "      <td>62627.410</td>\n",
       "    </tr>\n",
       "    <tr>\n",
       "      <th>2</th>\n",
       "      <td>330100</td>\n",
       "      <td>Campos dos Goytacazes (RJ)</td>\n",
       "      <td>22.173049</td>\n",
       "      <td>13159.160</td>\n",
       "    </tr>\n",
       "    <tr>\n",
       "      <th>3</th>\n",
       "      <td>230440</td>\n",
       "      <td>Fortaleza (CE)</td>\n",
       "      <td>19.327264</td>\n",
       "      <td>32853.030</td>\n",
       "    </tr>\n",
       "    <tr>\n",
       "      <th>4</th>\n",
       "      <td>310620</td>\n",
       "      <td>Belo Horizonte (MG)</td>\n",
       "      <td>20.263651</td>\n",
       "      <td>26920.890</td>\n",
       "    </tr>\n",
       "    <tr>\n",
       "      <th>...</th>\n",
       "      <td>...</td>\n",
       "      <td>...</td>\n",
       "      <td>...</td>\n",
       "      <td>...</td>\n",
       "    </tr>\n",
       "    <tr>\n",
       "      <th>5565</th>\n",
       "      <td>431164</td>\n",
       "      <td>Linha Nova (RS)</td>\n",
       "      <td>0.000000</td>\n",
       "      <td>NaN</td>\n",
       "    </tr>\n",
       "    <tr>\n",
       "      <th>5566</th>\n",
       "      <td>430843</td>\n",
       "      <td>Forquetinha (RS)</td>\n",
       "      <td>0.000000</td>\n",
       "      <td>NaN</td>\n",
       "    </tr>\n",
       "    <tr>\n",
       "      <th>5567</th>\n",
       "      <td>432183</td>\n",
       "      <td>Três Forquilhas (RS)</td>\n",
       "      <td>0.000000</td>\n",
       "      <td>NaN</td>\n",
       "    </tr>\n",
       "    <tr>\n",
       "      <th>5568</th>\n",
       "      <td>430957</td>\n",
       "      <td>Herveiras (RS)</td>\n",
       "      <td>0.000000</td>\n",
       "      <td>NaN</td>\n",
       "    </tr>\n",
       "    <tr>\n",
       "      <th>5569</th>\n",
       "      <td>430107</td>\n",
       "      <td>Arroio do Padre (RS)</td>\n",
       "      <td>2.616391</td>\n",
       "      <td>195.040</td>\n",
       "    </tr>\n",
       "  </tbody>\n",
       "</table>\n",
       "<p>5570 rows × 4 columns</p>\n",
       "</div>"
      ]
     },
     "execution_count": 88,
     "metadata": {},
     "output_type": "execute_result"
    }
   ],
   "execution_count": 88
  },
  {
   "metadata": {
    "ExecuteTime": {
     "end_time": "2024-12-27T02:35:14.399547Z",
     "start_time": "2024-12-27T02:35:14.389644Z"
    }
   },
   "cell_type": "code",
   "source": "df_pareto['pareto_20_coverage'].describe()",
   "id": "822e5c7aa434298b",
   "outputs": [
    {
     "data": {
      "text/plain": [
       "count    5570.000000\n",
       "mean       15.854333\n",
       "std         7.468117\n",
       "min         0.000000\n",
       "25%        11.149259\n",
       "50%        15.999243\n",
       "75%        20.503824\n",
       "max        64.960123\n",
       "Name: pareto_20_coverage, dtype: float64"
      ]
     },
     "execution_count": 89,
     "metadata": {},
     "output_type": "execute_result"
    }
   ],
   "execution_count": 89
  },
  {
   "metadata": {},
   "cell_type": "markdown",
   "source": "## Saving data",
   "id": "7218325a85978317"
  },
  {
   "metadata": {
    "ExecuteTime": {
     "end_time": "2024-12-27T02:40:44.194714Z",
     "start_time": "2024-12-27T02:40:44.118534Z"
    }
   },
   "cell_type": "code",
   "source": [
    "df_effectively_domiciled_area = df.groupby(['municipality_id','municipio'])['DENSIDADE_DEMOGRAFICA_DOMICILIADA_HAB_KM2'].median().reset_index()\n",
    "df_effectively_domiciled_area.columns = ['municipality_id','municipality','density_median']"
   ],
   "id": "98eb38eb76a6a3f1",
   "outputs": [],
   "execution_count": 93
  },
  {
   "metadata": {
    "ExecuteTime": {
     "end_time": "2024-12-27T02:41:05.029126Z",
     "start_time": "2024-12-27T02:41:04.961268Z"
    }
   },
   "cell_type": "code",
   "source": "df_effectively_domiciled_area.to_csv('data/output/effectively_domiciled_area.csv', index=False)",
   "id": "4fc3a04b7a6bde44",
   "outputs": [],
   "execution_count": 95
  },
  {
   "metadata": {
    "ExecuteTime": {
     "end_time": "2024-12-27T02:41:11.998189Z",
     "start_time": "2024-12-27T02:41:11.984430Z"
    }
   },
   "cell_type": "code",
   "source": "df_effectively_domiciled_area",
   "id": "7e9a73496fd1c5df",
   "outputs": [
    {
     "data": {
      "text/plain": [
       "      municipality_id                municipality  density_median\n",
       "0              110001  Alta Floresta D'Oeste (RO)        1662.200\n",
       "1              110002              Ariquemes (RO)        3418.085\n",
       "2              110003                 Cabixi (RO)        1566.770\n",
       "3              110004                 Cacoal (RO)        2695.100\n",
       "4              110005             Cerejeiras (RO)        1956.175\n",
       "...               ...                         ...             ...\n",
       "5565           522200             Vianópolis (GO)        2447.270\n",
       "5566           522205         Vicentinópolis (GO)        2861.455\n",
       "5567           522220               Vila Boa (GO)        2501.470\n",
       "5568           522230          Vila Propício (GO)        1646.865\n",
       "5569           530010               Brasília (DF)        9163.020\n",
       "\n",
       "[5570 rows x 3 columns]"
      ],
      "text/html": [
       "<div>\n",
       "<style scoped>\n",
       "    .dataframe tbody tr th:only-of-type {\n",
       "        vertical-align: middle;\n",
       "    }\n",
       "\n",
       "    .dataframe tbody tr th {\n",
       "        vertical-align: top;\n",
       "    }\n",
       "\n",
       "    .dataframe thead th {\n",
       "        text-align: right;\n",
       "    }\n",
       "</style>\n",
       "<table border=\"1\" class=\"dataframe\">\n",
       "  <thead>\n",
       "    <tr style=\"text-align: right;\">\n",
       "      <th></th>\n",
       "      <th>municipality_id</th>\n",
       "      <th>municipality</th>\n",
       "      <th>density_median</th>\n",
       "    </tr>\n",
       "  </thead>\n",
       "  <tbody>\n",
       "    <tr>\n",
       "      <th>0</th>\n",
       "      <td>110001</td>\n",
       "      <td>Alta Floresta D'Oeste (RO)</td>\n",
       "      <td>1662.200</td>\n",
       "    </tr>\n",
       "    <tr>\n",
       "      <th>1</th>\n",
       "      <td>110002</td>\n",
       "      <td>Ariquemes (RO)</td>\n",
       "      <td>3418.085</td>\n",
       "    </tr>\n",
       "    <tr>\n",
       "      <th>2</th>\n",
       "      <td>110003</td>\n",
       "      <td>Cabixi (RO)</td>\n",
       "      <td>1566.770</td>\n",
       "    </tr>\n",
       "    <tr>\n",
       "      <th>3</th>\n",
       "      <td>110004</td>\n",
       "      <td>Cacoal (RO)</td>\n",
       "      <td>2695.100</td>\n",
       "    </tr>\n",
       "    <tr>\n",
       "      <th>4</th>\n",
       "      <td>110005</td>\n",
       "      <td>Cerejeiras (RO)</td>\n",
       "      <td>1956.175</td>\n",
       "    </tr>\n",
       "    <tr>\n",
       "      <th>...</th>\n",
       "      <td>...</td>\n",
       "      <td>...</td>\n",
       "      <td>...</td>\n",
       "    </tr>\n",
       "    <tr>\n",
       "      <th>5565</th>\n",
       "      <td>522200</td>\n",
       "      <td>Vianópolis (GO)</td>\n",
       "      <td>2447.270</td>\n",
       "    </tr>\n",
       "    <tr>\n",
       "      <th>5566</th>\n",
       "      <td>522205</td>\n",
       "      <td>Vicentinópolis (GO)</td>\n",
       "      <td>2861.455</td>\n",
       "    </tr>\n",
       "    <tr>\n",
       "      <th>5567</th>\n",
       "      <td>522220</td>\n",
       "      <td>Vila Boa (GO)</td>\n",
       "      <td>2501.470</td>\n",
       "    </tr>\n",
       "    <tr>\n",
       "      <th>5568</th>\n",
       "      <td>522230</td>\n",
       "      <td>Vila Propício (GO)</td>\n",
       "      <td>1646.865</td>\n",
       "    </tr>\n",
       "    <tr>\n",
       "      <th>5569</th>\n",
       "      <td>530010</td>\n",
       "      <td>Brasília (DF)</td>\n",
       "      <td>9163.020</td>\n",
       "    </tr>\n",
       "  </tbody>\n",
       "</table>\n",
       "<p>5570 rows × 3 columns</p>\n",
       "</div>"
      ]
     },
     "execution_count": 96,
     "metadata": {},
     "output_type": "execute_result"
    }
   ],
   "execution_count": 96
  }
 ],
 "metadata": {
  "kernelspec": {
   "display_name": "Python 3",
   "language": "python",
   "name": "python3"
  },
  "language_info": {
   "codemirror_mode": {
    "name": "ipython",
    "version": 2
   },
   "file_extension": ".py",
   "mimetype": "text/x-python",
   "name": "python",
   "nbconvert_exporter": "python",
   "pygments_lexer": "ipython2",
   "version": "2.7.6"
  }
 },
 "nbformat": 4,
 "nbformat_minor": 5
}
