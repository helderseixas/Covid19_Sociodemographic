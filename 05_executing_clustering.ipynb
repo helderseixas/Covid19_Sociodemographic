{
 "cells": [
  {
   "cell_type": "markdown",
   "metadata": {
    "collapsed": true
   },
   "source": "# Executing clustering to sociodemographic dataset"
  },
  {
   "cell_type": "code",
   "source": [
    "import pandas as pd\n",
    "from sklearn.mixture import GaussianMixture\n",
    "import numpy as np"
   ],
   "metadata": {
    "collapsed": false,
    "ExecuteTime": {
     "end_time": "2024-12-27T20:01:18.017534Z",
     "start_time": "2024-12-27T20:01:18.013952Z"
    }
   },
   "outputs": [],
   "execution_count": 2
  },
  {
   "metadata": {},
   "cell_type": "markdown",
   "source": "## Loading data"
  },
  {
   "cell_type": "markdown",
   "source": "## Parameters",
   "metadata": {
    "collapsed": false
   }
  },
  {
   "cell_type": "code",
   "source": [
    "total_executions = 200\n",
    "# total_executions = 1\n",
    "k_min = 2\n",
    "k_max = 7"
   ],
   "metadata": {
    "collapsed": false,
    "ExecuteTime": {
     "end_time": "2024-12-27T20:01:18.060508Z",
     "start_time": "2024-12-27T20:01:18.031610Z"
    }
   },
   "outputs": [],
   "execution_count": 3
  },
  {
   "cell_type": "markdown",
   "source": "## Clustering",
   "metadata": {
    "collapsed": false
   }
  },
  {
   "metadata": {
    "ExecuteTime": {
     "end_time": "2024-12-27T20:06:28.556440Z",
     "start_time": "2024-12-27T20:01:18.082276Z"
    }
   },
   "cell_type": "code",
   "source": [
    "dataset_name = 'df_standardized'\n",
    "# list_covariance_types = ['full', 'tied', 'diag', 'spherical']\n",
    "list_covariance_types = ['spherical']\n",
    "components = [2, 6]\n",
    "\n",
    "\n",
    "for component in components:\n",
    "    print('\\nComponent:', component)\n",
    "    df = pd.read_csv('data/'+dataset_name+'_pca_'+str(component)+'.csv', index_col=0)\n",
    "    for covariance_type in list_covariance_types:\n",
    "        print(covariance_type)\n",
    "        dict_k_y = {}\n",
    "\n",
    "        for k in range(k_min, k_max + 1):\n",
    "            print(k)\n",
    "            model = GaussianMixture(k, n_init=total_executions, covariance_type=covariance_type)\n",
    "            y = model.fit_predict(df)\n",
    "            dict_k_y[k] = y\n",
    "            df_probability_sociodemographic = pd.DataFrame(model.predict_proba(df), index=df.index)\n",
    "\n",
    "            filename_base = 'data/'+dataset_name+'_pca_'+str(component)+covariance_type+'_'+str(k)\n",
    "            df_probability_sociodemographic.to_csv(filename_base+'_probability.csv', index=True)\n",
    "            np.save(filename_base+'_weights.npy', model.weights_)\n",
    "            np.save(filename_base+'_means.npy', model.means_)\n",
    "            np.save(filename_base+'_precisions.npy', model.precisions_)\n",
    "\n",
    "        df_clustering_sociodemographic = pd.DataFrame(dict_k_y, index=df.index)\n",
    "        df_clustering_sociodemographic.to_csv('data/'+dataset_name+'_pca_'+str(component)+covariance_type+'_clustering.csv', index=True)"
   ],
   "outputs": [
    {
     "name": "stdout",
     "output_type": "stream",
     "text": [
      "\n",
      "Component: 2\n",
      "spherical\n",
      "2\n",
      "3\n",
      "4\n",
      "5\n",
      "6\n",
      "7\n",
      "\n",
      "Component: 6\n",
      "spherical\n",
      "2\n",
      "3\n",
      "4\n",
      "5\n",
      "6\n",
      "7\n"
     ]
    }
   ],
   "execution_count": 4
  }
 ],
 "metadata": {
  "kernelspec": {
   "display_name": "Python 3",
   "language": "python",
   "name": "python3"
  },
  "language_info": {
   "codemirror_mode": {
    "name": "ipython",
    "version": 2
   },
   "file_extension": ".py",
   "mimetype": "text/x-python",
   "name": "python",
   "nbconvert_exporter": "python",
   "pygments_lexer": "ipython2",
   "version": "2.7.6"
  }
 },
 "nbformat": 4,
 "nbformat_minor": 0
}
