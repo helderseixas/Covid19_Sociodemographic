{
 "cells": [
  {
   "cell_type": "markdown",
   "metadata": {
    "collapsed": true
   },
   "source": "# Extracting measures of thes clusterings"
  },
  {
   "cell_type": "code",
   "source": [
    "import pandas as pd\n",
    "from sklearn.metrics import silhouette_score, calinski_harabasz_score, davies_bouldin_score"
   ],
   "metadata": {
    "collapsed": false,
    "ExecuteTime": {
     "end_time": "2024-12-27T23:11:54.276602Z",
     "start_time": "2024-12-27T23:11:54.177930Z"
    }
   },
   "outputs": [],
   "execution_count": 1
  },
  {
   "cell_type": "code",
   "source": [
    "k_minimum = 2\n",
    "k_maximum = 7"
   ],
   "metadata": {
    "collapsed": false,
    "ExecuteTime": {
     "end_time": "2024-12-27T23:11:54.286392Z",
     "start_time": "2024-12-27T23:11:54.282618Z"
    }
   },
   "outputs": [],
   "execution_count": 2
  },
  {
   "cell_type": "code",
   "source": [
    "dataset_name = 'df_standardized'\n",
    "# list_covariance_types = ['full', 'tied', 'diag', 'spherical']\n",
    "list_covariance_types = ['spherical']\n",
    "components = [2, 6]\n",
    "\n",
    "\n",
    "for component in components:\n",
    "    print('Component:', component)\n",
    "\n",
    "    df = pd.read_csv('data/'+dataset_name+'_pca_'+str(component)+'.csv', index_col=0)\n",
    "\n",
    "    for covariance_type in list_covariance_types:\n",
    "        print(covariance_type)\n",
    "\n",
    "        df_y = pd.read_csv('data/'+dataset_name+'_pca_'+str(component)+covariance_type+'_clustering.csv', index_col=0)\n",
    "\n",
    "        dict_k_sc = {}\n",
    "        dict_k_ch = {}\n",
    "        dict_k_db = {}\n",
    "\n",
    "        for k in range(k_minimum, k_maximum + 1):\n",
    "            print(k)\n",
    "            k_string = str(k)\n",
    "            dict_k_sc[k] = silhouette_score(df, df_y[k_string])\n",
    "            dict_k_ch[k] = calinski_harabasz_score(df, df_y[k_string])\n",
    "            dict_k_db[k] = davies_bouldin_score(df, df_y[k_string])\n",
    "\n",
    "        df_measures = pd.DataFrame(data=[2,3,4,5,6,7], columns=['k'])\n",
    "        df_measures['sc'] = df_measures.k.map(dict_k_sc)\n",
    "        df_measures['ch'] = df_measures.k.map(dict_k_ch)\n",
    "        df_measures['db'] = df_measures.k.map(dict_k_db)\n",
    "\n",
    "        df_measures.to_csv('data/'+dataset_name+'_pca_'+str(component)+covariance_type+'_measures.csv', index=True)"
   ],
   "metadata": {
    "collapsed": false,
    "ExecuteTime": {
     "end_time": "2024-12-27T23:12:00.611873Z",
     "start_time": "2024-12-27T23:11:54.496215Z"
    }
   },
   "outputs": [
    {
     "name": "stdout",
     "output_type": "stream",
     "text": [
      "Component: 2\n",
      "spherical\n",
      "2\n",
      "3\n",
      "4\n",
      "5\n",
      "6\n",
      "7\n",
      "Component: 6\n",
      "spherical\n",
      "2\n",
      "3\n",
      "4\n",
      "5\n",
      "6\n",
      "7\n"
     ]
    }
   ],
   "execution_count": 3
  }
 ],
 "metadata": {
  "kernelspec": {
   "display_name": "Python 3",
   "language": "python",
   "name": "python3"
  },
  "language_info": {
   "codemirror_mode": {
    "name": "ipython",
    "version": 2
   },
   "file_extension": ".py",
   "mimetype": "text/x-python",
   "name": "python",
   "nbconvert_exporter": "python",
   "pygments_lexer": "ipython2",
   "version": "2.7.6"
  }
 },
 "nbformat": 4,
 "nbformat_minor": 0
}
