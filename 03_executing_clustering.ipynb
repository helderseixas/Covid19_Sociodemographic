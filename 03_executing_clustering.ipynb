{
 "cells": [
  {
   "cell_type": "markdown",
   "metadata": {
    "collapsed": true
   },
   "source": "# Executing clustering to sociodemographic dataset"
  },
  {
   "cell_type": "code",
   "source": [
    "import pandas as pd\n",
    "from sklearn.mixture import GaussianMixture\n",
    "import numpy as np"
   ],
   "metadata": {
    "collapsed": false,
    "ExecuteTime": {
     "end_time": "2024-06-01T02:52:54.947099Z",
     "start_time": "2024-06-01T02:52:54.750411Z"
    }
   },
   "outputs": [],
   "execution_count": 1
  },
  {
   "metadata": {},
   "cell_type": "markdown",
   "source": "## Loading data"
  },
  {
   "metadata": {
    "ExecuteTime": {
     "end_time": "2024-06-01T02:52:54.976178Z",
     "start_time": "2024-06-01T02:52:54.948346Z"
    }
   },
   "cell_type": "code",
   "source": "df_without_collinearity_standardized = pd.read_csv('data/output/df_without_collinearity_standardized.csv', index_col=0)",
   "outputs": [],
   "execution_count": 2
  },
  {
   "metadata": {
    "ExecuteTime": {
     "end_time": "2024-06-01T02:52:54.981888Z",
     "start_time": "2024-06-01T02:52:54.978023Z"
    }
   },
   "cell_type": "code",
   "source": [
    "features_without_collinearity = df_without_collinearity_standardized.columns\n",
    "\n",
    "features_to_transform = [\n",
    "    'percentage_estimated_households_in_informal_settlements', \n",
    "    'demographic_density_in_informal_settlements', \n",
    "    'percentage_hospitalizations_diseases_inadequate_sanitation',   \n",
    "    'percentage_indigenous_population'\n",
    "]\n",
    "features_without_collinearity_transformed = [\n",
    "    f'sqrt_{feature}' if feature in features_to_transform else feature \n",
    "    for feature in features_without_collinearity\n",
    "]\n",
    "\n",
    "features_to_transform = [\n",
    "    'demographic_density',  \n",
    "    'per_capita_income'\n",
    "]\n",
    "features_without_collinearity_transformed = [\n",
    "    f'log_{feature}' if feature in features_to_transform else feature \n",
    "    for feature in features_without_collinearity_transformed\n",
    "]"
   ],
   "outputs": [],
   "execution_count": 3
  },
  {
   "cell_type": "markdown",
   "source": "## Parameters",
   "metadata": {
    "collapsed": false
   }
  },
  {
   "cell_type": "code",
   "source": [
    "total_executions = 200\n",
    "# total_executions = 1\n",
    "k_min = 2\n",
    "k_max = 7"
   ],
   "metadata": {
    "collapsed": false,
    "ExecuteTime": {
     "end_time": "2024-06-01T02:52:54.989139Z",
     "start_time": "2024-06-01T02:52:54.983337Z"
    }
   },
   "outputs": [],
   "execution_count": 4
  },
  {
   "cell_type": "markdown",
   "source": "## Clustering",
   "metadata": {
    "collapsed": false
   }
  },
  {
   "metadata": {
    "ExecuteTime": {
     "end_time": "2024-06-01T03:52:03.081655Z",
     "start_time": "2024-06-01T02:52:54.990765Z"
    }
   },
   "cell_type": "code",
   "source": [
    "list_dataset_names = ['df_standardized', 'df_normalized_min_max', 'df_normalized_l2', 'df_normalized_l1', 'df_normalized_max']\n",
    "list_covariance_types = ['full', 'tied', 'diag', 'spherical']\n",
    "\n",
    "for dataset_name in list_dataset_names:\n",
    "    print(\"\\n *** DATASET NAME: \", dataset_name)\n",
    "    \n",
    "    # for dataset_type in ['features', 'pca']:\n",
    "    for dataset_type in ['pca']:\n",
    "        print(dataset_type)        \n",
    "                \n",
    "        # for set_features in ['all', 'without_collinearity']:\n",
    "        for set_features in ['without_collinearity']:\n",
    "            print(set_features)\n",
    "\n",
    "            if dataset_type == 'features':                \n",
    "                df_features = pd.read_csv('data/output/'+dataset_name+'.csv', index_col=0)\n",
    "                if set_features == 'all':\n",
    "                    df = df_features\n",
    "                elif dataset_name == 'df_standardized':\n",
    "                    df = df_features[features_without_collinearity]\n",
    "                else:\n",
    "                    df = df_features[features_without_collinearity_transformed]\n",
    "            else:                \n",
    "                if set_features == 'all':\n",
    "                    df = pd.read_csv('data/output/'+dataset_name+'_pca.csv', index_col=0)\n",
    "                else:\n",
    "                    df = pd.read_csv('data/output/'+dataset_name+'_without_collinearity_pca.csv', index_col=0)\n",
    "            \n",
    "            for covariance_type in list_covariance_types:  \n",
    "                print(covariance_type)\n",
    "                dict_k_y = {}\n",
    "                \n",
    "                for k in range(k_min, k_max + 1):\n",
    "                    print(k)\n",
    "                    model = GaussianMixture(k, n_init=total_executions, covariance_type=covariance_type)\n",
    "                    y = model.fit_predict(df)\n",
    "                    dict_k_y[k] = y    \n",
    "                    df_probability_sociodemographic = pd.DataFrame(model.predict_proba(df), index=df.index)\n",
    "                    \n",
    "                    filename_base = 'data/output/'+dataset_name+'_'+dataset_type+'_'+set_features+'_'+covariance_type+'_'+str(k)                   \n",
    "                    df_probability_sociodemographic.to_csv(filename_base+'_probability.csv', index=True)                    \n",
    "                    np.save(filename_base+'_weights.npy', model.weights_)                    \n",
    "                    np.save(filename_base+'_means.npy', model.means_)                    \n",
    "                    np.save(filename_base+'_precisions.npy', model.precisions_)\n",
    "                \n",
    "                df_clustering_sociodemographic = pd.DataFrame(dict_k_y, index=df.index)                \n",
    "                df_clustering_sociodemographic.to_csv('data/output/'+dataset_name+'_'+dataset_type+'_'+set_features+'_'+covariance_type+'_clustering.csv', index=True)   "
   ],
   "outputs": [
    {
     "name": "stdout",
     "output_type": "stream",
     "text": [
      "\n",
      " *** DATASET NAME:  df_standardized\n",
      "pca\n",
      "without_collinearity\n",
      "full\n",
      "2\n",
      "3\n",
      "4\n",
      "5\n",
      "6\n",
      "7\n",
      "tied\n",
      "2\n",
      "3\n",
      "4\n",
      "5\n",
      "6\n",
      "7\n",
      "diag\n",
      "2\n",
      "3\n",
      "4\n",
      "5\n",
      "6\n",
      "7\n",
      "spherical\n",
      "2\n",
      "3\n",
      "4\n",
      "5\n",
      "6\n",
      "7\n",
      "\n",
      " *** DATASET NAME:  df_normalized_min_max\n",
      "pca\n",
      "without_collinearity\n",
      "full\n",
      "2\n",
      "3\n",
      "4\n",
      "5\n",
      "6\n",
      "7\n",
      "tied\n",
      "2\n",
      "3\n",
      "4\n",
      "5\n",
      "6\n",
      "7\n",
      "diag\n",
      "2\n",
      "3\n",
      "4\n",
      "5\n",
      "6\n",
      "7\n",
      "spherical\n",
      "2\n",
      "3\n",
      "4\n",
      "5\n",
      "6\n",
      "7\n",
      "\n",
      " *** DATASET NAME:  df_normalized_l2\n",
      "pca\n",
      "without_collinearity\n",
      "full\n",
      "2\n",
      "3\n",
      "4\n",
      "5\n",
      "6\n",
      "7\n",
      "tied\n",
      "2\n",
      "3\n",
      "4\n",
      "5\n",
      "6\n",
      "7\n",
      "diag\n",
      "2\n",
      "3\n",
      "4\n",
      "5\n",
      "6\n",
      "7\n",
      "spherical\n",
      "2\n",
      "3\n",
      "4\n",
      "5\n",
      "6\n",
      "7\n",
      "\n",
      " *** DATASET NAME:  df_normalized_l1\n",
      "pca\n",
      "without_collinearity\n",
      "full\n",
      "2\n",
      "3\n",
      "4\n",
      "5\n",
      "6\n",
      "7\n",
      "tied\n",
      "2\n",
      "3\n",
      "4\n",
      "5\n",
      "6\n",
      "7\n",
      "diag\n",
      "2\n",
      "3\n",
      "4\n",
      "5\n",
      "6\n",
      "7\n",
      "spherical\n",
      "2\n",
      "3\n",
      "4\n",
      "5\n",
      "6\n",
      "7\n",
      "\n",
      " *** DATASET NAME:  df_normalized_max\n",
      "pca\n",
      "without_collinearity\n",
      "full\n",
      "2\n",
      "3\n",
      "4\n",
      "5\n",
      "6\n",
      "7\n",
      "tied\n",
      "2\n",
      "3\n",
      "4\n",
      "5\n",
      "6\n",
      "7\n",
      "diag\n",
      "2\n",
      "3\n",
      "4\n",
      "5\n",
      "6\n",
      "7\n",
      "spherical\n",
      "2\n",
      "3\n",
      "4\n",
      "5\n",
      "6\n",
      "7\n"
     ]
    }
   ],
   "execution_count": 5
  }
 ],
 "metadata": {
  "kernelspec": {
   "display_name": "Python 3",
   "language": "python",
   "name": "python3"
  },
  "language_info": {
   "codemirror_mode": {
    "name": "ipython",
    "version": 2
   },
   "file_extension": ".py",
   "mimetype": "text/x-python",
   "name": "python",
   "nbconvert_exporter": "python",
   "pygments_lexer": "ipython2",
   "version": "2.7.6"
  }
 },
 "nbformat": 4,
 "nbformat_minor": 0
}
