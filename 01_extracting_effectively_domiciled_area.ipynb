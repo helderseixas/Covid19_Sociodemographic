{
 "cells": [
  {
   "metadata": {},
   "cell_type": "markdown",
   "source": "# Extracting effectively domiciled area of census sectors",
   "id": "bcfb8f7c0bea7609"
  },
  {
   "metadata": {
    "ExecuteTime": {
     "end_time": "2024-12-27T01:57:08.882913Z",
     "start_time": "2024-12-27T01:57:08.878828Z"
    }
   },
   "cell_type": "code",
   "source": "import pandas as pd",
   "id": "c05cf27969c77546",
   "outputs": [],
   "execution_count": 16
  },
  {
   "metadata": {},
   "cell_type": "markdown",
   "source": "## Loading data",
   "id": "98130b4e3c700ee4"
  },
  {
   "metadata": {
    "ExecuteTime": {
     "end_time": "2024-12-27T02:24:51.340906Z",
     "start_time": "2024-12-27T01:57:08.913846Z"
    }
   },
   "cell_type": "code",
   "source": "df = pd.read_excel('data/input/Area_efetivamente_domiciliada_e_densidade_ajustada_dos_Setores_Censitarios.ods', engine=\"odf\", usecols=[0,3,12])",
   "id": "cba6fece1545fedf",
   "outputs": [],
   "execution_count": 17
  },
  {
   "metadata": {
    "ExecuteTime": {
     "end_time": "2024-12-27T02:24:52.127220Z",
     "start_time": "2024-12-27T02:24:51.780543Z"
    }
   },
   "cell_type": "code",
   "source": "df_municipalities = pd.read_csv('data/input/df_sociodemographic.csv', index_col=0)",
   "id": "11dfbfcceba6e187",
   "outputs": [],
   "execution_count": 18
  },
  {
   "metadata": {
    "ExecuteTime": {
     "end_time": "2024-12-27T02:24:52.273561Z",
     "start_time": "2024-12-27T02:24:52.192796Z"
    }
   },
   "cell_type": "code",
   "source": "df_municipalities.columns",
   "id": "ada1073ba713a62e",
   "outputs": [
    {
     "data": {
      "text/plain": [
       "Index(['codigo_municipio_7', 'regiao', 'estado', 'regiao_en', 'municipio',\n",
       "       '0 a 4 anos', '5 a 9 anos', '10 a 14 anos', '15 a 19 anos',\n",
       "       '20 a 24 anos', '25 a 29 anos', '30 a 34 anos', '35 a 39 anos',\n",
       "       '40 a 44 anos', '45 a 49 anos', '50 a 54 anos', '55 a 59 anos',\n",
       "       '60 a 64 anos', '65 a 69 anos', '70 a 74 anos', '75 a 79 anos',\n",
       "       '80 a 84 anos', '85 a 89 anos', '90 a 94 anos', '95 a 99 anos',\n",
       "       '100 anos ou mais', 'População residente (Pessoas)',\n",
       "       'Área da unidade territorial (Quilômetros quadrados)',\n",
       "       'Densidade demográfica (Habitante por quilômetro quadrado)',\n",
       "       'Média de moradores em domicílios particulares permanentes ocupados (Pessoas)',\n",
       "       'Percentual Homens', 'Percentual Mulheres', 'percentual_cor_raca_braca',\n",
       "       'percentual_cor_raca_preta', 'percentual_cor_raca_amarela',\n",
       "       'percentual_cor_raca_parda', 'percentual_cor_raca_indigena',\n",
       "       'percentual_declara_indigena',\n",
       "       'percentual_moradores_domicilios_com_banheiro', 'taxa_alfabetizacao',\n",
       "       'populacao_2010', 'populacao_urbana', 'gini', 'taxa_atividade',\n",
       "       'percentual_trabalhadores_formalizados',\n",
       "       'percentual_ocupados_agropecuaria', 'percentual_ocupados_comercio',\n",
       "       'percentual_ocupados_servico', 'percentual_ocupados_industria',\n",
       "       'percentual_trabalhadores_conta_propria',\n",
       "       'percentual_trabalhadores_formais', 'taxa_desocupacao',\n",
       "       'percentual_populacao_vive_domicilios_densidade_maior_2_por_dormitorio',\n",
       "       'percentual_populacao_vulneravel_pobreza_gastam_mais_uma_hora_trabalho',\n",
       "       'renda_per_capita', 'espectativa_vida_ao_nascer',\n",
       "       'espectativa_anos_estudo_aos_18_anos',\n",
       "       'percentual_internacoes_doencas_saneamento_inadequado',\n",
       "       'transferencia_percapita_bolsa_familia',\n",
       "       'percentual_domicilios_aglomerados_subnormais_estimado',\n",
       "       'populacao_aglomerados', 'densidade_demografica_aglomerados',\n",
       "       'longitude', 'latitude', 'PERCENTUAL_VOTOS_BOLSONARO'],\n",
       "      dtype='object')"
      ]
     },
     "execution_count": 19,
     "metadata": {},
     "output_type": "execute_result"
    }
   ],
   "execution_count": 19
  },
  {
   "metadata": {
    "ExecuteTime": {
     "end_time": "2024-12-27T02:24:53.034479Z",
     "start_time": "2024-12-27T02:24:52.318317Z"
    }
   },
   "cell_type": "code",
   "source": "df['municipality_id'] = df['CD_SETOR'].astype(str).str[:6]",
   "id": "c0758de86ef088a8",
   "outputs": [],
   "execution_count": 20
  },
  {
   "metadata": {
    "ExecuteTime": {
     "end_time": "2024-12-27T02:24:53.229665Z",
     "start_time": "2024-12-27T02:24:53.215960Z"
    }
   },
   "cell_type": "code",
   "source": "df_municipalities['municipality_id'] = df_municipalities['codigo_municipio_7'].astype(str).str[:6]",
   "id": "ef707cb3bfec225d",
   "outputs": [],
   "execution_count": 21
  },
  {
   "metadata": {},
   "cell_type": "markdown",
   "source": "## Merging data",
   "id": "db0cadc95493f481"
  },
  {
   "metadata": {
    "ExecuteTime": {
     "end_time": "2024-12-27T02:24:53.752557Z",
     "start_time": "2024-12-27T02:24:53.408859Z"
    }
   },
   "cell_type": "code",
   "source": "df = df.merge(df_municipalities[['municipality_id','municipio','População residente (Pessoas)']], on='municipality_id')",
   "id": "f595ad0000a4145",
   "outputs": [],
   "execution_count": 22
  },
  {
   "metadata": {
    "ExecuteTime": {
     "end_time": "2024-12-27T02:24:53.882174Z",
     "start_time": "2024-12-27T02:24:53.780690Z"
    }
   },
   "cell_type": "code",
   "source": "df.isna().any()",
   "id": "da006eddaf03a34b",
   "outputs": [
    {
     "data": {
      "text/plain": [
       "CD_SETOR                                     False\n",
       "v0001                                        False\n",
       "DENSIDADE_DEMOGRAFICA_DOMICILIADA_HAB_KM2     True\n",
       "municipality_id                              False\n",
       "municipio                                    False\n",
       "População residente (Pessoas)                False\n",
       "dtype: bool"
      ]
     },
     "execution_count": 23,
     "metadata": {},
     "output_type": "execute_result"
    }
   ],
   "execution_count": 23
  },
  {
   "metadata": {
    "ExecuteTime": {
     "end_time": "2024-12-27T02:24:54.065673Z",
     "start_time": "2024-12-27T02:24:54.016384Z"
    }
   },
   "cell_type": "code",
   "source": "df.loc[df['DENSIDADE_DEMOGRAFICA_DOMICILIADA_HAB_KM2'].isna()]",
   "id": "25f66fb51d26d605",
   "outputs": [
    {
     "data": {
      "text/plain": [
       "               CD_SETOR  v0001  DENSIDADE_DEMOGRAFICA_DOMICILIADA_HAB_KM2  \\\n",
       "239     130190205000194      0                                        NaN   \n",
       "3407    130260305000145      0                                        NaN   \n",
       "3408    130260305000150      0                                        NaN   \n",
       "3409    130260305000151      0                                        NaN   \n",
       "3410    130260305100205      0                                        NaN   \n",
       "...                 ...    ...                                        ...   \n",
       "341544  412590210000011      0                                        NaN   \n",
       "345291  210070910000001      0                                        NaN   \n",
       "345775  355715405000021      0                                        NaN   \n",
       "349575  431400105000017      0                                        NaN   \n",
       "351874  354550605000012      0                                        NaN   \n",
       "\n",
       "       municipality_id                 municipio  \\\n",
       "239             130190          Itacoatiara (AM)   \n",
       "3407            130260               Manaus (AM)   \n",
       "3408            130260               Manaus (AM)   \n",
       "3409            130260               Manaus (AM)   \n",
       "3410            130260               Manaus (AM)   \n",
       "...                ...                       ...   \n",
       "341544          412590  São Pedro do Paraná (PR)   \n",
       "345291          210070            Anajatuba (MA)   \n",
       "345775          355715             Zacarias (SP)   \n",
       "349575          431400                Paraí (RS)   \n",
       "351874          354550          Sandovalina (SP)   \n",
       "\n",
       "        População residente (Pessoas)  \n",
       "239                            103598  \n",
       "3407                          2063547  \n",
       "3408                          2063547  \n",
       "3409                          2063547  \n",
       "3410                          2063547  \n",
       "...                               ...  \n",
       "341544                           2661  \n",
       "345291                          25322  \n",
       "345775                           2692  \n",
       "349575                           7194  \n",
       "351874                           3645  \n",
       "\n",
       "[150 rows x 6 columns]"
      ],
      "text/html": [
       "<div>\n",
       "<style scoped>\n",
       "    .dataframe tbody tr th:only-of-type {\n",
       "        vertical-align: middle;\n",
       "    }\n",
       "\n",
       "    .dataframe tbody tr th {\n",
       "        vertical-align: top;\n",
       "    }\n",
       "\n",
       "    .dataframe thead th {\n",
       "        text-align: right;\n",
       "    }\n",
       "</style>\n",
       "<table border=\"1\" class=\"dataframe\">\n",
       "  <thead>\n",
       "    <tr style=\"text-align: right;\">\n",
       "      <th></th>\n",
       "      <th>CD_SETOR</th>\n",
       "      <th>v0001</th>\n",
       "      <th>DENSIDADE_DEMOGRAFICA_DOMICILIADA_HAB_KM2</th>\n",
       "      <th>municipality_id</th>\n",
       "      <th>municipio</th>\n",
       "      <th>População residente (Pessoas)</th>\n",
       "    </tr>\n",
       "  </thead>\n",
       "  <tbody>\n",
       "    <tr>\n",
       "      <th>239</th>\n",
       "      <td>130190205000194</td>\n",
       "      <td>0</td>\n",
       "      <td>NaN</td>\n",
       "      <td>130190</td>\n",
       "      <td>Itacoatiara (AM)</td>\n",
       "      <td>103598</td>\n",
       "    </tr>\n",
       "    <tr>\n",
       "      <th>3407</th>\n",
       "      <td>130260305000145</td>\n",
       "      <td>0</td>\n",
       "      <td>NaN</td>\n",
       "      <td>130260</td>\n",
       "      <td>Manaus (AM)</td>\n",
       "      <td>2063547</td>\n",
       "    </tr>\n",
       "    <tr>\n",
       "      <th>3408</th>\n",
       "      <td>130260305000150</td>\n",
       "      <td>0</td>\n",
       "      <td>NaN</td>\n",
       "      <td>130260</td>\n",
       "      <td>Manaus (AM)</td>\n",
       "      <td>2063547</td>\n",
       "    </tr>\n",
       "    <tr>\n",
       "      <th>3409</th>\n",
       "      <td>130260305000151</td>\n",
       "      <td>0</td>\n",
       "      <td>NaN</td>\n",
       "      <td>130260</td>\n",
       "      <td>Manaus (AM)</td>\n",
       "      <td>2063547</td>\n",
       "    </tr>\n",
       "    <tr>\n",
       "      <th>3410</th>\n",
       "      <td>130260305100205</td>\n",
       "      <td>0</td>\n",
       "      <td>NaN</td>\n",
       "      <td>130260</td>\n",
       "      <td>Manaus (AM)</td>\n",
       "      <td>2063547</td>\n",
       "    </tr>\n",
       "    <tr>\n",
       "      <th>...</th>\n",
       "      <td>...</td>\n",
       "      <td>...</td>\n",
       "      <td>...</td>\n",
       "      <td>...</td>\n",
       "      <td>...</td>\n",
       "      <td>...</td>\n",
       "    </tr>\n",
       "    <tr>\n",
       "      <th>341544</th>\n",
       "      <td>412590210000011</td>\n",
       "      <td>0</td>\n",
       "      <td>NaN</td>\n",
       "      <td>412590</td>\n",
       "      <td>São Pedro do Paraná (PR)</td>\n",
       "      <td>2661</td>\n",
       "    </tr>\n",
       "    <tr>\n",
       "      <th>345291</th>\n",
       "      <td>210070910000001</td>\n",
       "      <td>0</td>\n",
       "      <td>NaN</td>\n",
       "      <td>210070</td>\n",
       "      <td>Anajatuba (MA)</td>\n",
       "      <td>25322</td>\n",
       "    </tr>\n",
       "    <tr>\n",
       "      <th>345775</th>\n",
       "      <td>355715405000021</td>\n",
       "      <td>0</td>\n",
       "      <td>NaN</td>\n",
       "      <td>355715</td>\n",
       "      <td>Zacarias (SP)</td>\n",
       "      <td>2692</td>\n",
       "    </tr>\n",
       "    <tr>\n",
       "      <th>349575</th>\n",
       "      <td>431400105000017</td>\n",
       "      <td>0</td>\n",
       "      <td>NaN</td>\n",
       "      <td>431400</td>\n",
       "      <td>Paraí (RS)</td>\n",
       "      <td>7194</td>\n",
       "    </tr>\n",
       "    <tr>\n",
       "      <th>351874</th>\n",
       "      <td>354550605000012</td>\n",
       "      <td>0</td>\n",
       "      <td>NaN</td>\n",
       "      <td>354550</td>\n",
       "      <td>Sandovalina (SP)</td>\n",
       "      <td>3645</td>\n",
       "    </tr>\n",
       "  </tbody>\n",
       "</table>\n",
       "<p>150 rows × 6 columns</p>\n",
       "</div>"
      ]
     },
     "execution_count": 24,
     "metadata": {},
     "output_type": "execute_result"
    }
   ],
   "execution_count": 24
  },
  {
   "metadata": {},
   "cell_type": "markdown",
   "source": "## Saving data",
   "id": "7218325a85978317"
  },
  {
   "metadata": {
    "ExecuteTime": {
     "end_time": "2024-12-27T02:24:56.091483Z",
     "start_time": "2024-12-27T02:24:54.118254Z"
    }
   },
   "cell_type": "code",
   "source": "df.to_csv('data/output/df_effectively_domiciled_area.csv', index=False)",
   "id": "2e3c2ec9807d4ef8",
   "outputs": [],
   "execution_count": 25
  }
 ],
 "metadata": {
  "kernelspec": {
   "display_name": "Python 3",
   "language": "python",
   "name": "python3"
  },
  "language_info": {
   "codemirror_mode": {
    "name": "ipython",
    "version": 2
   },
   "file_extension": ".py",
   "mimetype": "text/x-python",
   "name": "python",
   "nbconvert_exporter": "python",
   "pygments_lexer": "ipython2",
   "version": "2.7.6"
  }
 },
 "nbformat": 4,
 "nbformat_minor": 5
}
