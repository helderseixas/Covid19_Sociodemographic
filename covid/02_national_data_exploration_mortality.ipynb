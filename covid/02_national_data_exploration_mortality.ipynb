{
 "cells": [
  {
   "cell_type": "markdown",
   "metadata": {},
   "source": [
    "# Data exploration\n",
    "## Workflow: to execute after the notebook 01_data_preparation_deaths_sim"
   ]
  },
  {
   "cell_type": "code",
   "execution_count": 1,
   "metadata": {
    "ExecuteTime": {
     "end_time": "2023-08-15T00:59:40.803037602Z",
     "start_time": "2023-08-15T00:59:40.318157454Z"
    }
   },
   "outputs": [],
   "source": [
    "import pandas as pd\n",
    "import seaborn as sns\n",
    "import matplotlib.pyplot as plt\n",
    "import matplotlib.dates as mdates\n",
    "import matplotlib.ticker as mticker\n",
    "import geopandas as gpd\n",
    "import geobr\n",
    "from shapely.geometry import Point\n",
    "import matplotlib.patches as mpatches\n",
    "from detecta import detect_peaks, detect_cusum, detect_onset\n",
    "import pathlib\n",
    "import util\n",
    "import locale"
   ]
  },
  {
   "cell_type": "markdown",
   "metadata": {},
   "source": [
    "## Loading data"
   ]
  },
  {
   "cell_type": "markdown",
   "source": [
    "### Covid deaths (Sistema de Informação sobre Mortalidade - SIM)"
   ],
   "metadata": {
    "collapsed": false
   }
  },
  {
   "cell_type": "code",
   "execution_count": 2,
   "outputs": [],
   "source": [
    "df_sim_deaths_general = pd.read_csv('data/output/df_sim_covid_deaths_national_general.csv')\n",
    "df_sim_deaths_general.DATA = pd.to_datetime(df_sim_deaths_general.DATA, infer_datetime_format=True)"
   ],
   "metadata": {
    "collapsed": false,
    "ExecuteTime": {
     "end_time": "2023-08-08T01:52:57.243212761Z",
     "start_time": "2023-08-08T01:52:57.209788312Z"
    }
   }
  },
  {
   "cell_type": "code",
   "execution_count": 3,
   "outputs": [],
   "source": [
    "df_covid_deaths_municipal_residence = pd.read_csv('data/output/df_covid_deaths_municipal_residence.csv')"
   ],
   "metadata": {
    "collapsed": false,
    "ExecuteTime": {
     "end_time": "2023-08-08T01:52:57.315406128Z",
     "start_time": "2023-08-08T01:52:57.225939021Z"
    }
   }
  },
  {
   "cell_type": "code",
   "execution_count": 4,
   "outputs": [],
   "source": [
    "df_sim_covid_deaths_municipal_timeseries = pd.read_csv('data/output/df_sim_covid_deaths_municipal_timeseries.csv')"
   ],
   "metadata": {
    "collapsed": false,
    "ExecuteTime": {
     "end_time": "2023-08-08T01:53:08.620782294Z",
     "start_time": "2023-08-08T01:52:57.314118514Z"
    }
   }
  },
  {
   "cell_type": "code",
   "execution_count": 5,
   "outputs": [],
   "source": [
    "df_sim_covid_deaths_municipal_timeseries.DATA = pd.to_datetime(df_sim_covid_deaths_municipal_timeseries.DATA, infer_datetime_format=True)"
   ],
   "metadata": {
    "collapsed": false,
    "ExecuteTime": {
     "end_time": "2023-08-08T01:53:09.420008623Z",
     "start_time": "2023-08-08T01:53:08.712616808Z"
    }
   }
  },
  {
   "cell_type": "code",
   "execution_count": 6,
   "outputs": [],
   "source": [
    "df_sim_covid_deaths_municipal_timeseries = df_sim_covid_deaths_municipal_timeseries[df_sim_covid_deaths_municipal_timeseries.CODIGO_MUNICIPIO_6.isin(df_covid_deaths_municipal_residence.CODIGO_MUNICIPIO_6)]"
   ],
   "metadata": {
    "collapsed": false,
    "ExecuteTime": {
     "end_time": "2023-08-08T01:53:10.333008366Z",
     "start_time": "2023-08-08T01:53:09.422694539Z"
    }
   }
  },
  {
   "cell_type": "code",
   "execution_count": 7,
   "outputs": [
    {
     "data": {
      "text/plain": "700952.0"
     },
     "execution_count": 7,
     "metadata": {},
     "output_type": "execute_result"
    }
   ],
   "source": [
    "df_sim_deaths_general.OBITOS_NOVOS.sum()"
   ],
   "metadata": {
    "collapsed": false,
    "ExecuteTime": {
     "end_time": "2023-08-08T01:53:10.357007218Z",
     "start_time": "2023-08-08T01:53:10.335191987Z"
    }
   }
  },
  {
   "cell_type": "code",
   "execution_count": 8,
   "outputs": [
    {
     "data": {
      "text/plain": "700794.0"
     },
     "execution_count": 8,
     "metadata": {},
     "output_type": "execute_result"
    }
   ],
   "source": [
    "df_covid_deaths_municipal_residence.OBITOS.sum()"
   ],
   "metadata": {
    "collapsed": false,
    "ExecuteTime": {
     "end_time": "2023-08-08T01:53:10.423853015Z",
     "start_time": "2023-08-08T01:53:10.349165377Z"
    }
   }
  },
  {
   "cell_type": "code",
   "execution_count": 9,
   "outputs": [
    {
     "data": {
      "text/plain": "700794"
     },
     "execution_count": 9,
     "metadata": {},
     "output_type": "execute_result"
    }
   ],
   "source": [
    "df_sim_covid_deaths_municipal_timeseries.OBITOS_NOVOS.sum()"
   ],
   "metadata": {
    "collapsed": false,
    "ExecuteTime": {
     "end_time": "2023-08-08T01:53:10.427127344Z",
     "start_time": "2023-08-08T01:53:10.363650918Z"
    }
   }
  },
  {
   "cell_type": "code",
   "execution_count": 10,
   "outputs": [
    {
     "data": {
      "text/plain": "5570"
     },
     "execution_count": 10,
     "metadata": {},
     "output_type": "execute_result"
    }
   ],
   "source": [
    "len(df_covid_deaths_municipal_residence)"
   ],
   "metadata": {
    "collapsed": false,
    "ExecuteTime": {
     "end_time": "2023-08-08T01:53:10.514029082Z",
     "start_time": "2023-08-08T01:53:10.395357029Z"
    }
   }
  },
  {
   "cell_type": "code",
   "execution_count": 11,
   "outputs": [
    {
     "data": {
      "text/plain": "5562"
     },
     "execution_count": 11,
     "metadata": {},
     "output_type": "execute_result"
    }
   ],
   "source": [
    "len(df_sim_covid_deaths_municipal_timeseries.CODIGO_MUNICIPIO_6.unique())"
   ],
   "metadata": {
    "collapsed": false,
    "ExecuteTime": {
     "end_time": "2023-08-08T01:53:10.516012447Z",
     "start_time": "2023-08-08T01:53:10.438068111Z"
    }
   }
  },
  {
   "cell_type": "markdown",
   "metadata": {},
   "source": [
    "## Data analysis"
   ]
  },
  {
   "cell_type": "code",
   "execution_count": 12,
   "metadata": {
    "ExecuteTime": {
     "end_time": "2023-07-29T12:39:31.730309428Z",
     "start_time": "2023-07-29T12:39:30.832748568Z"
    }
   },
   "outputs": [],
   "source": [
    "df_covid_regions = df_sim_covid_deaths_municipal_timeseries[['REGIAO', 'DATA', 'POPULACAO_2022', 'OBITOS']].groupby(['REGIAO', 'DATA']).sum()\n",
    "df_covid_regions['TAXA_OBITOS'] = df_covid_regions.OBITOS / df_covid_regions.POPULACAO_2022 * 100000\n",
    "df_covid_regions = df_covid_regions.reset_index()"
   ]
  },
  {
   "cell_type": "code",
   "execution_count": 13,
   "metadata": {
    "ExecuteTime": {
     "end_time": "2023-07-29T12:39:31.781989926Z",
     "start_time": "2023-07-29T12:39:31.733043105Z"
    }
   },
   "outputs": [
    {
     "data": {
      "text/plain": "            REGIAO       DATA  POPULACAO_2022  OBITOS  TAXA_OBITOS\n0     Centro-Oeste 2020-03-12      16287809.0       0     0.000000\n1     Centro-Oeste 2020-03-13      16287809.0       0     0.000000\n2     Centro-Oeste 2020-03-14      16287809.0       0     0.000000\n3     Centro-Oeste 2020-03-15      16287809.0       0     0.000000\n4     Centro-Oeste 2020-03-16      16287809.0       0     0.000000\n...            ...        ...             ...     ...          ...\n5120           Sul 2022-12-27      29930034.0  109228   364.944457\n5121           Sul 2022-12-28      29930034.0  109254   365.031326\n5122           Sul 2022-12-29      29930034.0  109266   365.071420\n5123           Sul 2022-12-30      29930034.0  109285   365.134901\n5124           Sul 2022-12-31      29930034.0  109305   365.201723\n\n[5125 rows x 5 columns]",
      "text/html": "<div>\n<style scoped>\n    .dataframe tbody tr th:only-of-type {\n        vertical-align: middle;\n    }\n\n    .dataframe tbody tr th {\n        vertical-align: top;\n    }\n\n    .dataframe thead th {\n        text-align: right;\n    }\n</style>\n<table border=\"1\" class=\"dataframe\">\n  <thead>\n    <tr style=\"text-align: right;\">\n      <th></th>\n      <th>REGIAO</th>\n      <th>DATA</th>\n      <th>POPULACAO_2022</th>\n      <th>OBITOS</th>\n      <th>TAXA_OBITOS</th>\n    </tr>\n  </thead>\n  <tbody>\n    <tr>\n      <th>0</th>\n      <td>Centro-Oeste</td>\n      <td>2020-03-12</td>\n      <td>16287809.0</td>\n      <td>0</td>\n      <td>0.000000</td>\n    </tr>\n    <tr>\n      <th>1</th>\n      <td>Centro-Oeste</td>\n      <td>2020-03-13</td>\n      <td>16287809.0</td>\n      <td>0</td>\n      <td>0.000000</td>\n    </tr>\n    <tr>\n      <th>2</th>\n      <td>Centro-Oeste</td>\n      <td>2020-03-14</td>\n      <td>16287809.0</td>\n      <td>0</td>\n      <td>0.000000</td>\n    </tr>\n    <tr>\n      <th>3</th>\n      <td>Centro-Oeste</td>\n      <td>2020-03-15</td>\n      <td>16287809.0</td>\n      <td>0</td>\n      <td>0.000000</td>\n    </tr>\n    <tr>\n      <th>4</th>\n      <td>Centro-Oeste</td>\n      <td>2020-03-16</td>\n      <td>16287809.0</td>\n      <td>0</td>\n      <td>0.000000</td>\n    </tr>\n    <tr>\n      <th>...</th>\n      <td>...</td>\n      <td>...</td>\n      <td>...</td>\n      <td>...</td>\n      <td>...</td>\n    </tr>\n    <tr>\n      <th>5120</th>\n      <td>Sul</td>\n      <td>2022-12-27</td>\n      <td>29930034.0</td>\n      <td>109228</td>\n      <td>364.944457</td>\n    </tr>\n    <tr>\n      <th>5121</th>\n      <td>Sul</td>\n      <td>2022-12-28</td>\n      <td>29930034.0</td>\n      <td>109254</td>\n      <td>365.031326</td>\n    </tr>\n    <tr>\n      <th>5122</th>\n      <td>Sul</td>\n      <td>2022-12-29</td>\n      <td>29930034.0</td>\n      <td>109266</td>\n      <td>365.071420</td>\n    </tr>\n    <tr>\n      <th>5123</th>\n      <td>Sul</td>\n      <td>2022-12-30</td>\n      <td>29930034.0</td>\n      <td>109285</td>\n      <td>365.134901</td>\n    </tr>\n    <tr>\n      <th>5124</th>\n      <td>Sul</td>\n      <td>2022-12-31</td>\n      <td>29930034.0</td>\n      <td>109305</td>\n      <td>365.201723</td>\n    </tr>\n  </tbody>\n</table>\n<p>5125 rows × 5 columns</p>\n</div>"
     },
     "execution_count": 13,
     "metadata": {},
     "output_type": "execute_result"
    }
   ],
   "source": [
    "df_covid_regions"
   ]
  },
  {
   "cell_type": "code",
   "execution_count": 14,
   "metadata": {
    "ExecuteTime": {
     "end_time": "2023-07-29T12:39:31.851802035Z",
     "start_time": "2023-07-29T12:39:31.759234424Z"
    }
   },
   "outputs": [],
   "source": [
    "myFmt = mdates.DateFormatter('%m/%Y')\n",
    "style = dict(color='black')\n",
    "sns.set(font_scale=1.1)\n",
    "sns.set_style(\"ticks\")"
   ]
  },
  {
   "cell_type": "markdown",
   "source": [
    "### Figure 1a"
   ],
   "metadata": {
    "collapsed": false
   }
  },
  {
   "cell_type": "code",
   "execution_count": 15,
   "metadata": {
    "ExecuteTime": {
     "end_time": "2023-07-29T12:39:33.064572210Z",
     "start_time": "2023-07-29T12:39:31.800338603Z"
    }
   },
   "outputs": [
    {
     "name": "stderr",
     "output_type": "stream",
     "text": [
      "No artists with labels found to put in legend.  Note that artists whose label start with an underscore are ignored when legend() is called with no argument.\n"
     ]
    },
    {
     "data": {
      "text/plain": "<Figure size 493.228x246.614 with 1 Axes>",
      "image/png": "[encoded data removed]"
     },
     "metadata": {
      "needs_background": "light"
     },
     "output_type": "display_data"
    }
   ],
   "source": [
    "fig, ax = plt.subplots(figsize=(util.centimeter_to_inch(17.4), util.centimeter_to_inch(8.7)))\n",
    "\n",
    "plt.plot(df_sim_deaths_general.DATA, df_sim_deaths_general.OBITOS_NOVOS, color='black')\n",
    "\n",
    "ax.legend()\n",
    "\n",
    "plt.ylabel('New deaths')\n",
    "ax.xaxis.set_major_formatter(myFmt)\n",
    "ax.yaxis.set_major_formatter(mticker.FuncFormatter(lambda x, p: format(int(x), ',')))\n",
    "plt.xlabel('Month/Year')\n",
    "plt.xticks(rotation=20)\n",
    "plt.savefig('images/serie_deaths.pdf', bbox_inches=\"tight\", transparent=True)\n",
    "plt.savefig('images/serie_deaths.eps', bbox_inches=\"tight\", transparent=True)\n",
    "plt.show()"
   ]
  },
  {
   "cell_type": "code",
   "execution_count": 16,
   "outputs": [
    {
     "data": {
      "text/plain": "3707.0"
     },
     "execution_count": 16,
     "metadata": {},
     "output_type": "execute_result"
    }
   ],
   "source": [
    "df_sim_deaths_general.OBITOS_NOVOS.max()"
   ],
   "metadata": {
    "collapsed": false,
    "ExecuteTime": {
     "end_time": "2023-07-29T12:39:33.093788349Z",
     "start_time": "2023-07-29T12:39:33.060656167Z"
    }
   }
  },
  {
   "cell_type": "code",
   "execution_count": 17,
   "outputs": [
    {
     "data": {
      "text/plain": "           DATA  OBITOS_NOVOS    OBITOS\n0    2020-03-12           1.0       1.0\n1    2020-03-13           1.0       2.0\n2    2020-03-14           0.0       2.0\n3    2020-03-15           1.0       3.0\n4    2020-03-16           5.0       8.0\n...         ...           ...       ...\n1020 2022-12-27          67.0  700721.0\n1021 2022-12-28          66.0  700787.0\n1022 2022-12-29          57.0  700844.0\n1023 2022-12-30          56.0  700900.0\n1024 2022-12-31          52.0  700952.0\n\n[1025 rows x 3 columns]",
      "text/html": "<div>\n<style scoped>\n    .dataframe tbody tr th:only-of-type {\n        vertical-align: middle;\n    }\n\n    .dataframe tbody tr th {\n        vertical-align: top;\n    }\n\n    .dataframe thead th {\n        text-align: right;\n    }\n</style>\n<table border=\"1\" class=\"dataframe\">\n  <thead>\n    <tr style=\"text-align: right;\">\n      <th></th>\n      <th>DATA</th>\n      <th>OBITOS_NOVOS</th>\n      <th>OBITOS</th>\n    </tr>\n  </thead>\n  <tbody>\n    <tr>\n      <th>0</th>\n      <td>2020-03-12</td>\n      <td>1.0</td>\n      <td>1.0</td>\n    </tr>\n    <tr>\n      <th>1</th>\n      <td>2020-03-13</td>\n      <td>1.0</td>\n      <td>2.0</td>\n    </tr>\n    <tr>\n      <th>2</th>\n      <td>2020-03-14</td>\n      <td>0.0</td>\n      <td>2.0</td>\n    </tr>\n    <tr>\n      <th>3</th>\n      <td>2020-03-15</td>\n      <td>1.0</td>\n      <td>3.0</td>\n    </tr>\n    <tr>\n      <th>4</th>\n      <td>2020-03-16</td>\n      <td>5.0</td>\n      <td>8.0</td>\n    </tr>\n    <tr>\n      <th>...</th>\n      <td>...</td>\n      <td>...</td>\n      <td>...</td>\n    </tr>\n    <tr>\n      <th>1020</th>\n      <td>2022-12-27</td>\n      <td>67.0</td>\n      <td>700721.0</td>\n    </tr>\n    <tr>\n      <th>1021</th>\n      <td>2022-12-28</td>\n      <td>66.0</td>\n      <td>700787.0</td>\n    </tr>\n    <tr>\n      <th>1022</th>\n      <td>2022-12-29</td>\n      <td>57.0</td>\n      <td>700844.0</td>\n    </tr>\n    <tr>\n      <th>1023</th>\n      <td>2022-12-30</td>\n      <td>56.0</td>\n      <td>700900.0</td>\n    </tr>\n    <tr>\n      <th>1024</th>\n      <td>2022-12-31</td>\n      <td>52.0</td>\n      <td>700952.0</td>\n    </tr>\n  </tbody>\n</table>\n<p>1025 rows × 3 columns</p>\n</div>"
     },
     "execution_count": 17,
     "metadata": {},
     "output_type": "execute_result"
    }
   ],
   "source": [
    "df_sim_deaths_general"
   ],
   "metadata": {
    "collapsed": false,
    "ExecuteTime": {
     "end_time": "2023-07-29T12:39:33.268516947Z",
     "start_time": "2023-07-29T12:39:33.067113700Z"
    }
   }
  },
  {
   "cell_type": "markdown",
   "metadata": {},
   "source": [
    "## Time series by regions"
   ]
  },
  {
   "cell_type": "code",
   "execution_count": 18,
   "outputs": [],
   "source": [
    "df_covid_regions.loc[df_covid_regions.REGIAO == 'Centro-Oeste', 'REGIAO_EN'] = 'Midwestern'\n",
    "df_covid_regions.loc[df_covid_regions.REGIAO == 'Norte', 'REGIAO_EN'] = 'North'\n",
    "df_covid_regions.loc[df_covid_regions.REGIAO == 'Nordeste', 'REGIAO_EN'] = 'Northeast'\n",
    "df_covid_regions.loc[df_covid_regions.REGIAO == 'Sudeste', 'REGIAO_EN'] = 'Southeast'\n",
    "df_covid_regions.loc[df_covid_regions.REGIAO == 'Sul', 'REGIAO_EN'] = 'South'"
   ],
   "metadata": {
    "collapsed": false,
    "ExecuteTime": {
     "end_time": "2023-07-29T12:39:33.269569988Z",
     "start_time": "2023-07-29T12:39:33.108765844Z"
    }
   }
  },
  {
   "cell_type": "code",
   "execution_count": 19,
   "outputs": [],
   "source": [
    "df_covid_regions = df_covid_regions.sort_values('REGIAO_EN')"
   ],
   "metadata": {
    "collapsed": false,
    "ExecuteTime": {
     "end_time": "2023-07-29T12:39:33.271117842Z",
     "start_time": "2023-07-29T12:39:33.152212405Z"
    }
   }
  },
  {
   "cell_type": "markdown",
   "source": [
    "### Figure 1b"
   ],
   "metadata": {
    "collapsed": false
   }
  },
  {
   "cell_type": "code",
   "execution_count": 20,
   "metadata": {
    "ExecuteTime": {
     "end_time": "2023-07-29T12:39:34.748674503Z",
     "start_time": "2023-07-29T12:39:33.152512122Z"
    }
   },
   "outputs": [
    {
     "data": {
      "text/plain": "<Figure size 493.228x246.614 with 1 Axes>",
      "image/png": "[encoded data removed]"
     },
     "metadata": {
      "needs_background": "light"
     },
     "output_type": "display_data"
    }
   ],
   "source": [
    "fig, ax = plt.subplots(figsize=(util.centimeter_to_inch(17.4), util.centimeter_to_inch(8.7)))\n",
    "sns.lineplot(data=df_covid_regions, x=\"DATA\", y=\"TAXA_OBITOS\", markers=False, hue='REGIAO_EN', style='REGIAO_EN', palette=util.get_default_colors_categorical_seaborn())\n",
    "plt.ylabel('Deaths per 100,000 people')\n",
    "ax.xaxis.set_major_formatter(myFmt)\n",
    "plt.xlabel('Month/Year')\n",
    "plt.xticks(rotation=20)\n",
    "plt.legend(title = None)\n",
    "\n",
    "plt.savefig('images/serie_deaths_regions.pdf', bbox_inches=\"tight\")\n",
    "plt.savefig('images/serie_deaths_regions.eps', bbox_inches=\"tight\")\n",
    "plt.show()"
   ]
  },
  {
   "cell_type": "markdown",
   "metadata": {},
   "source": [
    "## Boxplots by regions"
   ]
  },
  {
   "cell_type": "code",
   "execution_count": 22,
   "metadata": {
    "ExecuteTime": {
     "end_time": "2023-07-29T12:40:00.831602597Z",
     "start_time": "2023-07-29T12:39:58.794795134Z"
    }
   },
   "outputs": [],
   "source": [
    "df_covid_municipios_grouped = df_sim_covid_deaths_municipal_timeseries[['MUNICIPIO', 'CODIGO_MUNICIPIO_6', 'POPULACAO_2022', 'REGIAO', 'OBITOS_NOVOS']].groupby(['MUNICIPIO', 'CODIGO_MUNICIPIO_6', 'REGIAO', 'POPULACAO_2022']).sum()"
   ]
  },
  {
   "cell_type": "code",
   "execution_count": 23,
   "metadata": {
    "ExecuteTime": {
     "end_time": "2023-07-29T12:40:22.364641804Z",
     "start_time": "2023-07-29T12:40:22.231526864Z"
    }
   },
   "outputs": [
    {
     "data": {
      "text/plain": "                MUNICIPIO  CODIGO_MUNICIPIO_6        REGIAO  POPULACAO_2022  \\\n0         Abadia de Goiás              520005  Centro-Oeste         19128.0   \n1     Abadia dos Dourados              310010       Sudeste          6272.0   \n2               Abadiânia              520010  Centro-Oeste         17228.0   \n3              Abaetetuba              150010         Norte        158188.0   \n4                  Abaeté              310020       Sudeste         22675.0   \n...                   ...                 ...           ...             ...   \n5557                Áurea              430155           Sul          3396.0   \n5558               Ângulo              410115           Sul          3235.0   \n5559        Érico Cardoso              290050      Nordeste         10604.0   \n5560               Óbidos              150510         Norte         52229.0   \n5561                 Óleo              353380       Sudeste          2509.0   \n\n      OBITOS_NOVOS  TAXA_OBITOS  \n0               42   219.573400  \n1               22   350.765306  \n2               65   377.292779  \n3              271   171.315144  \n4               46   202.866593  \n...            ...          ...  \n5557             7   206.124853  \n5558            11   340.030912  \n5559             6    56.582422  \n5560           162   310.172510  \n5561            10   398.565165  \n\n[5562 rows x 6 columns]",
      "text/html": "<div>\n<style scoped>\n    .dataframe tbody tr th:only-of-type {\n        vertical-align: middle;\n    }\n\n    .dataframe tbody tr th {\n        vertical-align: top;\n    }\n\n    .dataframe thead th {\n        text-align: right;\n    }\n</style>\n<table border=\"1\" class=\"dataframe\">\n  <thead>\n    <tr style=\"text-align: right;\">\n      <th></th>\n      <th>MUNICIPIO</th>\n      <th>CODIGO_MUNICIPIO_6</th>\n      <th>REGIAO</th>\n      <th>POPULACAO_2022</th>\n      <th>OBITOS_NOVOS</th>\n      <th>TAXA_OBITOS</th>\n    </tr>\n  </thead>\n  <tbody>\n    <tr>\n      <th>0</th>\n      <td>Abadia de Goiás</td>\n      <td>520005</td>\n      <td>Centro-Oeste</td>\n      <td>19128.0</td>\n      <td>42</td>\n      <td>219.573400</td>\n    </tr>\n    <tr>\n      <th>1</th>\n      <td>Abadia dos Dourados</td>\n      <td>310010</td>\n      <td>Sudeste</td>\n      <td>6272.0</td>\n      <td>22</td>\n      <td>350.765306</td>\n    </tr>\n    <tr>\n      <th>2</th>\n      <td>Abadiânia</td>\n      <td>520010</td>\n      <td>Centro-Oeste</td>\n      <td>17228.0</td>\n      <td>65</td>\n      <td>377.292779</td>\n    </tr>\n    <tr>\n      <th>3</th>\n      <td>Abaetetuba</td>\n      <td>150010</td>\n      <td>Norte</td>\n      <td>158188.0</td>\n      <td>271</td>\n      <td>171.315144</td>\n    </tr>\n    <tr>\n      <th>4</th>\n      <td>Abaeté</td>\n      <td>310020</td>\n      <td>Sudeste</td>\n      <td>22675.0</td>\n      <td>46</td>\n      <td>202.866593</td>\n    </tr>\n    <tr>\n      <th>...</th>\n      <td>...</td>\n      <td>...</td>\n      <td>...</td>\n      <td>...</td>\n      <td>...</td>\n      <td>...</td>\n    </tr>\n    <tr>\n      <th>5557</th>\n      <td>Áurea</td>\n      <td>430155</td>\n      <td>Sul</td>\n      <td>3396.0</td>\n      <td>7</td>\n      <td>206.124853</td>\n    </tr>\n    <tr>\n      <th>5558</th>\n      <td>Ângulo</td>\n      <td>410115</td>\n      <td>Sul</td>\n      <td>3235.0</td>\n      <td>11</td>\n      <td>340.030912</td>\n    </tr>\n    <tr>\n      <th>5559</th>\n      <td>Érico Cardoso</td>\n      <td>290050</td>\n      <td>Nordeste</td>\n      <td>10604.0</td>\n      <td>6</td>\n      <td>56.582422</td>\n    </tr>\n    <tr>\n      <th>5560</th>\n      <td>Óbidos</td>\n      <td>150510</td>\n      <td>Norte</td>\n      <td>52229.0</td>\n      <td>162</td>\n      <td>310.172510</td>\n    </tr>\n    <tr>\n      <th>5561</th>\n      <td>Óleo</td>\n      <td>353380</td>\n      <td>Sudeste</td>\n      <td>2509.0</td>\n      <td>10</td>\n      <td>398.565165</td>\n    </tr>\n  </tbody>\n</table>\n<p>5562 rows × 6 columns</p>\n</div>"
     },
     "execution_count": 23,
     "metadata": {},
     "output_type": "execute_result"
    }
   ],
   "source": [
    "df_covid_municipios_grouped = df_covid_municipios_grouped.reset_index()\n",
    "df_covid_municipios_grouped['TAXA_OBITOS'] = df_covid_municipios_grouped.OBITOS_NOVOS / df_covid_municipios_grouped.POPULACAO_2022 * 100000\n",
    "df_covid_municipios_grouped"
   ]
  },
  {
   "cell_type": "code",
   "execution_count": 24,
   "outputs": [],
   "source": [
    "df_covid_municipios_grouped.loc[df_covid_municipios_grouped.REGIAO == 'Centro-Oeste', 'REGIAO_EN'] = 'Midwestern'\n",
    "df_covid_municipios_grouped.loc[df_covid_municipios_grouped.REGIAO == 'Norte', 'REGIAO_EN'] = 'North'\n",
    "df_covid_municipios_grouped.loc[df_covid_municipios_grouped.REGIAO == 'Nordeste', 'REGIAO_EN'] = 'Northeast'\n",
    "df_covid_municipios_grouped.loc[df_covid_municipios_grouped.REGIAO == 'Sudeste', 'REGIAO_EN'] = 'Southeast'\n",
    "df_covid_municipios_grouped.loc[df_covid_municipios_grouped.REGIAO == 'Sul', 'REGIAO_EN'] = 'South'"
   ],
   "metadata": {
    "collapsed": false,
    "ExecuteTime": {
     "end_time": "2023-07-29T12:42:02.788111607Z",
     "start_time": "2023-07-29T12:42:02.692614325Z"
    }
   }
  },
  {
   "cell_type": "code",
   "execution_count": 25,
   "outputs": [],
   "source": [
    "df_covid_municipios_grouped = df_covid_municipios_grouped.sort_values('REGIAO_EN')"
   ],
   "metadata": {
    "collapsed": false,
    "ExecuteTime": {
     "end_time": "2023-07-29T12:42:08.945015560Z",
     "start_time": "2023-07-29T12:42:08.856673407Z"
    }
   }
  },
  {
   "cell_type": "markdown",
   "source": [
    "### Figure 2"
   ],
   "metadata": {
    "collapsed": false
   }
  },
  {
   "cell_type": "code",
   "execution_count": 29,
   "metadata": {
    "ExecuteTime": {
     "end_time": "2023-07-29T12:48:12.512937206Z",
     "start_time": "2023-07-29T12:48:12.052847366Z"
    }
   },
   "outputs": [
    {
     "data": {
      "text/plain": "<Figure size 493.228x246.614 with 1 Axes>",
      "image/png": "[encoded data removed]"
     },
     "metadata": {},
     "output_type": "display_data"
    }
   ],
   "source": [
    "sns.set(font_scale=1.1)\n",
    "sns.set_style(\"ticks\")\n",
    "sns.set_palette(\"gray\")\n",
    "fig, ax = plt.subplots(figsize=(util.centimeter_to_inch(17.4), util.centimeter_to_inch(8.7)))\n",
    "sns.boxplot(data=df_covid_municipios_grouped, y='TAXA_OBITOS', x='REGIAO_EN', boxprops=dict(facecolor='white'))\n",
    "plt.setp(ax.artists, edgecolor = 'black')\n",
    "plt.setp(ax.lines, color='black')\n",
    "plt.ylabel('Deaths per 100,000 people')\n",
    "plt.xlabel(None)\n",
    "plt.savefig('images/boxplot_deaths_municipalities.pdf', bbox_inches=\"tight\")\n",
    "plt.savefig('images/boxplot_deaths_municipalities.eps', bbox_inches=\"tight\")\n",
    "plt.show()"
   ]
  }
 ],
 "metadata": {
  "kernelspec": {
   "display_name": "Python 3",
   "language": "python",
   "name": "python3"
  },
  "language_info": {
   "codemirror_mode": {
    "name": "ipython",
    "version": 3
   },
   "file_extension": ".py",
   "mimetype": "text/x-python",
   "name": "python",
   "nbconvert_exporter": "python",
   "pygments_lexer": "ipython3",
   "version": "3.8.5"
  }
 },
 "nbformat": 4,
 "nbformat_minor": 4
}
