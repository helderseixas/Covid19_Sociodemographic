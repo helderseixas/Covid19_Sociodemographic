{
 "cells": [
  {
   "cell_type": "markdown",
   "source": [
    "# Preparing datasets from the Sistema de Informação sobre Mortalidade (SIM) provied by the Ministério da Saúde\n",
    "## Source: https://opendatasus.saude.gov.br/fa_IR/dataset/sim"
   ],
   "metadata": {
    "collapsed": false
   }
  },
  {
   "cell_type": "code",
   "execution_count": 1,
   "outputs": [],
   "source": [
    "import pandas as pd\n",
    "from datetime import datetime"
   ],
   "metadata": {
    "collapsed": false,
    "ExecuteTime": {
     "end_time": "2023-07-29T02:03:46.690046660Z",
     "start_time": "2023-07-29T02:03:46.052446126Z"
    }
   }
  },
  {
   "cell_type": "markdown",
   "source": [
    "## Loading data"
   ],
   "metadata": {
    "collapsed": false
   }
  },
  {
   "cell_type": "code",
   "execution_count": 2,
   "outputs": [],
   "source": [
    "usecols = [2, 6, 8, 9, 11, 12, 13, 14, 15, 16, 19, 28, 29, 34, 40,41,42,43, 44, 45, 46, 47, 48, 46, 48, 54, 55, 56, 63, 64, 65, 66, 69, 71, 72, 74, 75, 76, 78, 79, 81, 83, 85, 86]\n",
    "\n",
    "my_list = ['str'] * len(usecols)\n",
    "\n",
    "dtype = {key: value for key, value in zip(usecols, my_list)}"
   ],
   "metadata": {
    "collapsed": false,
    "ExecuteTime": {
     "end_time": "2023-07-29T02:03:46.723057697Z",
     "start_time": "2023-07-29T02:03:46.052607996Z"
    }
   }
  },
  {
   "cell_type": "code",
   "execution_count": 3,
   "outputs": [],
   "source": [
    "CID_CORONAVIRUS = 'B342'\n",
    "CID_DIAGNOSIS_VIRUS_IDENTIFIED = 'U071'\n",
    "CID_DIAGNOSIS_VIRUS_NOT_IDENTIFIED = 'U072'\n",
    "CID_POST_COVID = 'U099'\n",
    "CID_POST_COVID_MUTISYSTEM_INFLAMATORY_SYNDROME = 'U109'\n",
    "CID_RECURRENCE = 'U921'"
   ],
   "metadata": {
    "collapsed": false,
    "ExecuteTime": {
     "end_time": "2023-07-29T02:03:46.723402810Z",
     "start_time": "2023-07-29T02:03:46.096413666Z"
    }
   }
  },
  {
   "cell_type": "code",
   "execution_count": 4,
   "outputs": [],
   "source": [
    "df = None\n",
    "for filename in ['Mortalidade_Geral_2020.csv', 'Mortalidade_Geral_2021.csv']:\n",
    "    df_temp = pd.read_csv('data/input/'+filename, header=0, sep=';', usecols=usecols, dtype=dtype)\n",
    "    df_temp = df_temp[(df_temp['CAUSABAS'].str.contains(CID_CORONAVIRUS))].copy()\n",
    "    if df is None:\n",
    "        df = df_temp\n",
    "    else:\n",
    "        df = pd.concat([df, df_temp])\n",
    "\n",
    "df_temp = pd.read_csv('data/input/Mortalidade_Geral_2022_previa.csv', header=0, sep=';', dtype='str')\n",
    "columns = [item for item in df.columns if item not in ['CONTADOR']] + ['contador']\n",
    "df_temp = df_temp[columns]\n",
    "df_temp = df_temp[(df_temp['CAUSABAS'].str.contains(CID_CORONAVIRUS))].copy()"
   ],
   "metadata": {
    "collapsed": false,
    "ExecuteTime": {
     "end_time": "2023-07-29T02:04:38.646974578Z",
     "start_time": "2023-07-29T02:03:46.096524317Z"
    }
   }
  },
  {
   "cell_type": "code",
   "execution_count": 5,
   "outputs": [],
   "source": [
    "df_temp = df_temp.rename(columns={'contador': 'CONTADOR'})\n",
    "df = pd.concat([df, df_temp])"
   ],
   "metadata": {
    "collapsed": false,
    "ExecuteTime": {
     "end_time": "2023-07-29T02:04:38.896504017Z",
     "start_time": "2023-07-29T02:04:38.688308164Z"
    }
   }
  },
  {
   "cell_type": "code",
   "execution_count": 6,
   "outputs": [
    {
     "data": {
      "text/plain": "(700955, 42)"
     },
     "execution_count": 6,
     "metadata": {},
     "output_type": "execute_result"
    }
   ],
   "source": [
    "df.shape"
   ],
   "metadata": {
    "collapsed": false,
    "ExecuteTime": {
     "end_time": "2023-07-29T02:04:38.960477273Z",
     "start_time": "2023-07-29T02:04:38.904328060Z"
    }
   }
  },
  {
   "cell_type": "code",
   "execution_count": 7,
   "outputs": [
    {
     "data": {
      "text/plain": "          DTOBITO CAUSABAS CAUSABAS_O                   ATESTADO\n3        21052020     B342       B342   B342 U071/J960/J180*J440\n9        27052020     B342       B342   B342 U071/J159*B342 U071\n10       27052020     B342       U049  /J159/B342 U071 U049*I471\n16       05052020     B342       B342        A419/J189/B342 U071\n34       25052020     B342       B342         J80/B342 U071/N179\n...           ...      ...        ...                        ...\n1506840  31122022     B342       B342    B342 U072/F03*D469 N039\n1506888  31122022     B342       B342        G931/J189/B342 U071\n1506897  31122022     B342       B342        B342 U071/J984/J159\n1507025  13012022     B342        NaN             I219/B342 U071\n1507032  07032022     B342        NaN    A419/J189/B342 U071*I10\n\n[700955 rows x 4 columns]",
      "text/html": "<div>\n<style scoped>\n    .dataframe tbody tr th:only-of-type {\n        vertical-align: middle;\n    }\n\n    .dataframe tbody tr th {\n        vertical-align: top;\n    }\n\n    .dataframe thead th {\n        text-align: right;\n    }\n</style>\n<table border=\"1\" class=\"dataframe\">\n  <thead>\n    <tr style=\"text-align: right;\">\n      <th></th>\n      <th>DTOBITO</th>\n      <th>CAUSABAS</th>\n      <th>CAUSABAS_O</th>\n      <th>ATESTADO</th>\n    </tr>\n  </thead>\n  <tbody>\n    <tr>\n      <th>3</th>\n      <td>21052020</td>\n      <td>B342</td>\n      <td>B342</td>\n      <td>B342 U071/J960/J180*J440</td>\n    </tr>\n    <tr>\n      <th>9</th>\n      <td>27052020</td>\n      <td>B342</td>\n      <td>B342</td>\n      <td>B342 U071/J159*B342 U071</td>\n    </tr>\n    <tr>\n      <th>10</th>\n      <td>27052020</td>\n      <td>B342</td>\n      <td>U049</td>\n      <td>/J159/B342 U071 U049*I471</td>\n    </tr>\n    <tr>\n      <th>16</th>\n      <td>05052020</td>\n      <td>B342</td>\n      <td>B342</td>\n      <td>A419/J189/B342 U071</td>\n    </tr>\n    <tr>\n      <th>34</th>\n      <td>25052020</td>\n      <td>B342</td>\n      <td>B342</td>\n      <td>J80/B342 U071/N179</td>\n    </tr>\n    <tr>\n      <th>...</th>\n      <td>...</td>\n      <td>...</td>\n      <td>...</td>\n      <td>...</td>\n    </tr>\n    <tr>\n      <th>1506840</th>\n      <td>31122022</td>\n      <td>B342</td>\n      <td>B342</td>\n      <td>B342 U072/F03*D469 N039</td>\n    </tr>\n    <tr>\n      <th>1506888</th>\n      <td>31122022</td>\n      <td>B342</td>\n      <td>B342</td>\n      <td>G931/J189/B342 U071</td>\n    </tr>\n    <tr>\n      <th>1506897</th>\n      <td>31122022</td>\n      <td>B342</td>\n      <td>B342</td>\n      <td>B342 U071/J984/J159</td>\n    </tr>\n    <tr>\n      <th>1507025</th>\n      <td>13012022</td>\n      <td>B342</td>\n      <td>NaN</td>\n      <td>I219/B342 U071</td>\n    </tr>\n    <tr>\n      <th>1507032</th>\n      <td>07032022</td>\n      <td>B342</td>\n      <td>NaN</td>\n      <td>A419/J189/B342 U071*I10</td>\n    </tr>\n  </tbody>\n</table>\n<p>700955 rows × 4 columns</p>\n</div>"
     },
     "execution_count": 7,
     "metadata": {},
     "output_type": "execute_result"
    }
   ],
   "source": [
    "df[['DTOBITO','CAUSABAS','CAUSABAS_O','ATESTADO']]"
   ],
   "metadata": {
    "collapsed": false,
    "ExecuteTime": {
     "end_time": "2023-07-29T02:04:39.224019570Z",
     "start_time": "2023-07-29T02:04:38.952428172Z"
    }
   }
  },
  {
   "cell_type": "code",
   "execution_count": 8,
   "outputs": [],
   "source": [
    "date_columns = ['DTOBITO','DTATESTADO', 'DTNASC', 'DTCADASTRO', 'DTRECEBIM', 'DTRECORIGA','DTCADINF', 'DTCADINV', 'DTCONCASO', 'DTINVESTIG']\n",
    "df[date_columns] = df[date_columns].apply(pd.to_datetime, format='%d%m%Y')\n",
    "\n",
    "df['DIFDATA'] = df.DIFDATA.astype(int)\n",
    "\n",
    "df['DIFDATA_CADASTRO_OBITO'] = (df.DTCADASTRO - df.DTOBITO).dt.days\n",
    "df['DIFDATA_CADASTRO_ATESTADO'] = (df.DTCADASTRO - df.DTATESTADO).dt.days\n",
    "df['DIFDATA_ATESTADO_OBITO'] = (df.DTATESTADO - df.DTOBITO).dt.days"
   ],
   "metadata": {
    "collapsed": false,
    "ExecuteTime": {
     "end_time": "2023-07-29T02:04:44.154285403Z",
     "start_time": "2023-07-29T02:04:39.217033245Z"
    }
   }
  },
  {
   "cell_type": "code",
   "execution_count": 9,
   "outputs": [],
   "source": [
    "df_municipal_base = pd.read_csv('data/input/df_municpal.csv')[['MUNICIPIO','CODIGO_MUNICIPIO_6','SIGLA_ESTADO','ESTADO','REGIAO','POPULACAO_2022']]"
   ],
   "metadata": {
    "collapsed": false,
    "ExecuteTime": {
     "end_time": "2023-07-29T02:04:44.434330310Z",
     "start_time": "2023-07-29T02:04:44.163268549Z"
    }
   }
  },
  {
   "cell_type": "markdown",
   "source": [
    "## Treating anomalies"
   ],
   "metadata": {
    "collapsed": false
   }
  },
  {
   "cell_type": "code",
   "execution_count": 10,
   "outputs": [
    {
     "data": {
      "text/plain": "<Axes: >"
     },
     "execution_count": 10,
     "metadata": {},
     "output_type": "execute_result"
    },
    {
     "data": {
      "text/plain": "<Figure size 432x288 with 1 Axes>",
      "image/png": "[encoded data removed]"
     },
     "metadata": {
      "needs_background": "light"
     },
     "output_type": "display_data"
    }
   ],
   "source": [
    "df.boxplot(column=['DIFDATA', 'DIFDATA_ATESTADO_OBITO', 'DIFDATA_CADASTRO_OBITO', 'DIFDATA_CADASTRO_ATESTADO'],figsize=(12,4))"
   ],
   "metadata": {
    "collapsed": false,
    "ExecuteTime": {
     "end_time": "2023-07-29T02:04:47.029717438Z",
     "start_time": "2023-07-29T02:04:44.438304184Z"
    }
   }
  },
  {
   "cell_type": "code",
   "execution_count": 11,
   "outputs": [
    {
     "data": {
      "text/plain": "count    700140.000000\nmean          0.267566\nstd           5.596147\nmin        -304.000000\n25%           0.000000\n50%           0.000000\n75%           0.000000\nmax         730.000000\nName: DIFDATA_ATESTADO_OBITO, dtype: float64"
     },
     "execution_count": 11,
     "metadata": {},
     "output_type": "execute_result"
    }
   ],
   "source": [
    "df.DIFDATA_ATESTADO_OBITO.describe()"
   ],
   "metadata": {
    "collapsed": false,
    "ExecuteTime": {
     "end_time": "2023-07-29T02:04:47.103561793Z",
     "start_time": "2023-07-29T02:04:47.027564054Z"
    }
   }
  },
  {
   "cell_type": "code",
   "execution_count": 12,
   "outputs": [
    {
     "data": {
      "text/plain": "           DTOBITO DTATESTADO DTCADASTRO  DTRECEBIM  DIFDATA  \\\n74      2020-05-26 2020-05-27 2020-06-15 2020-06-22       27   \n1712    2020-06-20 2020-06-22 2020-07-06 2020-07-17       27   \n1727    2020-06-16 2020-06-17 2020-07-08 2020-07-17       31   \n1779    2020-06-20 2020-06-22 2020-07-06 2020-07-17       27   \n1853    2020-06-30 2020-07-01 2020-07-13 2020-07-17       17   \n...            ...        ...        ...        ...      ...   \n1506438 2022-12-31 2023-01-01 2023-01-06 2023-01-11       11   \n1506512 2022-12-31 2023-01-01 2023-01-04 2023-01-12       12   \n1506622 2022-12-31 2023-01-01 2023-01-16 2023-01-16       16   \n1507025 2022-01-13 2022-02-07 2022-03-22        NaT       68   \n1507032 2022-03-07 2022-03-09 2022-04-13        NaT       37   \n\n         DIFDATA_ATESTADO_OBITO  \n74                          1.0  \n1712                        2.0  \n1727                        1.0  \n1779                        2.0  \n1853                        1.0  \n...                         ...  \n1506438                     1.0  \n1506512                     1.0  \n1506622                     1.0  \n1507025                    25.0  \n1507032                     2.0  \n\n[40225 rows x 6 columns]",
      "text/html": "<div>\n<style scoped>\n    .dataframe tbody tr th:only-of-type {\n        vertical-align: middle;\n    }\n\n    .dataframe tbody tr th {\n        vertical-align: top;\n    }\n\n    .dataframe thead th {\n        text-align: right;\n    }\n</style>\n<table border=\"1\" class=\"dataframe\">\n  <thead>\n    <tr style=\"text-align: right;\">\n      <th></th>\n      <th>DTOBITO</th>\n      <th>DTATESTADO</th>\n      <th>DTCADASTRO</th>\n      <th>DTRECEBIM</th>\n      <th>DIFDATA</th>\n      <th>DIFDATA_ATESTADO_OBITO</th>\n    </tr>\n  </thead>\n  <tbody>\n    <tr>\n      <th>74</th>\n      <td>2020-05-26</td>\n      <td>2020-05-27</td>\n      <td>2020-06-15</td>\n      <td>2020-06-22</td>\n      <td>27</td>\n      <td>1.0</td>\n    </tr>\n    <tr>\n      <th>1712</th>\n      <td>2020-06-20</td>\n      <td>2020-06-22</td>\n      <td>2020-07-06</td>\n      <td>2020-07-17</td>\n      <td>27</td>\n      <td>2.0</td>\n    </tr>\n    <tr>\n      <th>1727</th>\n      <td>2020-06-16</td>\n      <td>2020-06-17</td>\n      <td>2020-07-08</td>\n      <td>2020-07-17</td>\n      <td>31</td>\n      <td>1.0</td>\n    </tr>\n    <tr>\n      <th>1779</th>\n      <td>2020-06-20</td>\n      <td>2020-06-22</td>\n      <td>2020-07-06</td>\n      <td>2020-07-17</td>\n      <td>27</td>\n      <td>2.0</td>\n    </tr>\n    <tr>\n      <th>1853</th>\n      <td>2020-06-30</td>\n      <td>2020-07-01</td>\n      <td>2020-07-13</td>\n      <td>2020-07-17</td>\n      <td>17</td>\n      <td>1.0</td>\n    </tr>\n    <tr>\n      <th>...</th>\n      <td>...</td>\n      <td>...</td>\n      <td>...</td>\n      <td>...</td>\n      <td>...</td>\n      <td>...</td>\n    </tr>\n    <tr>\n      <th>1506438</th>\n      <td>2022-12-31</td>\n      <td>2023-01-01</td>\n      <td>2023-01-06</td>\n      <td>2023-01-11</td>\n      <td>11</td>\n      <td>1.0</td>\n    </tr>\n    <tr>\n      <th>1506512</th>\n      <td>2022-12-31</td>\n      <td>2023-01-01</td>\n      <td>2023-01-04</td>\n      <td>2023-01-12</td>\n      <td>12</td>\n      <td>1.0</td>\n    </tr>\n    <tr>\n      <th>1506622</th>\n      <td>2022-12-31</td>\n      <td>2023-01-01</td>\n      <td>2023-01-16</td>\n      <td>2023-01-16</td>\n      <td>16</td>\n      <td>1.0</td>\n    </tr>\n    <tr>\n      <th>1507025</th>\n      <td>2022-01-13</td>\n      <td>2022-02-07</td>\n      <td>2022-03-22</td>\n      <td>NaT</td>\n      <td>68</td>\n      <td>25.0</td>\n    </tr>\n    <tr>\n      <th>1507032</th>\n      <td>2022-03-07</td>\n      <td>2022-03-09</td>\n      <td>2022-04-13</td>\n      <td>NaT</td>\n      <td>37</td>\n      <td>2.0</td>\n    </tr>\n  </tbody>\n</table>\n<p>40225 rows × 6 columns</p>\n</div>"
     },
     "execution_count": 12,
     "metadata": {},
     "output_type": "execute_result"
    }
   ],
   "source": [
    "df[df.DIFDATA_ATESTADO_OBITO!=0][['DTOBITO','DTATESTADO','DTCADASTRO','DTRECEBIM','DIFDATA', 'DIFDATA_ATESTADO_OBITO']]"
   ],
   "metadata": {
    "collapsed": false,
    "ExecuteTime": {
     "end_time": "2023-07-29T02:04:47.200633961Z",
     "start_time": "2023-07-29T02:04:47.079910196Z"
    }
   }
  },
  {
   "cell_type": "code",
   "execution_count": 13,
   "outputs": [
    {
     "data": {
      "text/plain": "count    700140.000000\nmean          0.267566\nstd           5.596147\nmin        -304.000000\n25%           0.000000\n50%           0.000000\n75%           0.000000\nmax         730.000000\nName: DIFDATA_ATESTADO_OBITO, dtype: float64"
     },
     "execution_count": 13,
     "metadata": {},
     "output_type": "execute_result"
    }
   ],
   "source": [
    "df.DIFDATA_ATESTADO_OBITO.describe()"
   ],
   "metadata": {
    "collapsed": false,
    "ExecuteTime": {
     "end_time": "2023-07-29T02:04:47.326203222Z",
     "start_time": "2023-07-29T02:04:47.172065708Z"
    }
   }
  },
  {
   "cell_type": "code",
   "execution_count": 14,
   "outputs": [
    {
     "data": {
      "text/plain": "count    39410.000000\nmean         4.753464\nstd         23.131153\nmin       -304.000000\n25%          1.000000\n50%          1.000000\n75%          1.000000\nmax        730.000000\nName: DIFDATA_ATESTADO_OBITO, dtype: float64"
     },
     "execution_count": 14,
     "metadata": {},
     "output_type": "execute_result"
    }
   ],
   "source": [
    "df[df.DIFDATA_ATESTADO_OBITO!=0].DIFDATA_ATESTADO_OBITO.describe()"
   ],
   "metadata": {
    "collapsed": false,
    "ExecuteTime": {
     "end_time": "2023-07-29T02:04:47.360551864Z",
     "start_time": "2023-07-29T02:04:47.244383144Z"
    }
   }
  },
  {
   "cell_type": "code",
   "execution_count": 15,
   "outputs": [],
   "source": [
    "filter_attribute_DTATESTADO_TO_DTOBITO = ((df.DIFDATA_ATESTADO_OBITO < 0) | (df.DIFDATA_ATESTADO_OBITO > 28)) & (df.DIFDATA_CADASTRO_ATESTADO < df.DIFDATA_CADASTRO_OBITO)"
   ],
   "metadata": {
    "collapsed": false,
    "ExecuteTime": {
     "end_time": "2023-07-29T02:04:47.360788418Z",
     "start_time": "2023-07-29T02:04:47.288320690Z"
    }
   }
  },
  {
   "cell_type": "code",
   "execution_count": 16,
   "outputs": [],
   "source": [
    "filter_attribute_DTOBITO_TO_DTATESTADO = ((df.DIFDATA_ATESTADO_OBITO < 0) | (df.DIFDATA_ATESTADO_OBITO > 28)) & (df.DIFDATA_CADASTRO_ATESTADO >= df.DIFDATA_CADASTRO_OBITO)"
   ],
   "metadata": {
    "collapsed": false,
    "ExecuteTime": {
     "end_time": "2023-07-29T02:04:47.434630351Z",
     "start_time": "2023-07-29T02:04:47.288449518Z"
    }
   }
  },
  {
   "cell_type": "code",
   "execution_count": 17,
   "outputs": [],
   "source": [
    "df.loc[filter_attribute_DTATESTADO_TO_DTOBITO, 'DTOBITO'] = df.loc[filter_attribute_DTATESTADO_TO_DTOBITO, 'DTATESTADO']\n",
    "df.loc[filter_attribute_DTATESTADO_TO_DTOBITO, 'DATA_AJUSTADA'] = 'DTATESTADO_TO_DTOBITO'"
   ],
   "metadata": {
    "collapsed": false,
    "ExecuteTime": {
     "end_time": "2023-07-29T02:04:47.499171108Z",
     "start_time": "2023-07-29T02:04:47.332478065Z"
    }
   }
  },
  {
   "cell_type": "code",
   "execution_count": 18,
   "outputs": [],
   "source": [
    "df.loc[filter_attribute_DTOBITO_TO_DTATESTADO, 'DTATESTADO'] = df.loc[filter_attribute_DTOBITO_TO_DTATESTADO, 'DTOBITO']\n",
    "df.loc[filter_attribute_DTOBITO_TO_DTATESTADO, 'DATA_AJUSTADA'] = 'DTOBITO_TO_DTATESTADO'"
   ],
   "metadata": {
    "collapsed": false,
    "ExecuteTime": {
     "end_time": "2023-07-29T02:04:47.621119647Z",
     "start_time": "2023-07-29T02:04:47.351945588Z"
    }
   }
  },
  {
   "cell_type": "code",
   "execution_count": 19,
   "outputs": [
    {
     "data": {
      "text/plain": "           DTOBITO DTATESTADO DTCADASTRO  DTRECEBIM DATA_AJUSTADA\n3       2020-05-21 2020-05-21 2020-05-29 2020-05-29           NaN\n9       2020-05-27 2020-05-27 2020-05-29 2020-05-29           NaN\n10      2020-05-27 2020-05-27 2020-05-29 2020-05-29           NaN\n16      2020-05-05 2020-05-05 2020-06-08 2020-12-18           NaN\n34      2020-05-25 2020-05-25 2020-06-12 2020-06-22           NaN\n...            ...        ...        ...        ...           ...\n1506840 2022-12-31 2022-12-31 2023-01-06 2023-01-16           NaN\n1506888 2022-12-31 2022-12-31 2023-01-11 2023-01-17           NaN\n1506897 2022-12-31 2022-12-31 2023-01-03 2023-01-12           NaN\n1507025 2022-01-13 2022-02-07 2022-03-22        NaT           NaN\n1507032 2022-03-07 2022-03-09 2022-04-13        NaT           NaN\n\n[700955 rows x 5 columns]",
      "text/html": "<div>\n<style scoped>\n    .dataframe tbody tr th:only-of-type {\n        vertical-align: middle;\n    }\n\n    .dataframe tbody tr th {\n        vertical-align: top;\n    }\n\n    .dataframe thead th {\n        text-align: right;\n    }\n</style>\n<table border=\"1\" class=\"dataframe\">\n  <thead>\n    <tr style=\"text-align: right;\">\n      <th></th>\n      <th>DTOBITO</th>\n      <th>DTATESTADO</th>\n      <th>DTCADASTRO</th>\n      <th>DTRECEBIM</th>\n      <th>DATA_AJUSTADA</th>\n    </tr>\n  </thead>\n  <tbody>\n    <tr>\n      <th>3</th>\n      <td>2020-05-21</td>\n      <td>2020-05-21</td>\n      <td>2020-05-29</td>\n      <td>2020-05-29</td>\n      <td>NaN</td>\n    </tr>\n    <tr>\n      <th>9</th>\n      <td>2020-05-27</td>\n      <td>2020-05-27</td>\n      <td>2020-05-29</td>\n      <td>2020-05-29</td>\n      <td>NaN</td>\n    </tr>\n    <tr>\n      <th>10</th>\n      <td>2020-05-27</td>\n      <td>2020-05-27</td>\n      <td>2020-05-29</td>\n      <td>2020-05-29</td>\n      <td>NaN</td>\n    </tr>\n    <tr>\n      <th>16</th>\n      <td>2020-05-05</td>\n      <td>2020-05-05</td>\n      <td>2020-06-08</td>\n      <td>2020-12-18</td>\n      <td>NaN</td>\n    </tr>\n    <tr>\n      <th>34</th>\n      <td>2020-05-25</td>\n      <td>2020-05-25</td>\n      <td>2020-06-12</td>\n      <td>2020-06-22</td>\n      <td>NaN</td>\n    </tr>\n    <tr>\n      <th>...</th>\n      <td>...</td>\n      <td>...</td>\n      <td>...</td>\n      <td>...</td>\n      <td>...</td>\n    </tr>\n    <tr>\n      <th>1506840</th>\n      <td>2022-12-31</td>\n      <td>2022-12-31</td>\n      <td>2023-01-06</td>\n      <td>2023-01-16</td>\n      <td>NaN</td>\n    </tr>\n    <tr>\n      <th>1506888</th>\n      <td>2022-12-31</td>\n      <td>2022-12-31</td>\n      <td>2023-01-11</td>\n      <td>2023-01-17</td>\n      <td>NaN</td>\n    </tr>\n    <tr>\n      <th>1506897</th>\n      <td>2022-12-31</td>\n      <td>2022-12-31</td>\n      <td>2023-01-03</td>\n      <td>2023-01-12</td>\n      <td>NaN</td>\n    </tr>\n    <tr>\n      <th>1507025</th>\n      <td>2022-01-13</td>\n      <td>2022-02-07</td>\n      <td>2022-03-22</td>\n      <td>NaT</td>\n      <td>NaN</td>\n    </tr>\n    <tr>\n      <th>1507032</th>\n      <td>2022-03-07</td>\n      <td>2022-03-09</td>\n      <td>2022-04-13</td>\n      <td>NaT</td>\n      <td>NaN</td>\n    </tr>\n  </tbody>\n</table>\n<p>700955 rows × 5 columns</p>\n</div>"
     },
     "execution_count": 19,
     "metadata": {},
     "output_type": "execute_result"
    }
   ],
   "source": [
    "df[['DTOBITO','DTATESTADO','DTCADASTRO', 'DTRECEBIM', 'DATA_AJUSTADA']]"
   ],
   "metadata": {
    "collapsed": false,
    "ExecuteTime": {
     "end_time": "2023-07-29T02:04:47.716128191Z",
     "start_time": "2023-07-29T02:04:47.392371757Z"
    }
   }
  },
  {
   "cell_type": "code",
   "execution_count": 20,
   "outputs": [
    {
     "data": {
      "text/plain": "(700952, 46)"
     },
     "execution_count": 20,
     "metadata": {},
     "output_type": "execute_result"
    }
   ],
   "source": [
    "STUDY_BEGIN_DATE = datetime.fromisoformat('2020-03-12')\n",
    "STUDY_END_DATE = datetime.fromisoformat('2022-12-31')\n",
    "\n",
    "df = df[(df.DTOBITO >= STUDY_BEGIN_DATE) & (df.DTOBITO <= STUDY_END_DATE)]\n",
    "df.shape"
   ],
   "metadata": {
    "collapsed": false,
    "ExecuteTime": {
     "end_time": "2023-07-29T02:04:47.992539Z",
     "start_time": "2023-07-29T02:04:47.690210244Z"
    }
   }
  },
  {
   "cell_type": "code",
   "execution_count": 21,
   "outputs": [
    {
     "data": {
      "text/plain": "(700894, 46)"
     },
     "execution_count": 21,
     "metadata": {},
     "output_type": "execute_result"
    }
   ],
   "source": [
    "df[(df['ATESTADO'].str.contains(CID_CORONAVIRUS))].shape"
   ],
   "metadata": {
    "collapsed": false,
    "ExecuteTime": {
     "end_time": "2023-07-29T02:04:48.741305412Z",
     "start_time": "2023-07-29T02:04:48.029738412Z"
    }
   }
  },
  {
   "cell_type": "code",
   "execution_count": 22,
   "outputs": [
    {
     "data": {
      "text/plain": "(590744, 46)"
     },
     "execution_count": 22,
     "metadata": {},
     "output_type": "execute_result"
    }
   ],
   "source": [
    "df[(df['ATESTADO'].str.contains(CID_DIAGNOSIS_VIRUS_IDENTIFIED))].shape"
   ],
   "metadata": {
    "collapsed": false,
    "ExecuteTime": {
     "end_time": "2023-07-29T02:04:49.264363611Z",
     "start_time": "2023-07-29T02:04:48.760232776Z"
    }
   }
  },
  {
   "cell_type": "code",
   "execution_count": 23,
   "outputs": [
    {
     "data": {
      "text/plain": "(92579, 46)"
     },
     "execution_count": 23,
     "metadata": {},
     "output_type": "execute_result"
    }
   ],
   "source": [
    "df[(df['ATESTADO'].str.contains(CID_DIAGNOSIS_VIRUS_NOT_IDENTIFIED))].shape"
   ],
   "metadata": {
    "collapsed": false,
    "ExecuteTime": {
     "end_time": "2023-07-29T02:04:49.608314846Z",
     "start_time": "2023-07-29T02:04:49.305092509Z"
    }
   }
  },
  {
   "cell_type": "code",
   "execution_count": 24,
   "outputs": [
    {
     "data": {
      "text/plain": "(123, 46)"
     },
     "execution_count": 24,
     "metadata": {},
     "output_type": "execute_result"
    }
   ],
   "source": [
    "df[(df['ATESTADO'].str.contains(CID_POST_COVID))].shape"
   ],
   "metadata": {
    "collapsed": false,
    "ExecuteTime": {
     "end_time": "2023-07-29T02:04:49.867693211Z",
     "start_time": "2023-07-29T02:04:49.643525976Z"
    }
   }
  },
  {
   "cell_type": "code",
   "execution_count": 25,
   "outputs": [
    {
     "data": {
      "text/plain": "(107, 46)"
     },
     "execution_count": 25,
     "metadata": {},
     "output_type": "execute_result"
    }
   ],
   "source": [
    "df[(df['ATESTADO'].str.contains(CID_POST_COVID_MUTISYSTEM_INFLAMATORY_SYNDROME))].shape"
   ],
   "metadata": {
    "collapsed": false,
    "ExecuteTime": {
     "end_time": "2023-07-29T02:04:50.140481216Z",
     "start_time": "2023-07-29T02:04:49.901503502Z"
    }
   }
  },
  {
   "cell_type": "code",
   "execution_count": 26,
   "outputs": [
    {
     "data": {
      "text/plain": "(18, 46)"
     },
     "execution_count": 26,
     "metadata": {},
     "output_type": "execute_result"
    }
   ],
   "source": [
    "df[(df['ATESTADO'].str.contains(CID_RECURRENCE))].shape"
   ],
   "metadata": {
    "collapsed": false,
    "ExecuteTime": {
     "end_time": "2023-07-29T02:04:50.392615137Z",
     "start_time": "2023-07-29T02:04:50.174491553Z"
    }
   }
  },
  {
   "cell_type": "markdown",
   "source": [
    "## Saving raw data"
   ],
   "metadata": {
    "collapsed": false
   }
  },
  {
   "cell_type": "code",
   "execution_count": 27,
   "outputs": [],
   "source": [
    "df.to_csv('data/output/df_sim_covid_deaths_raw.csv', index=False)"
   ],
   "metadata": {
    "collapsed": false,
    "ExecuteTime": {
     "end_time": "2023-07-29T02:05:14.471927603Z",
     "start_time": "2023-07-29T02:04:50.388126674Z"
    }
   }
  },
  {
   "cell_type": "markdown",
   "source": [
    "## Preparing national datasets by type of death registration"
   ],
   "metadata": {
    "collapsed": false
   }
  },
  {
   "cell_type": "code",
   "execution_count": 28,
   "outputs": [],
   "source": [
    "df_virus_not_identified = df[(df['ATESTADO'].str.contains(CID_DIAGNOSIS_VIRUS_NOT_IDENTIFIED))].copy()\n",
    "df_virus_identified = df[(df['ATESTADO'].str.contains(CID_DIAGNOSIS_VIRUS_IDENTIFIED)) |\n",
    "                  (df['ATESTADO'].str.contains(CID_RECURRENCE))].copy()\n",
    "df_post_covid = df[(df['ATESTADO'].str.contains(CID_POST_COVID)) |\n",
    "                  (df['ATESTADO'].str.contains(CID_POST_COVID_MUTISYSTEM_INFLAMATORY_SYNDROME))].copy()"
   ],
   "metadata": {
    "collapsed": false,
    "ExecuteTime": {
     "end_time": "2023-07-29T02:05:15.954544936Z",
     "start_time": "2023-07-29T02:05:14.516550520Z"
    }
   }
  },
  {
   "cell_type": "code",
   "execution_count": 29,
   "outputs": [],
   "source": [
    "df_not_specified = df[(((df['ATESTADO'].str.contains(CID_DIAGNOSIS_VIRUS_IDENTIFIED)) |\n",
    "                            (df['ATESTADO'].str.contains(CID_DIAGNOSIS_VIRUS_NOT_IDENTIFIED)) |\n",
    "                            (df['ATESTADO'].str.contains(CID_RECURRENCE)))==False)].copy()"
   ],
   "metadata": {
    "collapsed": false,
    "ExecuteTime": {
     "end_time": "2023-07-29T02:05:16.662845570Z",
     "start_time": "2023-07-29T02:05:15.995385053Z"
    }
   }
  },
  {
   "cell_type": "code",
   "execution_count": 30,
   "outputs": [
    {
     "data": {
      "text/plain": "(92579, 46)"
     },
     "execution_count": 30,
     "metadata": {},
     "output_type": "execute_result"
    }
   ],
   "source": [
    "df_virus_not_identified.shape"
   ],
   "metadata": {
    "collapsed": false,
    "ExecuteTime": {
     "end_time": "2023-07-29T02:05:16.674317952Z",
     "start_time": "2023-07-29T02:05:16.666143910Z"
    }
   }
  },
  {
   "cell_type": "code",
   "execution_count": 31,
   "outputs": [
    {
     "data": {
      "text/plain": "(590762, 46)"
     },
     "execution_count": 31,
     "metadata": {},
     "output_type": "execute_result"
    }
   ],
   "source": [
    "df_virus_identified.shape"
   ],
   "metadata": {
    "collapsed": false,
    "ExecuteTime": {
     "end_time": "2023-07-29T02:05:16.750847599Z",
     "start_time": "2023-07-29T02:05:16.670008302Z"
    }
   }
  },
  {
   "cell_type": "code",
   "execution_count": 32,
   "outputs": [
    {
     "data": {
      "text/plain": "(230, 46)"
     },
     "execution_count": 32,
     "metadata": {},
     "output_type": "execute_result"
    }
   ],
   "source": [
    "df_post_covid.shape"
   ],
   "metadata": {
    "collapsed": false,
    "ExecuteTime": {
     "end_time": "2023-07-29T02:05:16.846133001Z",
     "start_time": "2023-07-29T02:05:16.698595206Z"
    }
   }
  },
  {
   "cell_type": "code",
   "execution_count": 33,
   "outputs": [
    {
     "data": {
      "text/plain": "(17660, 46)"
     },
     "execution_count": 33,
     "metadata": {},
     "output_type": "execute_result"
    }
   ],
   "source": [
    "df_not_specified.shape"
   ],
   "metadata": {
    "collapsed": false,
    "ExecuteTime": {
     "end_time": "2023-07-29T02:05:16.846506023Z",
     "start_time": "2023-07-29T02:05:16.764389930Z"
    }
   }
  },
  {
   "cell_type": "code",
   "execution_count": 34,
   "outputs": [
    {
     "data": {
      "text/plain": "(700952, 46)"
     },
     "execution_count": 34,
     "metadata": {},
     "output_type": "execute_result"
    }
   ],
   "source": [
    "df.shape"
   ],
   "metadata": {
    "collapsed": false,
    "ExecuteTime": {
     "end_time": "2023-07-29T02:05:16.917124229Z",
     "start_time": "2023-07-29T02:05:16.764634601Z"
    }
   }
  },
  {
   "cell_type": "code",
   "execution_count": 35,
   "outputs": [],
   "source": [
    "days = (df.DTOBITO.max() - df.DTOBITO.min()).days + 1\n",
    "\n",
    "date_range = pd.date_range(start=STUDY_BEGIN_DATE, end=STUDY_END_DATE, periods=days)\n",
    "\n",
    "# Create the DataFrame\n",
    "df_auxiliar = pd.DataFrame({'DATA': date_range})"
   ],
   "metadata": {
    "collapsed": false,
    "ExecuteTime": {
     "end_time": "2023-07-29T02:05:16.918065261Z",
     "start_time": "2023-07-29T02:05:16.808384007Z"
    }
   }
  },
  {
   "cell_type": "code",
   "execution_count": 36,
   "outputs": [],
   "source": [
    "for df_temp, label in zip([df, df_virus_identified, df_virus_not_identified, df_post_covid, df_not_specified], ['general', 'virus_identified','virus_not_identified', 'post_covid', 'not_specified']):\n",
    "    df_national_timeseries = df_temp.groupby('DTOBITO').count()[['CODMUNRES']].reset_index().copy()\n",
    "    df_national_timeseries = df_national_timeseries.rename(columns={'CODMUNRES': 'OBITOS_NOVOS', 'DTOBITO': 'DATA'})\n",
    "    df_national_timeseries = df_auxiliar.merge(df_national_timeseries, on='DATA', how='left')\n",
    "    df_national_timeseries = df_national_timeseries.fillna(0)\n",
    "\n",
    "    df_national_timeseries = df_national_timeseries.sort_values('DATA')\n",
    "    df_national_timeseries['OBITOS'] = df_national_timeseries['OBITOS_NOVOS'].cumsum()\n",
    "\n",
    "    df_national_timeseries.to_csv('data/output/df_sim_covid_deaths_national_'+label+'.csv', index=False)"
   ],
   "metadata": {
    "collapsed": false,
    "ExecuteTime": {
     "end_time": "2023-07-29T02:05:18.948041019Z",
     "start_time": "2023-07-29T02:05:16.817033837Z"
    }
   }
  },
  {
   "cell_type": "markdown",
   "source": [],
   "metadata": {
    "collapsed": false
   }
  },
  {
   "cell_type": "markdown",
   "source": [
    "## Preparing municipal datasets"
   ],
   "metadata": {
    "collapsed": false
   }
  },
  {
   "cell_type": "code",
   "execution_count": 44,
   "outputs": [],
   "source": [
    "df_municipal = df.groupby('CODMUNRES').count()[['DTOBITO']].reset_index().copy()\n",
    "df_municipal['CODMUNRES'] = df_municipal['CODMUNRES'].astype(int)\n",
    "df_municipal = df_municipal.rename(columns={'DTOBITO': 'OBITOS', 'CODMUNRES': 'CODIGO_MUNICIPIO_6'})\n",
    "df_municipal = df_municipal_base.merge(df_municipal, left_on='CODIGO_MUNICIPIO_6', right_on='CODIGO_MUNICIPIO_6', how='left')\n",
    "df_municipal.OBITOS = df_municipal.OBITOS.fillna(0)"
   ],
   "metadata": {
    "collapsed": false,
    "ExecuteTime": {
     "end_time": "2023-07-29T02:12:48.295296642Z",
     "start_time": "2023-07-29T02:12:46.972857231Z"
    }
   }
  },
  {
   "cell_type": "code",
   "execution_count": 45,
   "outputs": [
    {
     "data": {
      "text/plain": "700794.0"
     },
     "execution_count": 45,
     "metadata": {},
     "output_type": "execute_result"
    }
   ],
   "source": [
    "df_municipal.OBITOS.sum()"
   ],
   "metadata": {
    "collapsed": false,
    "ExecuteTime": {
     "end_time": "2023-07-29T02:12:51.295801985Z",
     "start_time": "2023-07-29T02:12:51.253208845Z"
    }
   }
  },
  {
   "cell_type": "code",
   "execution_count": 46,
   "outputs": [
    {
     "data": {
      "text/plain": "5570"
     },
     "execution_count": 46,
     "metadata": {},
     "output_type": "execute_result"
    }
   ],
   "source": [
    "len(df_municipal)"
   ],
   "metadata": {
    "collapsed": false,
    "ExecuteTime": {
     "end_time": "2023-07-29T02:12:59.420883122Z",
     "start_time": "2023-07-29T02:12:59.338654939Z"
    }
   }
  },
  {
   "cell_type": "code",
   "execution_count": 83,
   "outputs": [],
   "source": [
    "for column, label in zip(['CODMUNRES','CODMUNOCOR'], ['residence', 'occurrence']):\n",
    "    df_municipal = df.groupby(column).count()[['DTOBITO']].reset_index().copy()\n",
    "    df_municipal[column] = df_municipal[column].astype(int)\n",
    "    df_municipal = df_municipal.rename(columns={'DTOBITO': 'OBITOS', column: 'CODIGO_MUNICIPIO_6'})\n",
    "    df_municipal = df_municipal_base.merge(df_municipal, left_on='CODIGO_MUNICIPIO_6', right_on='CODIGO_MUNICIPIO_6', how='left')\n",
    "    df_municipal.OBITOS = df_municipal.OBITOS.fillna(0)\n",
    "\n",
    "    df_municipal.to_csv('data/output/df_covid_deaths_municipal_'+label+'.csv', index=False)"
   ],
   "metadata": {
    "collapsed": false,
    "ExecuteTime": {
     "end_time": "2023-07-24T13:51:29.958723750Z",
     "start_time": "2023-07-24T13:51:28.048284263Z"
    }
   }
  },
  {
   "cell_type": "code",
   "execution_count": 84,
   "outputs": [
    {
     "data": {
      "text/plain": "                  MUNICIPIO  CODIGO_MUNICIPIO_6 SIGLA_ESTADO  \\\n0     Alta Floresta D'Oeste              110001           RO   \n1                 Ariquemes              110002           RO   \n2                    Cabixi              110003           RO   \n3                    Cacoal              110004           RO   \n4                Cerejeiras              110005           RO   \n...                     ...                 ...          ...   \n5565             Vianópolis              522200           GO   \n5566         Vicentinópolis              522205           GO   \n5567               Vila Boa              522220           GO   \n5568          Vila Propício              522230           GO   \n5569               Brasília              530010           DF   \n\n                ESTADO        REGIAO  POPULACAO_2022   OBITOS  \n0             Rondônia         Norte           21495     30.0  \n1             Rondônia         Norte           96833    694.0  \n2             Rondônia         Norte            5363      4.0  \n3             Rondônia         Norte           86895    848.0  \n4             Rondônia         Norte           15890     18.0  \n...                ...           ...             ...      ...  \n5565             Goiás  Centro-Oeste           14956      5.0  \n5566             Goiás  Centro-Oeste            8768      4.0  \n5567             Goiás  Centro-Oeste            4215      3.0  \n5568             Goiás  Centro-Oeste            5815      1.0  \n5569  Distrito Federal  Centro-Oeste         2817068  10611.0  \n\n[5570 rows x 7 columns]",
      "text/html": "<div>\n<style scoped>\n    .dataframe tbody tr th:only-of-type {\n        vertical-align: middle;\n    }\n\n    .dataframe tbody tr th {\n        vertical-align: top;\n    }\n\n    .dataframe thead th {\n        text-align: right;\n    }\n</style>\n<table border=\"1\" class=\"dataframe\">\n  <thead>\n    <tr style=\"text-align: right;\">\n      <th></th>\n      <th>MUNICIPIO</th>\n      <th>CODIGO_MUNICIPIO_6</th>\n      <th>SIGLA_ESTADO</th>\n      <th>ESTADO</th>\n      <th>REGIAO</th>\n      <th>POPULACAO_2022</th>\n      <th>OBITOS</th>\n    </tr>\n  </thead>\n  <tbody>\n    <tr>\n      <th>0</th>\n      <td>Alta Floresta D'Oeste</td>\n      <td>110001</td>\n      <td>RO</td>\n      <td>Rondônia</td>\n      <td>Norte</td>\n      <td>21495</td>\n      <td>30.0</td>\n    </tr>\n    <tr>\n      <th>1</th>\n      <td>Ariquemes</td>\n      <td>110002</td>\n      <td>RO</td>\n      <td>Rondônia</td>\n      <td>Norte</td>\n      <td>96833</td>\n      <td>694.0</td>\n    </tr>\n    <tr>\n      <th>2</th>\n      <td>Cabixi</td>\n      <td>110003</td>\n      <td>RO</td>\n      <td>Rondônia</td>\n      <td>Norte</td>\n      <td>5363</td>\n      <td>4.0</td>\n    </tr>\n    <tr>\n      <th>3</th>\n      <td>Cacoal</td>\n      <td>110004</td>\n      <td>RO</td>\n      <td>Rondônia</td>\n      <td>Norte</td>\n      <td>86895</td>\n      <td>848.0</td>\n    </tr>\n    <tr>\n      <th>4</th>\n      <td>Cerejeiras</td>\n      <td>110005</td>\n      <td>RO</td>\n      <td>Rondônia</td>\n      <td>Norte</td>\n      <td>15890</td>\n      <td>18.0</td>\n    </tr>\n    <tr>\n      <th>...</th>\n      <td>...</td>\n      <td>...</td>\n      <td>...</td>\n      <td>...</td>\n      <td>...</td>\n      <td>...</td>\n      <td>...</td>\n    </tr>\n    <tr>\n      <th>5565</th>\n      <td>Vianópolis</td>\n      <td>522200</td>\n      <td>GO</td>\n      <td>Goiás</td>\n      <td>Centro-Oeste</td>\n      <td>14956</td>\n      <td>5.0</td>\n    </tr>\n    <tr>\n      <th>5566</th>\n      <td>Vicentinópolis</td>\n      <td>522205</td>\n      <td>GO</td>\n      <td>Goiás</td>\n      <td>Centro-Oeste</td>\n      <td>8768</td>\n      <td>4.0</td>\n    </tr>\n    <tr>\n      <th>5567</th>\n      <td>Vila Boa</td>\n      <td>522220</td>\n      <td>GO</td>\n      <td>Goiás</td>\n      <td>Centro-Oeste</td>\n      <td>4215</td>\n      <td>3.0</td>\n    </tr>\n    <tr>\n      <th>5568</th>\n      <td>Vila Propício</td>\n      <td>522230</td>\n      <td>GO</td>\n      <td>Goiás</td>\n      <td>Centro-Oeste</td>\n      <td>5815</td>\n      <td>1.0</td>\n    </tr>\n    <tr>\n      <th>5569</th>\n      <td>Brasília</td>\n      <td>530010</td>\n      <td>DF</td>\n      <td>Distrito Federal</td>\n      <td>Centro-Oeste</td>\n      <td>2817068</td>\n      <td>10611.0</td>\n    </tr>\n  </tbody>\n</table>\n<p>5570 rows × 7 columns</p>\n</div>"
     },
     "execution_count": 84,
     "metadata": {},
     "output_type": "execute_result"
    }
   ],
   "source": [
    "df_municipal"
   ],
   "metadata": {
    "collapsed": false,
    "ExecuteTime": {
     "end_time": "2023-07-24T13:51:29.978350020Z",
     "start_time": "2023-07-24T13:51:29.974026207Z"
    }
   }
  },
  {
   "cell_type": "markdown",
   "source": [
    "## Preparing municipal timeseries"
   ],
   "metadata": {
    "collapsed": false
   }
  },
  {
   "cell_type": "code",
   "execution_count": 85,
   "outputs": [],
   "source": [
    "df_covid_deaths_municipal_timeseries_sim = df.groupby(['DTOBITO','CODMUNRES']).count().reset_index()[['DTOBITO','CODMUNRES','CAUSABAS']].copy()"
   ],
   "metadata": {
    "collapsed": false,
    "ExecuteTime": {
     "end_time": "2023-07-24T13:51:31.348445249Z",
     "start_time": "2023-07-24T13:51:29.977948654Z"
    }
   }
  },
  {
   "cell_type": "code",
   "execution_count": 86,
   "outputs": [],
   "source": [
    "df_covid_deaths_municipal_timeseries_sim = df_covid_deaths_municipal_timeseries_sim.rename(columns={'DTOBITO': 'DATA','CODMUNRES': 'CODIGO_MUNICIPIO_6','CAUSABAS': 'OBITOS_NOVOS'})"
   ],
   "metadata": {
    "collapsed": false,
    "ExecuteTime": {
     "end_time": "2023-07-24T13:51:31.355258420Z",
     "start_time": "2023-07-24T13:51:31.350408775Z"
    }
   }
  },
  {
   "cell_type": "code",
   "execution_count": 87,
   "outputs": [],
   "source": [
    "days = (STUDY_END_DATE - STUDY_BEGIN_DATE).days + 1\n",
    "\n",
    "date_range = pd.date_range(start=STUDY_BEGIN_DATE, end=STUDY_END_DATE, periods=days)\n",
    "\n",
    "# Create the DataFrame\n",
    "df_auxiliar = pd.DataFrame({'DATA': date_range})"
   ],
   "metadata": {
    "collapsed": false,
    "ExecuteTime": {
     "end_time": "2023-07-24T13:51:31.411031778Z",
     "start_time": "2023-07-24T13:51:31.357375895Z"
    }
   }
  },
  {
   "cell_type": "code",
   "execution_count": 88,
   "outputs": [],
   "source": [
    "df_concatenated = pd.DataFrame()\n",
    "\n",
    "for id_municipality in df_covid_deaths_municipal_timeseries_sim.CODIGO_MUNICIPIO_6.unique():\n",
    "    df_temp = df_covid_deaths_municipal_timeseries_sim[df_covid_deaths_municipal_timeseries_sim.CODIGO_MUNICIPIO_6 == id_municipality]\n",
    "    df_temp = df_auxiliar.merge(df_temp, on='DATA', how='left')\n",
    "    df_temp.OBITOS_NOVOS = df_temp.OBITOS_NOVOS.fillna(0)\n",
    "    df_temp.CODIGO_MUNICIPIO_6 = df_temp.CODIGO_MUNICIPIO_6.fillna(id_municipality)\n",
    "\n",
    "    df_concatenated = df_concatenated.append(df_temp)\n",
    "\n",
    "df_concatenated.CODIGO_MUNICIPIO_6 = df_concatenated.CODIGO_MUNICIPIO_6.astype(int)\n",
    "df_concatenated.OBITOS_NOVOS = df_concatenated.OBITOS_NOVOS.astype(int)"
   ],
   "metadata": {
    "collapsed": false,
    "ExecuteTime": {
     "end_time": "2023-07-24T13:55:23.694380839Z",
     "start_time": "2023-07-24T13:51:31.416979666Z"
    }
   }
  },
  {
   "cell_type": "code",
   "execution_count": 89,
   "outputs": [],
   "source": [
    "df_covid_deaths_municipal_timeseries_sim = df_concatenated.reset_index(drop=True)\n",
    "df_covid_deaths_municipal_timeseries_sim = df_covid_deaths_municipal_timeseries_sim.sort_values('DATA')\n",
    "df_covid_deaths_municipal_timeseries_sim['OBITOS'] = df_covid_deaths_municipal_timeseries_sim.groupby('CODIGO_MUNICIPIO_6')['OBITOS_NOVOS'].cumsum()"
   ],
   "metadata": {
    "collapsed": false,
    "ExecuteTime": {
     "end_time": "2023-07-24T13:55:24.271354445Z",
     "start_time": "2023-07-24T13:55:23.698833042Z"
    }
   }
  },
  {
   "cell_type": "code",
   "execution_count": 90,
   "outputs": [],
   "source": [
    "df_covid_deaths_municipal_timeseries_sim = df_covid_deaths_municipal_timeseries_sim.merge(df_municipal_base, how='left', on='CODIGO_MUNICIPIO_6')\n",
    "df_covid_deaths_municipal_timeseries_sim['TAXA_OBITOS_NOVOS'] = df_covid_deaths_municipal_timeseries_sim.OBITOS_NOVOS / df_covid_deaths_municipal_timeseries_sim.POPULACAO_2022 * 100000\n",
    "df_covid_deaths_municipal_timeseries_sim['TAXA_OBITOS'] = df_covid_deaths_municipal_timeseries_sim.OBITOS / df_covid_deaths_municipal_timeseries_sim.POPULACAO_2022 * 100000"
   ],
   "metadata": {
    "collapsed": false,
    "ExecuteTime": {
     "end_time": "2023-07-24T13:55:24.986159138Z",
     "start_time": "2023-07-24T13:55:24.274460292Z"
    }
   }
  },
  {
   "cell_type": "code",
   "execution_count": 91,
   "outputs": [],
   "source": [
    "df_covid_deaths_municipal_timeseries_sim.to_csv('data/output/df_sim_covid_deaths_municipal_timeseries.csv', index=False)"
   ],
   "metadata": {
    "collapsed": false,
    "ExecuteTime": {
     "end_time": "2023-07-24T13:56:11.035730727Z",
     "start_time": "2023-07-24T13:55:24.992030541Z"
    }
   }
  },
  {
   "cell_type": "code",
   "execution_count": null,
   "outputs": [],
   "source": [],
   "metadata": {
    "collapsed": false
   }
  },
  {
   "cell_type": "code",
   "execution_count": 92,
   "outputs": [
    {
     "data": {
      "text/plain": "              DATA  CODIGO_MUNICIPIO_6  OBITOS_NOVOS  OBITOS  \\\n0       2020-03-12              355030             1       1   \n1       2020-03-12              290110             0       0   \n2       2020-03-12              314950             0       0   \n3       2020-03-12              130006             0       0   \n4       2020-03-12              220200             0       0   \n...            ...                 ...           ...     ...   \n5720520 2022-12-31              291850             0      18   \n5720521 2022-12-31              410940             0     684   \n5720522 2022-12-31              411860             0      15   \n5720523 2022-12-31              316570             0      11   \n5720524 2022-12-31              170625             0       1   \n\n                   MUNICIPIO SIGLA_ESTADO        ESTADO    REGIAO  \\\n0                  São Paulo           SP     São Paulo   Sudeste   \n1           Amélia Rodrigues           BA         Bahia  Nordeste   \n2                    Pequeri           MG  Minas Gerais   Sudeste   \n3                    Amaturá           AM      Amazonas     Norte   \n4           Buriti dos Lopes           PI         Piauí  Nordeste   \n...                      ...          ...           ...       ...   \n5720520              Jussara           BA         Bahia  Nordeste   \n5720521           Guarapuava           PR        Paraná       Sul   \n5720522        Paula Freitas           PR        Paraná       Sul   \n5720523      Senador Firmino           MG  Minas Gerais   Sudeste   \n5720524  Crixás do Tocantins           TO     Tocantins     Norte   \n\n         POPULACAO_2022  TAXA_OBITOS_NOVOS  TAXA_OBITOS  \n0            11451245.0           0.008733     0.008733  \n1               24138.0           0.000000     0.000000  \n2                3351.0           0.000000     0.000000  \n3               10819.0           0.000000     0.000000  \n4               19654.0           0.000000     0.000000  \n...                 ...                ...          ...  \n5720520         16354.0           0.000000   110.064816  \n5720521        182093.0           0.000000   375.632232  \n5720522          5666.0           0.000000   264.737028  \n5720523          7716.0           0.000000   142.560912  \n5720524          1470.0           0.000000    68.027211  \n\n[5720525 rows x 11 columns]",
      "text/html": "<div>\n<style scoped>\n    .dataframe tbody tr th:only-of-type {\n        vertical-align: middle;\n    }\n\n    .dataframe tbody tr th {\n        vertical-align: top;\n    }\n\n    .dataframe thead th {\n        text-align: right;\n    }\n</style>\n<table border=\"1\" class=\"dataframe\">\n  <thead>\n    <tr style=\"text-align: right;\">\n      <th></th>\n      <th>DATA</th>\n      <th>CODIGO_MUNICIPIO_6</th>\n      <th>OBITOS_NOVOS</th>\n      <th>OBITOS</th>\n      <th>MUNICIPIO</th>\n      <th>SIGLA_ESTADO</th>\n      <th>ESTADO</th>\n      <th>REGIAO</th>\n      <th>POPULACAO_2022</th>\n      <th>TAXA_OBITOS_NOVOS</th>\n      <th>TAXA_OBITOS</th>\n    </tr>\n  </thead>\n  <tbody>\n    <tr>\n      <th>0</th>\n      <td>2020-03-12</td>\n      <td>355030</td>\n      <td>1</td>\n      <td>1</td>\n      <td>São Paulo</td>\n      <td>SP</td>\n      <td>São Paulo</td>\n      <td>Sudeste</td>\n      <td>11451245.0</td>\n      <td>0.008733</td>\n      <td>0.008733</td>\n    </tr>\n    <tr>\n      <th>1</th>\n      <td>2020-03-12</td>\n      <td>290110</td>\n      <td>0</td>\n      <td>0</td>\n      <td>Amélia Rodrigues</td>\n      <td>BA</td>\n      <td>Bahia</td>\n      <td>Nordeste</td>\n      <td>24138.0</td>\n      <td>0.000000</td>\n      <td>0.000000</td>\n    </tr>\n    <tr>\n      <th>2</th>\n      <td>2020-03-12</td>\n      <td>314950</td>\n      <td>0</td>\n      <td>0</td>\n      <td>Pequeri</td>\n      <td>MG</td>\n      <td>Minas Gerais</td>\n      <td>Sudeste</td>\n      <td>3351.0</td>\n      <td>0.000000</td>\n      <td>0.000000</td>\n    </tr>\n    <tr>\n      <th>3</th>\n      <td>2020-03-12</td>\n      <td>130006</td>\n      <td>0</td>\n      <td>0</td>\n      <td>Amaturá</td>\n      <td>AM</td>\n      <td>Amazonas</td>\n      <td>Norte</td>\n      <td>10819.0</td>\n      <td>0.000000</td>\n      <td>0.000000</td>\n    </tr>\n    <tr>\n      <th>4</th>\n      <td>2020-03-12</td>\n      <td>220200</td>\n      <td>0</td>\n      <td>0</td>\n      <td>Buriti dos Lopes</td>\n      <td>PI</td>\n      <td>Piauí</td>\n      <td>Nordeste</td>\n      <td>19654.0</td>\n      <td>0.000000</td>\n      <td>0.000000</td>\n    </tr>\n    <tr>\n      <th>...</th>\n      <td>...</td>\n      <td>...</td>\n      <td>...</td>\n      <td>...</td>\n      <td>...</td>\n      <td>...</td>\n      <td>...</td>\n      <td>...</td>\n      <td>...</td>\n      <td>...</td>\n      <td>...</td>\n    </tr>\n    <tr>\n      <th>5720520</th>\n      <td>2022-12-31</td>\n      <td>291850</td>\n      <td>0</td>\n      <td>18</td>\n      <td>Jussara</td>\n      <td>BA</td>\n      <td>Bahia</td>\n      <td>Nordeste</td>\n      <td>16354.0</td>\n      <td>0.000000</td>\n      <td>110.064816</td>\n    </tr>\n    <tr>\n      <th>5720521</th>\n      <td>2022-12-31</td>\n      <td>410940</td>\n      <td>0</td>\n      <td>684</td>\n      <td>Guarapuava</td>\n      <td>PR</td>\n      <td>Paraná</td>\n      <td>Sul</td>\n      <td>182093.0</td>\n      <td>0.000000</td>\n      <td>375.632232</td>\n    </tr>\n    <tr>\n      <th>5720522</th>\n      <td>2022-12-31</td>\n      <td>411860</td>\n      <td>0</td>\n      <td>15</td>\n      <td>Paula Freitas</td>\n      <td>PR</td>\n      <td>Paraná</td>\n      <td>Sul</td>\n      <td>5666.0</td>\n      <td>0.000000</td>\n      <td>264.737028</td>\n    </tr>\n    <tr>\n      <th>5720523</th>\n      <td>2022-12-31</td>\n      <td>316570</td>\n      <td>0</td>\n      <td>11</td>\n      <td>Senador Firmino</td>\n      <td>MG</td>\n      <td>Minas Gerais</td>\n      <td>Sudeste</td>\n      <td>7716.0</td>\n      <td>0.000000</td>\n      <td>142.560912</td>\n    </tr>\n    <tr>\n      <th>5720524</th>\n      <td>2022-12-31</td>\n      <td>170625</td>\n      <td>0</td>\n      <td>1</td>\n      <td>Crixás do Tocantins</td>\n      <td>TO</td>\n      <td>Tocantins</td>\n      <td>Norte</td>\n      <td>1470.0</td>\n      <td>0.000000</td>\n      <td>68.027211</td>\n    </tr>\n  </tbody>\n</table>\n<p>5720525 rows × 11 columns</p>\n</div>"
     },
     "execution_count": 92,
     "metadata": {},
     "output_type": "execute_result"
    }
   ],
   "source": [
    "df_covid_deaths_municipal_timeseries_sim"
   ],
   "metadata": {
    "collapsed": false,
    "ExecuteTime": {
     "end_time": "2023-07-24T13:56:11.078054931Z",
     "start_time": "2023-07-24T13:56:11.077485368Z"
    }
   }
  },
  {
   "cell_type": "code",
   "execution_count": 93,
   "outputs": [
    {
     "data": {
      "text/plain": "5581"
     },
     "execution_count": 93,
     "metadata": {},
     "output_type": "execute_result"
    }
   ],
   "source": [
    "len(df_covid_deaths_municipal_timeseries_sim.CODIGO_MUNICIPIO_6.unique())"
   ],
   "metadata": {
    "collapsed": false,
    "ExecuteTime": {
     "end_time": "2023-07-24T14:23:00.197271858Z",
     "start_time": "2023-07-24T14:23:00.155137446Z"
    }
   }
  },
  {
   "cell_type": "code",
   "execution_count": 95,
   "outputs": [
    {
     "data": {
      "text/plain": "158"
     },
     "execution_count": 95,
     "metadata": {},
     "output_type": "execute_result"
    }
   ],
   "source": [
    "df_covid_deaths_municipal_timeseries_sim[df_covid_deaths_municipal_timeseries_sim.MUNICIPIO.isna()].OBITOS_NOVOS.sum()"
   ],
   "metadata": {
    "collapsed": false,
    "ExecuteTime": {
     "end_time": "2023-07-24T14:29:35.116594132Z",
     "start_time": "2023-07-24T14:29:35.086530724Z"
    }
   }
  }
 ],
 "metadata": {
  "kernelspec": {
   "display_name": "Python 3",
   "language": "python",
   "name": "python3"
  },
  "language_info": {
   "codemirror_mode": {
    "name": "ipython",
    "version": 2
   },
   "file_extension": ".py",
   "mimetype": "text/x-python",
   "name": "python",
   "nbconvert_exporter": "python",
   "pygments_lexer": "ipython2",
   "version": "2.7.6"
  }
 },
 "nbformat": 4,
 "nbformat_minor": 0
}
