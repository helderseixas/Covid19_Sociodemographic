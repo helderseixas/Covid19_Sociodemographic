{
 "cells": [
  {
   "cell_type": "markdown",
   "metadata": {
    "collapsed": true
   },
   "source": [
    "# Extracting measures of risk factores clustering\n",
    "## Workflow: to execute after notebook 04_execution_risk_factor_clustering"
   ]
  },
  {
   "cell_type": "code",
   "execution_count": 13,
   "outputs": [],
   "source": [
    "import pandas as pd\n",
    "from sklearn.metrics import silhouette_score, calinski_harabasz_score, davies_bouldin_score"
   ],
   "metadata": {
    "collapsed": false,
    "ExecuteTime": {
     "end_time": "2023-07-26T13:05:12.236407664Z",
     "start_time": "2023-07-26T13:05:12.217350203Z"
    }
   }
  },
  {
   "cell_type": "markdown",
   "source": [
    "## General parameters"
   ],
   "metadata": {
    "collapsed": false
   }
  },
  {
   "cell_type": "code",
   "execution_count": 14,
   "outputs": [],
   "source": [
    "k_minimo = 2\n",
    "k_maximo = 10"
   ],
   "metadata": {
    "collapsed": false,
    "ExecuteTime": {
     "end_time": "2023-07-26T13:05:12.237473165Z",
     "start_time": "2023-07-26T13:05:12.223039460Z"
    }
   }
  },
  {
   "cell_type": "markdown",
   "source": [
    "## Carregamento dos dados\n"
   ],
   "metadata": {
    "collapsed": false
   }
  },
  {
   "cell_type": "code",
   "execution_count": 15,
   "outputs": [],
   "source": [
    "df_dataset = pd.read_csv('data/df_pca_risk_factors.csv', index_col=0)\n",
    "\n",
    "df_y = pd.read_csv('data/df_clustering_risk_factors.csv', index_col=0)"
   ],
   "metadata": {
    "collapsed": false,
    "ExecuteTime": {
     "end_time": "2023-07-26T13:05:12.391050481Z",
     "start_time": "2023-07-26T13:05:12.227006210Z"
    }
   }
  },
  {
   "cell_type": "code",
   "execution_count": 16,
   "outputs": [
    {
     "data": {
      "text/plain": "Index(['2', '3', '4', '5', '6', '7', '8', '9', '10'], dtype='object')"
     },
     "execution_count": 16,
     "metadata": {},
     "output_type": "execute_result"
    }
   ],
   "source": [
    "df_y.columns"
   ],
   "metadata": {
    "collapsed": false,
    "ExecuteTime": {
     "end_time": "2023-07-26T13:05:12.395594052Z",
     "start_time": "2023-07-26T13:05:12.283918329Z"
    }
   }
  },
  {
   "cell_type": "markdown",
   "source": [
    "## EM with covariance type as spherical"
   ],
   "metadata": {
    "collapsed": false
   }
  },
  {
   "cell_type": "code",
   "execution_count": 17,
   "outputs": [
    {
     "name": "stdout",
     "output_type": "stream",
     "text": [
      "SC: {2: 0.5363381131090081, 3: 0.4211416425775118, 4: 0.47361651677182515, 5: 0.4080211815276864, 6: 0.35427545188708803, 7: 0.3644608427846755, 8: 0.366148171950964, 9: 0.3294763806294724, 10: 0.3437678865895736}\n",
      "CH:  {2: 9497.69726721842, 3: 7683.3149083362505, 4: 9755.887577883375, 5: 9392.587360219977, 6: 8407.26405572539, 7: 8675.63732823387, 8: 8604.629065272004, 9: 7892.792642350337, 10: 8213.740976123256}\n",
      "DB:  {2: 0.6021060276053619, 3: 0.8490094429304373, 4: 0.7650306204506099, 5: 0.8568026948763281, 6: 0.9173901772405625, 7: 0.9010596651082986, 8: 0.8589083582800999, 9: 0.8826644464129474, 10: 0.8373347065045189}\n"
     ]
    }
   ],
   "source": [
    "em_spherical_sc = {}\n",
    "em_spherical_ch = {}\n",
    "em_spherical_db = {}\n",
    "for k in range(k_minimo, k_maximo+1):\n",
    "    k_string = str(k)\n",
    "    em_spherical_sc[k] = silhouette_score(df_dataset, df_y[k_string])\n",
    "    em_spherical_ch[k] = calinski_harabasz_score(df_dataset, df_y[k_string])\n",
    "    em_spherical_db[k] = davies_bouldin_score(df_dataset, df_y[k_string])\n",
    "print('SC:', em_spherical_sc)\n",
    "print('CH: ', em_spherical_ch)\n",
    "print('DB: ', em_spherical_db)"
   ],
   "metadata": {
    "collapsed": false,
    "ExecuteTime": {
     "end_time": "2023-07-26T13:05:15.936993517Z",
     "start_time": "2023-07-26T13:05:12.284801840Z"
    }
   }
  },
  {
   "cell_type": "markdown",
   "source": [
    "## Saving data"
   ],
   "metadata": {
    "collapsed": false
   }
  },
  {
   "cell_type": "code",
   "execution_count": 18,
   "outputs": [
    {
     "data": {
      "text/plain": "    k  em_spherical_sc  em_spherical_ch  em_spherical_db\n0   2         0.536338      9497.697267         0.602106\n1   3         0.421142      7683.314908         0.849009\n2   4         0.473617      9755.887578         0.765031\n3   5         0.408021      9392.587360         0.856803\n4   6         0.354275      8407.264056         0.917390\n5   7         0.364461      8675.637328         0.901060\n6   8         0.366148      8604.629065         0.858908\n7   9         0.329476      7892.792642         0.882664\n8  10         0.343768      8213.740976         0.837335",
      "text/html": "<div>\n<style scoped>\n    .dataframe tbody tr th:only-of-type {\n        vertical-align: middle;\n    }\n\n    .dataframe tbody tr th {\n        vertical-align: top;\n    }\n\n    .dataframe thead th {\n        text-align: right;\n    }\n</style>\n<table border=\"1\" class=\"dataframe\">\n  <thead>\n    <tr style=\"text-align: right;\">\n      <th></th>\n      <th>k</th>\n      <th>em_spherical_sc</th>\n      <th>em_spherical_ch</th>\n      <th>em_spherical_db</th>\n    </tr>\n  </thead>\n  <tbody>\n    <tr>\n      <th>0</th>\n      <td>2</td>\n      <td>0.536338</td>\n      <td>9497.697267</td>\n      <td>0.602106</td>\n    </tr>\n    <tr>\n      <th>1</th>\n      <td>3</td>\n      <td>0.421142</td>\n      <td>7683.314908</td>\n      <td>0.849009</td>\n    </tr>\n    <tr>\n      <th>2</th>\n      <td>4</td>\n      <td>0.473617</td>\n      <td>9755.887578</td>\n      <td>0.765031</td>\n    </tr>\n    <tr>\n      <th>3</th>\n      <td>5</td>\n      <td>0.408021</td>\n      <td>9392.587360</td>\n      <td>0.856803</td>\n    </tr>\n    <tr>\n      <th>4</th>\n      <td>6</td>\n      <td>0.354275</td>\n      <td>8407.264056</td>\n      <td>0.917390</td>\n    </tr>\n    <tr>\n      <th>5</th>\n      <td>7</td>\n      <td>0.364461</td>\n      <td>8675.637328</td>\n      <td>0.901060</td>\n    </tr>\n    <tr>\n      <th>6</th>\n      <td>8</td>\n      <td>0.366148</td>\n      <td>8604.629065</td>\n      <td>0.858908</td>\n    </tr>\n    <tr>\n      <th>7</th>\n      <td>9</td>\n      <td>0.329476</td>\n      <td>7892.792642</td>\n      <td>0.882664</td>\n    </tr>\n    <tr>\n      <th>8</th>\n      <td>10</td>\n      <td>0.343768</td>\n      <td>8213.740976</td>\n      <td>0.837335</td>\n    </tr>\n  </tbody>\n</table>\n</div>"
     },
     "execution_count": 18,
     "metadata": {},
     "output_type": "execute_result"
    }
   ],
   "source": [
    "df = pd.DataFrame(data=[2,3,4,5,6,7,8,9,10], columns=['k'])\n",
    "df['em_spherical_sc'] = df.k.map(em_spherical_sc)\n",
    "df['em_spherical_ch'] = df.k.map(em_spherical_ch)\n",
    "df['em_spherical_db'] = df.k.map(em_spherical_db)\n",
    "\n",
    "nome_arquivo = 'data/df_risk_factor_measures.csv'\n",
    "df.to_csv(nome_arquivo, index=True)\n",
    "\n",
    "df"
   ],
   "metadata": {
    "collapsed": false,
    "ExecuteTime": {
     "end_time": "2023-07-26T13:05:15.952401958Z",
     "start_time": "2023-07-26T13:05:15.943171437Z"
    }
   }
  }
 ],
 "metadata": {
  "kernelspec": {
   "display_name": "Python 3",
   "language": "python",
   "name": "python3"
  },
  "language_info": {
   "codemirror_mode": {
    "name": "ipython",
    "version": 2
   },
   "file_extension": ".py",
   "mimetype": "text/x-python",
   "name": "python",
   "nbconvert_exporter": "python",
   "pygments_lexer": "ipython2",
   "version": "2.7.6"
  }
 },
 "nbformat": 4,
 "nbformat_minor": 0
}
