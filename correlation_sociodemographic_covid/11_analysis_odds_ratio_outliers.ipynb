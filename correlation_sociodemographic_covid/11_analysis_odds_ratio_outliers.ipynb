{
 "cells": [
  {
   "cell_type": "markdown",
   "metadata": {
    "collapsed": true
   },
   "source": [
    "# Analysis the odds ratio with outliers muncipalities\n",
    "## Workflow: to execute after 06_risk_factor_measures"
   ]
  },
  {
   "cell_type": "code",
   "execution_count": 1,
   "outputs": [],
   "source": [
    "import numpy as np\n",
    "import pandas as pd\n",
    "from scipy.stats import stats"
   ],
   "metadata": {
    "collapsed": false,
    "ExecuteTime": {
     "end_time": "2023-08-04T19:03:43.340054387Z",
     "start_time": "2023-08-04T19:03:43.327340844Z"
    }
   }
  },
  {
   "cell_type": "markdown",
   "source": [
    "## Loading data"
   ],
   "metadata": {
    "collapsed": false
   }
  },
  {
   "cell_type": "code",
   "execution_count": 2,
   "outputs": [],
   "source": [
    "df_base = pd.read_csv('data/df_labeled_risk_factors.csv', index_col=0)"
   ],
   "metadata": {
    "collapsed": false,
    "ExecuteTime": {
     "end_time": "2023-08-04T19:03:43.753980377Z",
     "start_time": "2023-08-04T19:03:43.331457912Z"
    }
   }
  },
  {
   "cell_type": "code",
   "execution_count": 3,
   "outputs": [
    {
     "data": {
      "text/plain": "array(['High', 'Very high', 'Intermediate', 'Extremely high', 'Low',\n       'Very low'], dtype=object)"
     },
     "execution_count": 3,
     "metadata": {},
     "output_type": "execute_result"
    }
   ],
   "source": [
    "df_base.NIVEL_LABEL_TAXA_OBITOS_ACUMULADO.unique()"
   ],
   "metadata": {
    "collapsed": false,
    "ExecuteTime": {
     "end_time": "2023-08-04T19:03:43.768017386Z",
     "start_time": "2023-08-04T19:03:43.761751456Z"
    }
   }
  },
  {
   "cell_type": "markdown",
   "source": [
    "## Util"
   ],
   "metadata": {
    "collapsed": false
   }
  },
  {
   "cell_type": "code",
   "execution_count": 4,
   "outputs": [],
   "source": [
    "def _calculate_odds_ratio(df_test, df_control):\n",
    "    a = len(df_test[(df_test.NIVEL_LABEL_TAXA_OBITOS_ACUMULADO == 'High') | (df_test.NIVEL_LABEL_TAXA_OBITOS_ACUMULADO == 'Very high') | (df_test.NIVEL_LABEL_TAXA_OBITOS_ACUMULADO == 'Extremely high')])\n",
    "    b = len(df_test) - a\n",
    "    c = len(df_control[(df_control.NIVEL_LABEL_TAXA_OBITOS_ACUMULADO == 'High') | (df_control.NIVEL_LABEL_TAXA_OBITOS_ACUMULADO == 'Very high') | (df_control.NIVEL_LABEL_TAXA_OBITOS_ACUMULADO == 'Extremely high')])\n",
    "    d = len(df_control) - c\n",
    "    truth_table = [[a, b], [c, d]]\n",
    "    oddsratio, pvalue = stats.fisher_exact(truth_table)\n",
    "    return oddsratio, pvalue\n",
    "\n",
    "def _calculate_odds_ratio_control_random_weighted(df_test, test_quantity):\n",
    "    list_oddsratio = []\n",
    "    list_pvalue = []\n",
    "\n",
    "    for i in range(test_quantity):\n",
    "        quantity_in_group = df_test.groupby('k5_label').count()['CODIGO_MUNICIPIO_6'].reset_index().values\n",
    "        df_control_weighted = pd.DataFrame()\n",
    "        for row in quantity_in_group:\n",
    "            group = row[0]\n",
    "            control_quantity = row[1] * 3\n",
    "            df_temp = df_base[(df_base.index.isin(df_test.index) == False) & (df_base.k5_label == group)].sample(control_quantity, replace=True)\n",
    "            df_control_weighted = df_control_weighted.append(df_temp)\n",
    "        oddsratio, pvalue = _calculate_odds_ratio(df_test, df_control_weighted)\n",
    "        list_oddsratio.append(round(oddsratio, 2))\n",
    "        list_pvalue.append(round(pvalue, 3))\n",
    "    result_odds_ratio = (round(np.mean(list_oddsratio), 3), round(np.std(list_oddsratio), 3))\n",
    "    result_pvalue = (round(np.mean(list_pvalue), 3), round(np.std(list_pvalue), 3))\n",
    "\n",
    "    return result_odds_ratio, result_pvalue\n",
    "\n",
    "def _calculate_odds_ratio_control_subtracted(df_test):\n",
    "    df_control = df_base[(df_base.index.isin(df_test.index) == False)]\n",
    "    oddsratio, pvalue = _calculate_odds_ratio(df_test, df_control)\n",
    "    return round(oddsratio, 2), round(pvalue, 3)\n",
    "\n",
    "def _calculate_odds_ratio_control_opsite_opposite_end(df_test, atributte, test_sample_proportion):\n",
    "    control_sample_proportion = test_sample_proportion * 3\n",
    "    limit_value = df_base[atributte].quantile(control_sample_proportion)\n",
    "    df_control = df_base.loc[(df_base[atributte] <= limit_value)]\n",
    "    oddsratio, pvalue = _calculate_odds_ratio(df_test, df_control)\n",
    "    return round(oddsratio, 2), round(pvalue, 3)\n",
    "\n",
    "def calculate_odds_ratio(atributte, test_sample_proportion = 0.05, test_quantity=100):\n",
    "    list_oddsratio = []\n",
    "    list_pvalue = []\n",
    "\n",
    "    limit_value = df_base[atributte].quantile(1 - test_sample_proportion)\n",
    "    df_test = df_base.loc[(df_base[atributte] >= limit_value)]\n",
    "\n",
    "    oddsratio, pvalue = _calculate_odds_ratio_control_opsite_opposite_end(df_test, atributte, test_sample_proportion)\n",
    "    list_oddsratio.append(oddsratio)\n",
    "    list_pvalue.append(pvalue)\n",
    "\n",
    "    oddsratio, pvalue = _calculate_odds_ratio_control_subtracted(df_test)\n",
    "    list_oddsratio.append(oddsratio)\n",
    "    list_pvalue.append(pvalue)\n",
    "\n",
    "    oddsratio, pvalue = _calculate_odds_ratio_control_random_weighted(df_test, test_quantity)\n",
    "    list_oddsratio.append(oddsratio)\n",
    "    list_pvalue.append(pvalue)\n",
    "\n",
    "    return list_oddsratio, list_pvalue"
   ],
   "metadata": {
    "collapsed": false,
    "ExecuteTime": {
     "end_time": "2023-08-04T19:03:43.804325663Z",
     "start_time": "2023-08-04T19:03:43.770694838Z"
    }
   }
  },
  {
   "cell_type": "markdown",
   "source": [
    "## Tested attributes"
   ],
   "metadata": {
    "collapsed": false
   }
  },
  {
   "cell_type": "code",
   "execution_count": 5,
   "outputs": [
    {
     "name": "stdout",
     "output_type": "stream",
     "text": [
      "\n",
      "% population 0 - 5 years\n",
      "[0.1, 0.17, (0.663, 0.07)]\n",
      "[0.0, 0.0, (0.087, 0.104)]\n",
      "\n",
      "% population 6 - 14 years\n",
      "[0.07, 0.16, (0.679, 0.069)]\n",
      "[0.0, 0.0, (0.118, 0.137)]\n",
      "\n",
      "% population 15 - 24 years\n",
      "[0.08, 0.15, (0.408, 0.03)]\n",
      "[0.0, 0.0, (0.0, 0.0)]\n",
      "\n",
      "% population 25 - 39 years\n",
      "[2.47, 1.66, (0.574, 0.042)]\n",
      "[0.0, 0.0, (0.0, 0.001)]\n",
      "\n",
      "% population 40 - 59 years\n",
      "[7.6, 1.15, (0.94, 0.061)]\n",
      "[0.0, 0.289, (0.652, 0.244)]\n",
      "\n",
      "% population +60 years\n",
      "[2.87, 1.64, (1.277, 0.085)]\n",
      "[0.0, 0.0, (0.123, 0.13)]\n",
      "\n",
      "% urban population\n",
      "[21.35, 6.77, (2.069, 0.133)]\n",
      "[0.0, 0.0, (0.0, 0.0)]\n",
      "\n",
      "IDHM - income\n",
      "[25.06, 2.5, (0.928, 0.078)]\n",
      "[0.0, 0.0, (0.563, 0.265)]\n",
      "\n",
      "Gini coefficient\n",
      "[0.22, 0.37, (0.759, 0.046)]\n",
      "[0.0, 0.0, (0.089, 0.077)]\n",
      "\n",
      "Social transfer\n",
      "per capita\n",
      "[0.05, 0.1, (0.59, 0.059)]\n",
      "[0.0, 0.0, (0.058, 0.067)]\n",
      "\n",
      "Activity rate\n",
      "[2.35, 0.62, (0.416, 0.026)]\n",
      "[0.0, 0.0, (0.0, 0.0)]\n",
      "\n",
      "% informal workers\n",
      "[0.02, 0.08, (0.33, 0.03)]\n",
      "[0.0, 0.0, (0.0, 0.0)]\n",
      "\n",
      "% employed in agriculture\n",
      "[0.06, 0.22, (0.413, 0.028)]\n",
      "[0.0, 0.0, (0.0, 0.0)]\n",
      "\n",
      "% employed in commerce\n",
      "[6.15, 2.5, (1.265, 0.081)]\n",
      "[0.0, 0.0, (0.146, 0.133)]\n",
      "\n",
      "% employed in service\n",
      "[7.95, 3.29, (1.407, 0.09)]\n",
      "[0.0, 0.0, (0.034, 0.033)]\n",
      "\n",
      "% employed in industry\n",
      "[8.05, 1.8, (0.53, 0.038)]\n",
      "[0.0, 0.0, (0.0, 0.0)]\n"
     ]
    },
    {
     "data": {
      "text/plain": "                      attribute  odds_ratio_control_opposite_end  \\\n0      % population 0 - 5 years                             0.10   \n1     % population 6 - 14 years                             0.07   \n2    % population 15 - 24 years                             0.08   \n3    % population 25 - 39 years                             2.47   \n4    % population 40 - 59 years                             7.60   \n5        % population +60 years                             2.87   \n6            % urban population                            21.35   \n7                 IDHM - income                            25.06   \n8              Gini coefficient                             0.22   \n9   Social transfer\\nper capita                             0.05   \n10                Activity rate                             2.35   \n11           % informal workers                             0.02   \n12    % employed in agriculture                             0.06   \n13       % employed in commerce                             6.15   \n14        % employed in service                             7.95   \n15       % employed in industry                             8.05   \n\n    p_value_control_opposite_end  odds_ratio_control_subtracted  \\\n0                            0.0                           0.17   \n1                            0.0                           0.16   \n2                            0.0                           0.15   \n3                            0.0                           1.66   \n4                            0.0                           1.15   \n5                            0.0                           1.64   \n6                            0.0                           6.77   \n7                            0.0                           2.50   \n8                            0.0                           0.37   \n9                            0.0                           0.10   \n10                           0.0                           0.62   \n11                           0.0                           0.08   \n12                           0.0                           0.22   \n13                           0.0                           2.50   \n14                           0.0                           3.29   \n15                           0.0                           1.80   \n\n    p_value_control_subtracted odds_ratio_control_random_weighted  \\\n0                        0.000                      (0.663, 0.07)   \n1                        0.000                     (0.679, 0.069)   \n2                        0.000                      (0.408, 0.03)   \n3                        0.000                     (0.574, 0.042)   \n4                        0.289                      (0.94, 0.061)   \n5                        0.000                     (1.277, 0.085)   \n6                        0.000                     (2.069, 0.133)   \n7                        0.000                     (0.928, 0.078)   \n8                        0.000                     (0.759, 0.046)   \n9                        0.000                      (0.59, 0.059)   \n10                       0.000                     (0.416, 0.026)   \n11                       0.000                       (0.33, 0.03)   \n12                       0.000                     (0.413, 0.028)   \n13                       0.000                     (1.265, 0.081)   \n14                       0.000                      (1.407, 0.09)   \n15                       0.000                      (0.53, 0.038)   \n\n   p_value_control_random_weighted  \n0                   (0.087, 0.104)  \n1                   (0.118, 0.137)  \n2                       (0.0, 0.0)  \n3                     (0.0, 0.001)  \n4                   (0.652, 0.244)  \n5                    (0.123, 0.13)  \n6                       (0.0, 0.0)  \n7                   (0.563, 0.265)  \n8                   (0.089, 0.077)  \n9                   (0.058, 0.067)  \n10                      (0.0, 0.0)  \n11                      (0.0, 0.0)  \n12                      (0.0, 0.0)  \n13                  (0.146, 0.133)  \n14                  (0.034, 0.033)  \n15                      (0.0, 0.0)  ",
      "text/html": "<div>\n<style scoped>\n    .dataframe tbody tr th:only-of-type {\n        vertical-align: middle;\n    }\n\n    .dataframe tbody tr th {\n        vertical-align: top;\n    }\n\n    .dataframe thead th {\n        text-align: right;\n    }\n</style>\n<table border=\"1\" class=\"dataframe\">\n  <thead>\n    <tr style=\"text-align: right;\">\n      <th></th>\n      <th>attribute</th>\n      <th>odds_ratio_control_opposite_end</th>\n      <th>p_value_control_opposite_end</th>\n      <th>odds_ratio_control_subtracted</th>\n      <th>p_value_control_subtracted</th>\n      <th>odds_ratio_control_random_weighted</th>\n      <th>p_value_control_random_weighted</th>\n    </tr>\n  </thead>\n  <tbody>\n    <tr>\n      <th>0</th>\n      <td>% population 0 - 5 years</td>\n      <td>0.10</td>\n      <td>0.0</td>\n      <td>0.17</td>\n      <td>0.000</td>\n      <td>(0.663, 0.07)</td>\n      <td>(0.087, 0.104)</td>\n    </tr>\n    <tr>\n      <th>1</th>\n      <td>% population 6 - 14 years</td>\n      <td>0.07</td>\n      <td>0.0</td>\n      <td>0.16</td>\n      <td>0.000</td>\n      <td>(0.679, 0.069)</td>\n      <td>(0.118, 0.137)</td>\n    </tr>\n    <tr>\n      <th>2</th>\n      <td>% population 15 - 24 years</td>\n      <td>0.08</td>\n      <td>0.0</td>\n      <td>0.15</td>\n      <td>0.000</td>\n      <td>(0.408, 0.03)</td>\n      <td>(0.0, 0.0)</td>\n    </tr>\n    <tr>\n      <th>3</th>\n      <td>% population 25 - 39 years</td>\n      <td>2.47</td>\n      <td>0.0</td>\n      <td>1.66</td>\n      <td>0.000</td>\n      <td>(0.574, 0.042)</td>\n      <td>(0.0, 0.001)</td>\n    </tr>\n    <tr>\n      <th>4</th>\n      <td>% population 40 - 59 years</td>\n      <td>7.60</td>\n      <td>0.0</td>\n      <td>1.15</td>\n      <td>0.289</td>\n      <td>(0.94, 0.061)</td>\n      <td>(0.652, 0.244)</td>\n    </tr>\n    <tr>\n      <th>5</th>\n      <td>% population +60 years</td>\n      <td>2.87</td>\n      <td>0.0</td>\n      <td>1.64</td>\n      <td>0.000</td>\n      <td>(1.277, 0.085)</td>\n      <td>(0.123, 0.13)</td>\n    </tr>\n    <tr>\n      <th>6</th>\n      <td>% urban population</td>\n      <td>21.35</td>\n      <td>0.0</td>\n      <td>6.77</td>\n      <td>0.000</td>\n      <td>(2.069, 0.133)</td>\n      <td>(0.0, 0.0)</td>\n    </tr>\n    <tr>\n      <th>7</th>\n      <td>IDHM - income</td>\n      <td>25.06</td>\n      <td>0.0</td>\n      <td>2.50</td>\n      <td>0.000</td>\n      <td>(0.928, 0.078)</td>\n      <td>(0.563, 0.265)</td>\n    </tr>\n    <tr>\n      <th>8</th>\n      <td>Gini coefficient</td>\n      <td>0.22</td>\n      <td>0.0</td>\n      <td>0.37</td>\n      <td>0.000</td>\n      <td>(0.759, 0.046)</td>\n      <td>(0.089, 0.077)</td>\n    </tr>\n    <tr>\n      <th>9</th>\n      <td>Social transfer\\nper capita</td>\n      <td>0.05</td>\n      <td>0.0</td>\n      <td>0.10</td>\n      <td>0.000</td>\n      <td>(0.59, 0.059)</td>\n      <td>(0.058, 0.067)</td>\n    </tr>\n    <tr>\n      <th>10</th>\n      <td>Activity rate</td>\n      <td>2.35</td>\n      <td>0.0</td>\n      <td>0.62</td>\n      <td>0.000</td>\n      <td>(0.416, 0.026)</td>\n      <td>(0.0, 0.0)</td>\n    </tr>\n    <tr>\n      <th>11</th>\n      <td>% informal workers</td>\n      <td>0.02</td>\n      <td>0.0</td>\n      <td>0.08</td>\n      <td>0.000</td>\n      <td>(0.33, 0.03)</td>\n      <td>(0.0, 0.0)</td>\n    </tr>\n    <tr>\n      <th>12</th>\n      <td>% employed in agriculture</td>\n      <td>0.06</td>\n      <td>0.0</td>\n      <td>0.22</td>\n      <td>0.000</td>\n      <td>(0.413, 0.028)</td>\n      <td>(0.0, 0.0)</td>\n    </tr>\n    <tr>\n      <th>13</th>\n      <td>% employed in commerce</td>\n      <td>6.15</td>\n      <td>0.0</td>\n      <td>2.50</td>\n      <td>0.000</td>\n      <td>(1.265, 0.081)</td>\n      <td>(0.146, 0.133)</td>\n    </tr>\n    <tr>\n      <th>14</th>\n      <td>% employed in service</td>\n      <td>7.95</td>\n      <td>0.0</td>\n      <td>3.29</td>\n      <td>0.000</td>\n      <td>(1.407, 0.09)</td>\n      <td>(0.034, 0.033)</td>\n    </tr>\n    <tr>\n      <th>15</th>\n      <td>% employed in industry</td>\n      <td>8.05</td>\n      <td>0.0</td>\n      <td>1.80</td>\n      <td>0.000</td>\n      <td>(0.53, 0.038)</td>\n      <td>(0.0, 0.0)</td>\n    </tr>\n  </tbody>\n</table>\n</div>"
     },
     "execution_count": 5,
     "metadata": {},
     "output_type": "execute_result"
    }
   ],
   "source": [
    "yticklabels_without_number = [\n",
    "    '% population 0 - 5 years',\n",
    "    '% population 6 - 14 years',\n",
    "    '% population 15 - 24 years',\n",
    "    '% population 25 - 39 years',\n",
    "    '% population 40 - 59 years',\n",
    "    '% population +60 years',\n",
    "    '% urban population',\n",
    "    'IDHM - income',\n",
    "    'Gini coefficient',\n",
    "    'Social transfer\\nper capita',\n",
    "    'Activity rate',\n",
    "    '% informal workers',\n",
    "    '% employed in agriculture',\n",
    "    '% employed in commerce',\n",
    "    '% employed in service',\n",
    "    '% employed in industry']\n",
    "\n",
    "selected_attributes = ['PERCENTUAL_POPULACAO_0_A_5_ANOS',\n",
    "          'PERCENTUAL_POPULACAO_6_A_14_ANOS',\n",
    "          'PERCENTUAL_POPULACAO_15_A_24_ANOS',\n",
    "          'PERCENTUAL_POPULACAO_25_A_39_ANOS',\n",
    "          'PERCENTUAL_POPULACAO_40_A_59_ANOS',\n",
    "          'PERCENTUAL_POPULACAO_60_ANOS_OU_MAIS',\n",
    "         'PERCENTUAL_POPULACAO_URBANA',\n",
    "         'IDHM_RENDA',\n",
    "          'GINI',\n",
    "          'TRANSFERENCIA_PERCAPTA_BOLSA_FAMILIA',\n",
    "         'TAXA_ATIVIDADE',\n",
    "         'PERCENTUAL_TRABALHADORES_INFORMAIS',\n",
    "          'PERCENTUAL_OCUPADOS_AGROPECUARIA',\n",
    "          'PERCENTUAL_OCUPADOS_COMERCIO',\n",
    "         'PERCENTUAL_OCUPADOS_SERVICO',\n",
    "         'PERCENTUAL_OCUPADOS_INDUSTRIA']\n",
    "\n",
    "df_oddsratio = pd.DataFrame(columns=['attribute', 'odds_ratio_control_opposite_end', 'p_value_control_opposite_end', 'odds_ratio_control_subtracted', 'p_value_control_subtracted', 'odds_ratio_control_random_weighted', 'p_value_control_random_weighted'])\n",
    "\n",
    "for i in range(len(selected_attributes)):\n",
    "    attribute = selected_attributes[i]\n",
    "    label = yticklabels_without_number[i]\n",
    "    print('\\n'+label)\n",
    "\n",
    "    oddsratio, pvalue = calculate_odds_ratio(attribute)\n",
    "    print(oddsratio)\n",
    "    print(pvalue)\n",
    "\n",
    "    df_oddsratio = df_oddsratio.append({'attribute': label, 'odds_ratio_control_opposite_end': oddsratio[0], 'p_value_control_opposite_end': pvalue[0], 'odds_ratio_control_subtracted': oddsratio[1], 'p_value_control_subtracted': pvalue[1], 'odds_ratio_control_random_weighted': oddsratio[2], 'p_value_control_random_weighted': pvalue[2]}, ignore_index=True)\n",
    "\n",
    "df_oddsratio"
   ],
   "metadata": {
    "collapsed": false,
    "ExecuteTime": {
     "end_time": "2023-08-04T19:06:04.130154867Z",
     "start_time": "2023-08-04T19:03:43.795894605Z"
    }
   }
  },
  {
   "cell_type": "code",
   "execution_count": 6,
   "outputs": [],
   "source": [
    "filename = 'data/df_oddsratio.csv'\n",
    "df_oddsratio.to_csv(filename, index=True)"
   ],
   "metadata": {
    "collapsed": false,
    "ExecuteTime": {
     "end_time": "2023-08-04T19:06:04.158304195Z",
     "start_time": "2023-08-04T19:06:04.124336321Z"
    }
   }
  },
  {
   "cell_type": "code",
   "execution_count": 7,
   "outputs": [
    {
     "data": {
      "text/plain": "                      attribute  odds_ratio_control_opposite_end  \\\n0      % population 0 - 5 years                             0.10   \n1     % population 6 - 14 years                             0.07   \n2    % population 15 - 24 years                             0.08   \n3    % population 25 - 39 years                             2.47   \n4    % population 40 - 59 years                             7.60   \n5        % population +60 years                             2.87   \n6            % urban population                            21.35   \n7                 IDHM - income                            25.06   \n8              Gini coefficient                             0.22   \n9   Social transfer\\nper capita                             0.05   \n10                Activity rate                             2.35   \n11           % informal workers                             0.02   \n12    % employed in agriculture                             0.06   \n13       % employed in commerce                             6.15   \n14        % employed in service                             7.95   \n15       % employed in industry                             8.05   \n\n    p_value_control_opposite_end  odds_ratio_control_subtracted  \\\n0                            0.0                           0.17   \n1                            0.0                           0.16   \n2                            0.0                           0.15   \n3                            0.0                           1.66   \n4                            0.0                           1.15   \n5                            0.0                           1.64   \n6                            0.0                           6.77   \n7                            0.0                           2.50   \n8                            0.0                           0.37   \n9                            0.0                           0.10   \n10                           0.0                           0.62   \n11                           0.0                           0.08   \n12                           0.0                           0.22   \n13                           0.0                           2.50   \n14                           0.0                           3.29   \n15                           0.0                           1.80   \n\n    p_value_control_subtracted odds_ratio_control_random_weighted  \\\n0                        0.000                      (0.663, 0.07)   \n1                        0.000                     (0.679, 0.069)   \n2                        0.000                      (0.408, 0.03)   \n3                        0.000                     (0.574, 0.042)   \n4                        0.289                      (0.94, 0.061)   \n5                        0.000                     (1.277, 0.085)   \n6                        0.000                     (2.069, 0.133)   \n7                        0.000                     (0.928, 0.078)   \n8                        0.000                     (0.759, 0.046)   \n9                        0.000                      (0.59, 0.059)   \n10                       0.000                     (0.416, 0.026)   \n11                       0.000                       (0.33, 0.03)   \n12                       0.000                     (0.413, 0.028)   \n13                       0.000                     (1.265, 0.081)   \n14                       0.000                      (1.407, 0.09)   \n15                       0.000                      (0.53, 0.038)   \n\n   p_value_control_random_weighted  \n0                   (0.087, 0.104)  \n1                   (0.118, 0.137)  \n2                       (0.0, 0.0)  \n3                     (0.0, 0.001)  \n4                   (0.652, 0.244)  \n5                    (0.123, 0.13)  \n6                       (0.0, 0.0)  \n7                   (0.563, 0.265)  \n8                   (0.089, 0.077)  \n9                   (0.058, 0.067)  \n10                      (0.0, 0.0)  \n11                      (0.0, 0.0)  \n12                      (0.0, 0.0)  \n13                  (0.146, 0.133)  \n14                  (0.034, 0.033)  \n15                      (0.0, 0.0)  ",
      "text/html": "<div>\n<style scoped>\n    .dataframe tbody tr th:only-of-type {\n        vertical-align: middle;\n    }\n\n    .dataframe tbody tr th {\n        vertical-align: top;\n    }\n\n    .dataframe thead th {\n        text-align: right;\n    }\n</style>\n<table border=\"1\" class=\"dataframe\">\n  <thead>\n    <tr style=\"text-align: right;\">\n      <th></th>\n      <th>attribute</th>\n      <th>odds_ratio_control_opposite_end</th>\n      <th>p_value_control_opposite_end</th>\n      <th>odds_ratio_control_subtracted</th>\n      <th>p_value_control_subtracted</th>\n      <th>odds_ratio_control_random_weighted</th>\n      <th>p_value_control_random_weighted</th>\n    </tr>\n  </thead>\n  <tbody>\n    <tr>\n      <th>0</th>\n      <td>% population 0 - 5 years</td>\n      <td>0.10</td>\n      <td>0.0</td>\n      <td>0.17</td>\n      <td>0.000</td>\n      <td>(0.663, 0.07)</td>\n      <td>(0.087, 0.104)</td>\n    </tr>\n    <tr>\n      <th>1</th>\n      <td>% population 6 - 14 years</td>\n      <td>0.07</td>\n      <td>0.0</td>\n      <td>0.16</td>\n      <td>0.000</td>\n      <td>(0.679, 0.069)</td>\n      <td>(0.118, 0.137)</td>\n    </tr>\n    <tr>\n      <th>2</th>\n      <td>% population 15 - 24 years</td>\n      <td>0.08</td>\n      <td>0.0</td>\n      <td>0.15</td>\n      <td>0.000</td>\n      <td>(0.408, 0.03)</td>\n      <td>(0.0, 0.0)</td>\n    </tr>\n    <tr>\n      <th>3</th>\n      <td>% population 25 - 39 years</td>\n      <td>2.47</td>\n      <td>0.0</td>\n      <td>1.66</td>\n      <td>0.000</td>\n      <td>(0.574, 0.042)</td>\n      <td>(0.0, 0.001)</td>\n    </tr>\n    <tr>\n      <th>4</th>\n      <td>% population 40 - 59 years</td>\n      <td>7.60</td>\n      <td>0.0</td>\n      <td>1.15</td>\n      <td>0.289</td>\n      <td>(0.94, 0.061)</td>\n      <td>(0.652, 0.244)</td>\n    </tr>\n    <tr>\n      <th>5</th>\n      <td>% population +60 years</td>\n      <td>2.87</td>\n      <td>0.0</td>\n      <td>1.64</td>\n      <td>0.000</td>\n      <td>(1.277, 0.085)</td>\n      <td>(0.123, 0.13)</td>\n    </tr>\n    <tr>\n      <th>6</th>\n      <td>% urban population</td>\n      <td>21.35</td>\n      <td>0.0</td>\n      <td>6.77</td>\n      <td>0.000</td>\n      <td>(2.069, 0.133)</td>\n      <td>(0.0, 0.0)</td>\n    </tr>\n    <tr>\n      <th>7</th>\n      <td>IDHM - income</td>\n      <td>25.06</td>\n      <td>0.0</td>\n      <td>2.50</td>\n      <td>0.000</td>\n      <td>(0.928, 0.078)</td>\n      <td>(0.563, 0.265)</td>\n    </tr>\n    <tr>\n      <th>8</th>\n      <td>Gini coefficient</td>\n      <td>0.22</td>\n      <td>0.0</td>\n      <td>0.37</td>\n      <td>0.000</td>\n      <td>(0.759, 0.046)</td>\n      <td>(0.089, 0.077)</td>\n    </tr>\n    <tr>\n      <th>9</th>\n      <td>Social transfer\\nper capita</td>\n      <td>0.05</td>\n      <td>0.0</td>\n      <td>0.10</td>\n      <td>0.000</td>\n      <td>(0.59, 0.059)</td>\n      <td>(0.058, 0.067)</td>\n    </tr>\n    <tr>\n      <th>10</th>\n      <td>Activity rate</td>\n      <td>2.35</td>\n      <td>0.0</td>\n      <td>0.62</td>\n      <td>0.000</td>\n      <td>(0.416, 0.026)</td>\n      <td>(0.0, 0.0)</td>\n    </tr>\n    <tr>\n      <th>11</th>\n      <td>% informal workers</td>\n      <td>0.02</td>\n      <td>0.0</td>\n      <td>0.08</td>\n      <td>0.000</td>\n      <td>(0.33, 0.03)</td>\n      <td>(0.0, 0.0)</td>\n    </tr>\n    <tr>\n      <th>12</th>\n      <td>% employed in agriculture</td>\n      <td>0.06</td>\n      <td>0.0</td>\n      <td>0.22</td>\n      <td>0.000</td>\n      <td>(0.413, 0.028)</td>\n      <td>(0.0, 0.0)</td>\n    </tr>\n    <tr>\n      <th>13</th>\n      <td>% employed in commerce</td>\n      <td>6.15</td>\n      <td>0.0</td>\n      <td>2.50</td>\n      <td>0.000</td>\n      <td>(1.265, 0.081)</td>\n      <td>(0.146, 0.133)</td>\n    </tr>\n    <tr>\n      <th>14</th>\n      <td>% employed in service</td>\n      <td>7.95</td>\n      <td>0.0</td>\n      <td>3.29</td>\n      <td>0.000</td>\n      <td>(1.407, 0.09)</td>\n      <td>(0.034, 0.033)</td>\n    </tr>\n    <tr>\n      <th>15</th>\n      <td>% employed in industry</td>\n      <td>8.05</td>\n      <td>0.0</td>\n      <td>1.80</td>\n      <td>0.000</td>\n      <td>(0.53, 0.038)</td>\n      <td>(0.0, 0.0)</td>\n    </tr>\n  </tbody>\n</table>\n</div>"
     },
     "execution_count": 7,
     "metadata": {},
     "output_type": "execute_result"
    }
   ],
   "source": [
    "df_oddsratio"
   ],
   "metadata": {
    "collapsed": false,
    "ExecuteTime": {
     "end_time": "2023-08-04T19:06:04.346559885Z",
     "start_time": "2023-08-04T19:06:04.147598424Z"
    }
   }
  },
  {
   "cell_type": "code",
   "execution_count": 8,
   "outputs": [
    {
     "data": {
      "text/plain": "                  PERCENTUAL_POPULACAO_URBANA                        \\\n                                        count       mean        std   \nk5_label                                                              \nHigh SV                                1078.0  60.832646  17.324341   \nIntermediate SV                         948.0  78.375630  12.797314   \nRural with low SV                       825.0  45.433594  15.674658   \nVery high SV                           1538.0  48.939215  16.819225   \nVery low SV                            1176.0  87.215144   9.844206   \n\n                                                                           \n                         min        25%        50%        75%         max  \nk5_label                                                                   \nHigh SV             8.908116  48.308254  61.928538  74.302471   98.904179  \nIntermediate SV    29.620340  69.747152  79.685140  88.160414  100.000000  \nRural with low SV   5.521845  33.333333  46.511050  56.983161   92.593402  \nVery high SV        4.178855  36.555097  48.736304  60.966647  100.000000  \nVery low SV        41.777151  81.136576  89.223446  95.022127  100.000000  ",
      "text/html": "<div>\n<style scoped>\n    .dataframe tbody tr th:only-of-type {\n        vertical-align: middle;\n    }\n\n    .dataframe tbody tr th {\n        vertical-align: top;\n    }\n\n    .dataframe thead tr th {\n        text-align: left;\n    }\n\n    .dataframe thead tr:last-of-type th {\n        text-align: right;\n    }\n</style>\n<table border=\"1\" class=\"dataframe\">\n  <thead>\n    <tr>\n      <th></th>\n      <th colspan=\"8\" halign=\"left\">PERCENTUAL_POPULACAO_URBANA</th>\n    </tr>\n    <tr>\n      <th></th>\n      <th>count</th>\n      <th>mean</th>\n      <th>std</th>\n      <th>min</th>\n      <th>25%</th>\n      <th>50%</th>\n      <th>75%</th>\n      <th>max</th>\n    </tr>\n    <tr>\n      <th>k5_label</th>\n      <th></th>\n      <th></th>\n      <th></th>\n      <th></th>\n      <th></th>\n      <th></th>\n      <th></th>\n      <th></th>\n    </tr>\n  </thead>\n  <tbody>\n    <tr>\n      <th>High SV</th>\n      <td>1078.0</td>\n      <td>60.832646</td>\n      <td>17.324341</td>\n      <td>8.908116</td>\n      <td>48.308254</td>\n      <td>61.928538</td>\n      <td>74.302471</td>\n      <td>98.904179</td>\n    </tr>\n    <tr>\n      <th>Intermediate SV</th>\n      <td>948.0</td>\n      <td>78.375630</td>\n      <td>12.797314</td>\n      <td>29.620340</td>\n      <td>69.747152</td>\n      <td>79.685140</td>\n      <td>88.160414</td>\n      <td>100.000000</td>\n    </tr>\n    <tr>\n      <th>Rural with low SV</th>\n      <td>825.0</td>\n      <td>45.433594</td>\n      <td>15.674658</td>\n      <td>5.521845</td>\n      <td>33.333333</td>\n      <td>46.511050</td>\n      <td>56.983161</td>\n      <td>92.593402</td>\n    </tr>\n    <tr>\n      <th>Very high SV</th>\n      <td>1538.0</td>\n      <td>48.939215</td>\n      <td>16.819225</td>\n      <td>4.178855</td>\n      <td>36.555097</td>\n      <td>48.736304</td>\n      <td>60.966647</td>\n      <td>100.000000</td>\n    </tr>\n    <tr>\n      <th>Very low SV</th>\n      <td>1176.0</td>\n      <td>87.215144</td>\n      <td>9.844206</td>\n      <td>41.777151</td>\n      <td>81.136576</td>\n      <td>89.223446</td>\n      <td>95.022127</td>\n      <td>100.000000</td>\n    </tr>\n  </tbody>\n</table>\n</div>"
     },
     "execution_count": 8,
     "metadata": {},
     "output_type": "execute_result"
    }
   ],
   "source": [
    "df_base[['k5_label', 'PERCENTUAL_POPULACAO_URBANA']].groupby('k5_label').describe()"
   ],
   "metadata": {
    "collapsed": false,
    "ExecuteTime": {
     "end_time": "2023-08-04T19:06:04.380298737Z",
     "start_time": "2023-08-04T19:06:04.210207053Z"
    }
   }
  }
 ],
 "metadata": {
  "kernelspec": {
   "display_name": "Python 3",
   "language": "python",
   "name": "python3"
  },
  "language_info": {
   "codemirror_mode": {
    "name": "ipython",
    "version": 2
   },
   "file_extension": ".py",
   "mimetype": "text/x-python",
   "name": "python",
   "nbconvert_exporter": "python",
   "pygments_lexer": "ipython2",
   "version": "2.7.6"
  }
 },
 "nbformat": 4,
 "nbformat_minor": 0
}
