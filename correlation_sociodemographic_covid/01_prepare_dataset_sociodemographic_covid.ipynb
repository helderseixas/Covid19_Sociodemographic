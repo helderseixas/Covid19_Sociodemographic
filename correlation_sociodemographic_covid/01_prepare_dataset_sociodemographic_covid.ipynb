{
 "cells": [
  {
   "cell_type": "markdown",
   "source": [
    "# Prepare the dataset to sociodemographic and covid analysis\n",
    "## Workflow: execute after mortality_levels noteboks"
   ],
   "metadata": {
    "collapsed": false
   }
  },
  {
   "cell_type": "code",
   "execution_count": 1,
   "outputs": [],
   "source": [
    "import pandas as pd"
   ],
   "metadata": {
    "collapsed": false,
    "ExecuteTime": {
     "end_time": "2023-07-29T18:41:28.721214275Z",
     "start_time": "2023-07-29T18:41:28.718661873Z"
    }
   }
  },
  {
   "cell_type": "code",
   "execution_count": 2,
   "outputs": [],
   "source": [
    "df_mortality = pd.read_csv('../mortality_levels/data/df_mortality.csv')[['CODIGO_MUNICIPIO_6', 'TAXA_OBITOS_ACUMULADO', 'TAXA_OBITOS_PRIMEIRO_SEMESTRE_2020', 'TAXA_OBITOS_2020', 'TAXA_OBITOS_2021', 'TAXA_OBITOS_2022', 'NIVEL_TAXA_OBITOS_ACUMULADO',\n",
    "       'NIVEL_LABEL_TAXA_OBITOS_ACUMULADO', 'NIVEL_TAXA_OBITOS_PRIMEIRO_SEMESTRE_2020','NIVEL_LABEL_TAXA_OBITOS_PRIMEIRO_SEMESTRE_2020', 'NIVEL_TAXA_OBITOS_2020',\n",
    "       'NIVEL_LABEL_TAXA_OBITOS_2020',\n",
    "       'NIVEL_TAXA_OBITOS_2021',\n",
    "       'NIVEL_LABEL_TAXA_OBITOS_2021',\n",
    "       'NIVEL_TAXA_OBITOS_2022',\n",
    "       'NIVEL_LABEL_TAXA_OBITOS_2022']].copy()\n",
    "df_mortality.CODIGO_MUNICIPIO_6 = df_mortality.CODIGO_MUNICIPIO_6.astype('Int64')"
   ],
   "metadata": {
    "collapsed": false,
    "ExecuteTime": {
     "end_time": "2023-07-29T18:41:28.985261670Z",
     "start_time": "2023-07-29T18:41:28.722937133Z"
    }
   }
  },
  {
   "cell_type": "code",
   "execution_count": 3,
   "outputs": [],
   "source": [
    "df_base = pd.read_csv('../covid/data/input/df_municpal.csv', index_col=0)\n",
    "df_base.CODIGO_MUNICIPIO_6 = df_base.CODIGO_MUNICIPIO_6.astype('Int64')"
   ],
   "metadata": {
    "collapsed": false,
    "ExecuteTime": {
     "end_time": "2023-07-29T18:41:29.183681440Z",
     "start_time": "2023-07-29T18:41:28.986331190Z"
    }
   }
  },
  {
   "cell_type": "code",
   "execution_count": 4,
   "outputs": [],
   "source": [
    "df_sociodemographic_covid = df_base.merge(df_mortality, how='left', left_on='CODIGO_MUNICIPIO_6', right_on='CODIGO_MUNICIPIO_6')"
   ],
   "metadata": {
    "collapsed": false,
    "ExecuteTime": {
     "end_time": "2023-07-29T18:41:29.281220324Z",
     "start_time": "2023-07-29T18:41:29.185343519Z"
    }
   }
  },
  {
   "cell_type": "code",
   "execution_count": 5,
   "outputs": [],
   "source": [
    "filename = 'data/df_sociodemographic_covid.csv'\n",
    "df_sociodemographic_covid.to_csv(filename, index=True)"
   ],
   "metadata": {
    "collapsed": false,
    "ExecuteTime": {
     "end_time": "2023-07-29T18:41:30.131172017Z",
     "start_time": "2023-07-29T18:41:29.282757867Z"
    }
   }
  },
  {
   "cell_type": "code",
   "execution_count": 6,
   "outputs": [
    {
     "data": {
      "text/plain": "      CODIGO_MUNICIPIO_6 SIGLA_ESTADO  CODIGO_ESTADO        REGIAO  \\\n0                 110001           RO             11         Norte   \n1                 110002           RO             11         Norte   \n2                 110003           RO             11         Norte   \n3                 110004           RO             11         Norte   \n4                 110005           RO             11         Norte   \n...                  ...          ...            ...           ...   \n5565              522200           GO             52  Centro-Oeste   \n5566              522205           GO             52  Centro-Oeste   \n5567              522220           GO             52  Centro-Oeste   \n5568              522230           GO             52  Centro-Oeste   \n5569              530010           DF             53  Centro-Oeste   \n\n          REGIAO_SAUDE  CODIGO_REGIAO_SAUDE  REGIAO_METROPOLITANA  \\\n0         ZONA DA MATA              11005.0                   0.0   \n1       VALE DO JAMARI              11001.0                   0.0   \n2             CONE SUL              11006.0                   0.0   \n3                 CAFE              11002.0                   0.0   \n4             CONE SUL              11006.0                   0.0   \n...                ...                  ...                   ...   \n5565        CENTRO SUL              52002.0                   0.0   \n5566        CENTRO SUL              52002.0                   0.0   \n5567     ENTORNO NORTE              52003.0                   0.0   \n5568   SAO PATRICIO II              52018.0                   0.0   \n5569  DISTRITO FEDERAL              53001.0                   1.0   \n\n                ESTADO  CODIGO_MUNICIPIO_7  POPULACAO_ESTIMADA  ...  \\\n0             Rondônia             1100015               22945  ...   \n1             Rondônia             1100023              107863  ...   \n2             Rondônia             1100031                5312  ...   \n3             Rondônia             1100049               85359  ...   \n4             Rondônia             1100056               16323  ...   \n...                ...                 ...                 ...  ...   \n5565             Goiás             5222005               13863  ...   \n5566             Goiás             5222054                8743  ...   \n5567             Goiás             5222203                6171  ...   \n5568             Goiás             5222302                5821  ...   \n5569  Distrito Federal             5300108             3015268  ...   \n\n      NIVEL_TAXA_OBITOS_ACUMULADO  NIVEL_LABEL_TAXA_OBITOS_ACUMULADO  \\\n0                               2                          Very high   \n1                               4                     Extremely high   \n2                               3                       Intermediate   \n3                               2                          Very high   \n4                               2                          Very high   \n...                           ...                                ...   \n5565                            0                               High   \n5566                            0                               High   \n5567                            1                                Low   \n5568                            1                                Low   \n5569                            0                               High   \n\n      NIVEL_TAXA_OBITOS_PRIMEIRO_SEMESTRE_2020  \\\n0                                            4   \n1                                            5   \n2                                            0   \n3                                            0   \n4                                            0   \n...                                        ...   \n5565                                         4   \n5566                                         0   \n5567                                         4   \n5568                                         0   \n5569                                         5   \n\n      NIVEL_LABEL_TAXA_OBITOS_PRIMEIRO_SEMESTRE_2020 NIVEL_TAXA_OBITOS_2020  \\\n0                                           Very low                      4   \n1                                       Intermediate                      1   \n2                                                Low                      4   \n3                                                Low                      4   \n4                                                Low                      0   \n...                                              ...                    ...   \n5565                                        Very low                      0   \n5566                                             Low                      1   \n5567                                        Very low                      0   \n5568                                             Low                      4   \n5569                                    Intermediate                      1   \n\n      NIVEL_LABEL_TAXA_OBITOS_2020 NIVEL_TAXA_OBITOS_2021  \\\n0                     Intermediate                      4   \n1                             High                      4   \n2                     Intermediate                      0   \n3                     Intermediate                      4   \n4                              Low                      4   \n...                            ...                    ...   \n5565                           Low                      1   \n5566                          High                      1   \n5567                           Low                      3   \n5568                  Intermediate                      5   \n5569                          High                      0   \n\n      NIVEL_LABEL_TAXA_OBITOS_2021  NIVEL_TAXA_OBITOS_2022  \\\n0                        Very high                       5   \n1                        Very high                       0   \n2                     Intermediate                       2   \n3                        Very high                       2   \n4                        Very high                       5   \n...                            ...                     ...   \n5565                          High                       5   \n5566                          High                       2   \n5567                      Very low                       0   \n5568                           Low                       2   \n5569                  Intermediate                       2   \n\n      NIVEL_LABEL_TAXA_OBITOS_2022  \n0                             High  \n1                     Intermediate  \n2                              Low  \n3                              Low  \n4                             High  \n...                            ...  \n5565                          High  \n5566                           Low  \n5567                  Intermediate  \n5568                           Low  \n5569                           Low  \n\n[5570 rows x 277 columns]",
      "text/html": "<div>\n<style scoped>\n    .dataframe tbody tr th:only-of-type {\n        vertical-align: middle;\n    }\n\n    .dataframe tbody tr th {\n        vertical-align: top;\n    }\n\n    .dataframe thead th {\n        text-align: right;\n    }\n</style>\n<table border=\"1\" class=\"dataframe\">\n  <thead>\n    <tr style=\"text-align: right;\">\n      <th></th>\n      <th>CODIGO_MUNICIPIO_6</th>\n      <th>SIGLA_ESTADO</th>\n      <th>CODIGO_ESTADO</th>\n      <th>REGIAO</th>\n      <th>REGIAO_SAUDE</th>\n      <th>CODIGO_REGIAO_SAUDE</th>\n      <th>REGIAO_METROPOLITANA</th>\n      <th>ESTADO</th>\n      <th>CODIGO_MUNICIPIO_7</th>\n      <th>POPULACAO_ESTIMADA</th>\n      <th>...</th>\n      <th>NIVEL_TAXA_OBITOS_ACUMULADO</th>\n      <th>NIVEL_LABEL_TAXA_OBITOS_ACUMULADO</th>\n      <th>NIVEL_TAXA_OBITOS_PRIMEIRO_SEMESTRE_2020</th>\n      <th>NIVEL_LABEL_TAXA_OBITOS_PRIMEIRO_SEMESTRE_2020</th>\n      <th>NIVEL_TAXA_OBITOS_2020</th>\n      <th>NIVEL_LABEL_TAXA_OBITOS_2020</th>\n      <th>NIVEL_TAXA_OBITOS_2021</th>\n      <th>NIVEL_LABEL_TAXA_OBITOS_2021</th>\n      <th>NIVEL_TAXA_OBITOS_2022</th>\n      <th>NIVEL_LABEL_TAXA_OBITOS_2022</th>\n    </tr>\n  </thead>\n  <tbody>\n    <tr>\n      <th>0</th>\n      <td>110001</td>\n      <td>RO</td>\n      <td>11</td>\n      <td>Norte</td>\n      <td>ZONA DA MATA</td>\n      <td>11005.0</td>\n      <td>0.0</td>\n      <td>Rondônia</td>\n      <td>1100015</td>\n      <td>22945</td>\n      <td>...</td>\n      <td>2</td>\n      <td>Very high</td>\n      <td>4</td>\n      <td>Very low</td>\n      <td>4</td>\n      <td>Intermediate</td>\n      <td>4</td>\n      <td>Very high</td>\n      <td>5</td>\n      <td>High</td>\n    </tr>\n    <tr>\n      <th>1</th>\n      <td>110002</td>\n      <td>RO</td>\n      <td>11</td>\n      <td>Norte</td>\n      <td>VALE DO JAMARI</td>\n      <td>11001.0</td>\n      <td>0.0</td>\n      <td>Rondônia</td>\n      <td>1100023</td>\n      <td>107863</td>\n      <td>...</td>\n      <td>4</td>\n      <td>Extremely high</td>\n      <td>5</td>\n      <td>Intermediate</td>\n      <td>1</td>\n      <td>High</td>\n      <td>4</td>\n      <td>Very high</td>\n      <td>0</td>\n      <td>Intermediate</td>\n    </tr>\n    <tr>\n      <th>2</th>\n      <td>110003</td>\n      <td>RO</td>\n      <td>11</td>\n      <td>Norte</td>\n      <td>CONE SUL</td>\n      <td>11006.0</td>\n      <td>0.0</td>\n      <td>Rondônia</td>\n      <td>1100031</td>\n      <td>5312</td>\n      <td>...</td>\n      <td>3</td>\n      <td>Intermediate</td>\n      <td>0</td>\n      <td>Low</td>\n      <td>4</td>\n      <td>Intermediate</td>\n      <td>0</td>\n      <td>Intermediate</td>\n      <td>2</td>\n      <td>Low</td>\n    </tr>\n    <tr>\n      <th>3</th>\n      <td>110004</td>\n      <td>RO</td>\n      <td>11</td>\n      <td>Norte</td>\n      <td>CAFE</td>\n      <td>11002.0</td>\n      <td>0.0</td>\n      <td>Rondônia</td>\n      <td>1100049</td>\n      <td>85359</td>\n      <td>...</td>\n      <td>2</td>\n      <td>Very high</td>\n      <td>0</td>\n      <td>Low</td>\n      <td>4</td>\n      <td>Intermediate</td>\n      <td>4</td>\n      <td>Very high</td>\n      <td>2</td>\n      <td>Low</td>\n    </tr>\n    <tr>\n      <th>4</th>\n      <td>110005</td>\n      <td>RO</td>\n      <td>11</td>\n      <td>Norte</td>\n      <td>CONE SUL</td>\n      <td>11006.0</td>\n      <td>0.0</td>\n      <td>Rondônia</td>\n      <td>1100056</td>\n      <td>16323</td>\n      <td>...</td>\n      <td>2</td>\n      <td>Very high</td>\n      <td>0</td>\n      <td>Low</td>\n      <td>0</td>\n      <td>Low</td>\n      <td>4</td>\n      <td>Very high</td>\n      <td>5</td>\n      <td>High</td>\n    </tr>\n    <tr>\n      <th>...</th>\n      <td>...</td>\n      <td>...</td>\n      <td>...</td>\n      <td>...</td>\n      <td>...</td>\n      <td>...</td>\n      <td>...</td>\n      <td>...</td>\n      <td>...</td>\n      <td>...</td>\n      <td>...</td>\n      <td>...</td>\n      <td>...</td>\n      <td>...</td>\n      <td>...</td>\n      <td>...</td>\n      <td>...</td>\n      <td>...</td>\n      <td>...</td>\n      <td>...</td>\n      <td>...</td>\n    </tr>\n    <tr>\n      <th>5565</th>\n      <td>522200</td>\n      <td>GO</td>\n      <td>52</td>\n      <td>Centro-Oeste</td>\n      <td>CENTRO SUL</td>\n      <td>52002.0</td>\n      <td>0.0</td>\n      <td>Goiás</td>\n      <td>5222005</td>\n      <td>13863</td>\n      <td>...</td>\n      <td>0</td>\n      <td>High</td>\n      <td>4</td>\n      <td>Very low</td>\n      <td>0</td>\n      <td>Low</td>\n      <td>1</td>\n      <td>High</td>\n      <td>5</td>\n      <td>High</td>\n    </tr>\n    <tr>\n      <th>5566</th>\n      <td>522205</td>\n      <td>GO</td>\n      <td>52</td>\n      <td>Centro-Oeste</td>\n      <td>CENTRO SUL</td>\n      <td>52002.0</td>\n      <td>0.0</td>\n      <td>Goiás</td>\n      <td>5222054</td>\n      <td>8743</td>\n      <td>...</td>\n      <td>0</td>\n      <td>High</td>\n      <td>0</td>\n      <td>Low</td>\n      <td>1</td>\n      <td>High</td>\n      <td>1</td>\n      <td>High</td>\n      <td>2</td>\n      <td>Low</td>\n    </tr>\n    <tr>\n      <th>5567</th>\n      <td>522220</td>\n      <td>GO</td>\n      <td>52</td>\n      <td>Centro-Oeste</td>\n      <td>ENTORNO NORTE</td>\n      <td>52003.0</td>\n      <td>0.0</td>\n      <td>Goiás</td>\n      <td>5222203</td>\n      <td>6171</td>\n      <td>...</td>\n      <td>1</td>\n      <td>Low</td>\n      <td>4</td>\n      <td>Very low</td>\n      <td>0</td>\n      <td>Low</td>\n      <td>3</td>\n      <td>Very low</td>\n      <td>0</td>\n      <td>Intermediate</td>\n    </tr>\n    <tr>\n      <th>5568</th>\n      <td>522230</td>\n      <td>GO</td>\n      <td>52</td>\n      <td>Centro-Oeste</td>\n      <td>SAO PATRICIO II</td>\n      <td>52018.0</td>\n      <td>0.0</td>\n      <td>Goiás</td>\n      <td>5222302</td>\n      <td>5821</td>\n      <td>...</td>\n      <td>1</td>\n      <td>Low</td>\n      <td>0</td>\n      <td>Low</td>\n      <td>4</td>\n      <td>Intermediate</td>\n      <td>5</td>\n      <td>Low</td>\n      <td>2</td>\n      <td>Low</td>\n    </tr>\n    <tr>\n      <th>5569</th>\n      <td>530010</td>\n      <td>DF</td>\n      <td>53</td>\n      <td>Centro-Oeste</td>\n      <td>DISTRITO FEDERAL</td>\n      <td>53001.0</td>\n      <td>1.0</td>\n      <td>Distrito Federal</td>\n      <td>5300108</td>\n      <td>3015268</td>\n      <td>...</td>\n      <td>0</td>\n      <td>High</td>\n      <td>5</td>\n      <td>Intermediate</td>\n      <td>1</td>\n      <td>High</td>\n      <td>0</td>\n      <td>Intermediate</td>\n      <td>2</td>\n      <td>Low</td>\n    </tr>\n  </tbody>\n</table>\n<p>5570 rows × 277 columns</p>\n</div>"
     },
     "execution_count": 6,
     "metadata": {},
     "output_type": "execute_result"
    }
   ],
   "source": [
    "df_sociodemographic_covid"
   ],
   "metadata": {
    "collapsed": false,
    "ExecuteTime": {
     "end_time": "2023-07-29T18:41:30.211951070Z",
     "start_time": "2023-07-29T18:41:30.136670263Z"
    }
   }
  }
 ],
 "metadata": {
  "kernelspec": {
   "display_name": "Python 3",
   "language": "python",
   "name": "python3"
  },
  "language_info": {
   "codemirror_mode": {
    "name": "ipython",
    "version": 2
   },
   "file_extension": ".py",
   "mimetype": "text/x-python",
   "name": "python",
   "nbconvert_exporter": "python",
   "pygments_lexer": "ipython2",
   "version": "2.7.6"
  }
 },
 "nbformat": 4,
 "nbformat_minor": 0
}
